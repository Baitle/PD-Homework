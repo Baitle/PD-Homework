{
 "cells": [
  {
   "cell_type": "code",
   "execution_count": 24,
   "metadata": {},
   "outputs": [],
   "source": [
    "import pandas as pd\n",
    "from mlxtend.preprocessing import TransactionEncoder\n",
    "import time\n",
    "import mlxtend.frequent_patterns\n",
    "from mlxtend.frequent_patterns import fpgrowth\n",
    "import matplotlib as plt\n",
    "from mlxtend.frequent_patterns import association_rules"
   ]
  },
  {
   "cell_type": "markdown",
   "metadata": {},
   "source": [
    "### Association Rules"
   ]
  },
  {
   "cell_type": "code",
   "execution_count": 30,
   "metadata": {},
   "outputs": [],
   "source": [
    "def load_transactions (file_name, sep='\\t'):\n",
    "    lines = open(file_name, 'rt').readlines()\n",
    "    transactions_matrix = []\n",
    "    for l in lines:\n",
    "        l = l.rstrip('\\n')\n",
    "        transaction = l.split(sep)\n",
    "        transactions_matrix.append(transaction)\n",
    "    return transactions_matrix"
   ]
  },
  {
   "cell_type": "code",
   "execution_count": 31,
   "metadata": {},
   "outputs": [
    {
     "data": {
      "text/plain": [
       "1101"
      ]
     },
     "execution_count": 31,
     "metadata": {},
     "output_type": "execute_result"
    }
   ],
   "source": [
    "biotargets=load_transactions(\"acts.txt\", sep=\"\\t\")\n",
    "\n",
    "for i in biotargets:\n",
    "    i.pop(0)\n",
    "\n",
    "len(biotargets)"
   ]
  },
  {
   "cell_type": "code",
   "execution_count": 32,
   "metadata": {},
   "outputs": [],
   "source": [
    "#Compute binary database\n",
    "tr_enc = TransactionEncoder()\n",
    "trans_array = tr_enc.fit(biotargets).transform(biotargets)\n",
    "biotargets_df = pd.DataFrame(trans_array, columns=tr_enc.columns_)\n",
    "biotargets_df.drop(biotargets_df.columns[0], axis=1, inplace=True)"
   ]
  },
  {
   "cell_type": "code",
   "execution_count": 33,
   "metadata": {},
   "outputs": [],
   "source": [
    "molecular_labels = pd.read_csv(\"molecular_labels.csv\", header=None)\n",
    "mlabels_df = pd.DataFrame(molecular_labels)\n",
    "mlabels_df.columns= [\"Molecules\"]"
   ]
  },
  {
   "cell_type": "code",
   "execution_count": 34,
   "metadata": {},
   "outputs": [],
   "source": [
    "biotargets_df = biotargets_df.T\n",
    "biotargets_df.columns = mlabels_df[\"Molecules\"]\n",
    "biotargets_df = biotargets_df.T"
   ]
  },
  {
   "cell_type": "code",
   "execution_count": 35,
   "metadata": {},
   "outputs": [
    {
     "data": {
      "text/html": [
       "<div>\n",
       "<style scoped>\n",
       "    .dataframe tbody tr th:only-of-type {\n",
       "        vertical-align: middle;\n",
       "    }\n",
       "\n",
       "    .dataframe tbody tr th {\n",
       "        vertical-align: top;\n",
       "    }\n",
       "\n",
       "    .dataframe thead th {\n",
       "        text-align: right;\n",
       "    }\n",
       "</style>\n",
       "<table border=\"1\" class=\"dataframe\">\n",
       "  <thead>\n",
       "    <tr style=\"text-align: right;\">\n",
       "      <th></th>\n",
       "      <th>5HTR1D</th>\n",
       "      <th>AADAC</th>\n",
       "      <th>AAK1</th>\n",
       "      <th>ABAT</th>\n",
       "      <th>ABCB1</th>\n",
       "      <th>ABCB11</th>\n",
       "      <th>ABCB1A</th>\n",
       "      <th>ABCB1B</th>\n",
       "      <th>ABCC1</th>\n",
       "      <th>ABCC2</th>\n",
       "      <th>...</th>\n",
       "      <th>VDRA</th>\n",
       "      <th>VIM-2</th>\n",
       "      <th>VKORC1</th>\n",
       "      <th>VRK2</th>\n",
       "      <th>WEE1</th>\n",
       "      <th>WEE2</th>\n",
       "      <th>XBP1</th>\n",
       "      <th>XDH</th>\n",
       "      <th>YES1</th>\n",
       "      <th>ZAP70</th>\n",
       "    </tr>\n",
       "    <tr>\n",
       "      <th>Molecules</th>\n",
       "      <th></th>\n",
       "      <th></th>\n",
       "      <th></th>\n",
       "      <th></th>\n",
       "      <th></th>\n",
       "      <th></th>\n",
       "      <th></th>\n",
       "      <th></th>\n",
       "      <th></th>\n",
       "      <th></th>\n",
       "      <th></th>\n",
       "      <th></th>\n",
       "      <th></th>\n",
       "      <th></th>\n",
       "      <th></th>\n",
       "      <th></th>\n",
       "      <th></th>\n",
       "      <th></th>\n",
       "      <th></th>\n",
       "      <th></th>\n",
       "      <th></th>\n",
       "    </tr>\n",
       "  </thead>\n",
       "  <tbody>\n",
       "    <tr>\n",
       "      <th>PDFDA0001</th>\n",
       "      <td>False</td>\n",
       "      <td>False</td>\n",
       "      <td>False</td>\n",
       "      <td>False</td>\n",
       "      <td>True</td>\n",
       "      <td>False</td>\n",
       "      <td>False</td>\n",
       "      <td>False</td>\n",
       "      <td>False</td>\n",
       "      <td>False</td>\n",
       "      <td>...</td>\n",
       "      <td>False</td>\n",
       "      <td>False</td>\n",
       "      <td>False</td>\n",
       "      <td>False</td>\n",
       "      <td>False</td>\n",
       "      <td>False</td>\n",
       "      <td>False</td>\n",
       "      <td>False</td>\n",
       "      <td>False</td>\n",
       "      <td>False</td>\n",
       "    </tr>\n",
       "    <tr>\n",
       "      <th>PDFDA0002</th>\n",
       "      <td>False</td>\n",
       "      <td>False</td>\n",
       "      <td>False</td>\n",
       "      <td>False</td>\n",
       "      <td>False</td>\n",
       "      <td>False</td>\n",
       "      <td>False</td>\n",
       "      <td>False</td>\n",
       "      <td>False</td>\n",
       "      <td>False</td>\n",
       "      <td>...</td>\n",
       "      <td>False</td>\n",
       "      <td>False</td>\n",
       "      <td>False</td>\n",
       "      <td>False</td>\n",
       "      <td>False</td>\n",
       "      <td>False</td>\n",
       "      <td>False</td>\n",
       "      <td>False</td>\n",
       "      <td>False</td>\n",
       "      <td>False</td>\n",
       "    </tr>\n",
       "    <tr>\n",
       "      <th>PDFDA0003</th>\n",
       "      <td>False</td>\n",
       "      <td>False</td>\n",
       "      <td>False</td>\n",
       "      <td>False</td>\n",
       "      <td>False</td>\n",
       "      <td>False</td>\n",
       "      <td>False</td>\n",
       "      <td>False</td>\n",
       "      <td>False</td>\n",
       "      <td>False</td>\n",
       "      <td>...</td>\n",
       "      <td>False</td>\n",
       "      <td>False</td>\n",
       "      <td>False</td>\n",
       "      <td>False</td>\n",
       "      <td>False</td>\n",
       "      <td>False</td>\n",
       "      <td>False</td>\n",
       "      <td>False</td>\n",
       "      <td>False</td>\n",
       "      <td>False</td>\n",
       "    </tr>\n",
       "    <tr>\n",
       "      <th>PDFDA0004</th>\n",
       "      <td>False</td>\n",
       "      <td>False</td>\n",
       "      <td>False</td>\n",
       "      <td>False</td>\n",
       "      <td>False</td>\n",
       "      <td>False</td>\n",
       "      <td>False</td>\n",
       "      <td>False</td>\n",
       "      <td>False</td>\n",
       "      <td>False</td>\n",
       "      <td>...</td>\n",
       "      <td>False</td>\n",
       "      <td>False</td>\n",
       "      <td>False</td>\n",
       "      <td>False</td>\n",
       "      <td>False</td>\n",
       "      <td>False</td>\n",
       "      <td>False</td>\n",
       "      <td>False</td>\n",
       "      <td>False</td>\n",
       "      <td>False</td>\n",
       "    </tr>\n",
       "    <tr>\n",
       "      <th>PDFDA0005</th>\n",
       "      <td>False</td>\n",
       "      <td>False</td>\n",
       "      <td>False</td>\n",
       "      <td>False</td>\n",
       "      <td>False</td>\n",
       "      <td>False</td>\n",
       "      <td>False</td>\n",
       "      <td>False</td>\n",
       "      <td>False</td>\n",
       "      <td>False</td>\n",
       "      <td>...</td>\n",
       "      <td>False</td>\n",
       "      <td>False</td>\n",
       "      <td>False</td>\n",
       "      <td>False</td>\n",
       "      <td>False</td>\n",
       "      <td>False</td>\n",
       "      <td>False</td>\n",
       "      <td>False</td>\n",
       "      <td>False</td>\n",
       "      <td>False</td>\n",
       "    </tr>\n",
       "    <tr>\n",
       "      <th>...</th>\n",
       "      <td>...</td>\n",
       "      <td>...</td>\n",
       "      <td>...</td>\n",
       "      <td>...</td>\n",
       "      <td>...</td>\n",
       "      <td>...</td>\n",
       "      <td>...</td>\n",
       "      <td>...</td>\n",
       "      <td>...</td>\n",
       "      <td>...</td>\n",
       "      <td>...</td>\n",
       "      <td>...</td>\n",
       "      <td>...</td>\n",
       "      <td>...</td>\n",
       "      <td>...</td>\n",
       "      <td>...</td>\n",
       "      <td>...</td>\n",
       "      <td>...</td>\n",
       "      <td>...</td>\n",
       "      <td>...</td>\n",
       "      <td>...</td>\n",
       "    </tr>\n",
       "    <tr>\n",
       "      <th>PDFDA1097</th>\n",
       "      <td>False</td>\n",
       "      <td>False</td>\n",
       "      <td>False</td>\n",
       "      <td>False</td>\n",
       "      <td>False</td>\n",
       "      <td>False</td>\n",
       "      <td>False</td>\n",
       "      <td>False</td>\n",
       "      <td>False</td>\n",
       "      <td>False</td>\n",
       "      <td>...</td>\n",
       "      <td>False</td>\n",
       "      <td>False</td>\n",
       "      <td>False</td>\n",
       "      <td>False</td>\n",
       "      <td>False</td>\n",
       "      <td>False</td>\n",
       "      <td>False</td>\n",
       "      <td>False</td>\n",
       "      <td>False</td>\n",
       "      <td>False</td>\n",
       "    </tr>\n",
       "    <tr>\n",
       "      <th>PDFDA1098</th>\n",
       "      <td>False</td>\n",
       "      <td>False</td>\n",
       "      <td>False</td>\n",
       "      <td>False</td>\n",
       "      <td>False</td>\n",
       "      <td>False</td>\n",
       "      <td>False</td>\n",
       "      <td>False</td>\n",
       "      <td>False</td>\n",
       "      <td>False</td>\n",
       "      <td>...</td>\n",
       "      <td>False</td>\n",
       "      <td>False</td>\n",
       "      <td>False</td>\n",
       "      <td>False</td>\n",
       "      <td>False</td>\n",
       "      <td>False</td>\n",
       "      <td>False</td>\n",
       "      <td>False</td>\n",
       "      <td>False</td>\n",
       "      <td>False</td>\n",
       "    </tr>\n",
       "    <tr>\n",
       "      <th>PDFDA1099</th>\n",
       "      <td>False</td>\n",
       "      <td>False</td>\n",
       "      <td>False</td>\n",
       "      <td>False</td>\n",
       "      <td>False</td>\n",
       "      <td>False</td>\n",
       "      <td>False</td>\n",
       "      <td>False</td>\n",
       "      <td>False</td>\n",
       "      <td>False</td>\n",
       "      <td>...</td>\n",
       "      <td>False</td>\n",
       "      <td>False</td>\n",
       "      <td>False</td>\n",
       "      <td>False</td>\n",
       "      <td>False</td>\n",
       "      <td>False</td>\n",
       "      <td>False</td>\n",
       "      <td>False</td>\n",
       "      <td>False</td>\n",
       "      <td>False</td>\n",
       "    </tr>\n",
       "    <tr>\n",
       "      <th>PDFDA1100</th>\n",
       "      <td>False</td>\n",
       "      <td>False</td>\n",
       "      <td>False</td>\n",
       "      <td>False</td>\n",
       "      <td>False</td>\n",
       "      <td>False</td>\n",
       "      <td>False</td>\n",
       "      <td>False</td>\n",
       "      <td>False</td>\n",
       "      <td>False</td>\n",
       "      <td>...</td>\n",
       "      <td>False</td>\n",
       "      <td>False</td>\n",
       "      <td>False</td>\n",
       "      <td>False</td>\n",
       "      <td>False</td>\n",
       "      <td>False</td>\n",
       "      <td>False</td>\n",
       "      <td>False</td>\n",
       "      <td>False</td>\n",
       "      <td>False</td>\n",
       "    </tr>\n",
       "    <tr>\n",
       "      <th>PDFDA1101</th>\n",
       "      <td>False</td>\n",
       "      <td>False</td>\n",
       "      <td>False</td>\n",
       "      <td>False</td>\n",
       "      <td>False</td>\n",
       "      <td>False</td>\n",
       "      <td>False</td>\n",
       "      <td>False</td>\n",
       "      <td>False</td>\n",
       "      <td>False</td>\n",
       "      <td>...</td>\n",
       "      <td>False</td>\n",
       "      <td>False</td>\n",
       "      <td>False</td>\n",
       "      <td>False</td>\n",
       "      <td>False</td>\n",
       "      <td>False</td>\n",
       "      <td>False</td>\n",
       "      <td>False</td>\n",
       "      <td>False</td>\n",
       "      <td>False</td>\n",
       "    </tr>\n",
       "  </tbody>\n",
       "</table>\n",
       "<p>1101 rows × 1243 columns</p>\n",
       "</div>"
      ],
      "text/plain": [
       "           5HTR1D  AADAC   AAK1   ABAT  ABCB1  ABCB11  ABCB1A  ABCB1B  ABCC1  \\\n",
       "Molecules                                                                      \n",
       "PDFDA0001   False  False  False  False   True   False   False   False  False   \n",
       "PDFDA0002   False  False  False  False  False   False   False   False  False   \n",
       "PDFDA0003   False  False  False  False  False   False   False   False  False   \n",
       "PDFDA0004   False  False  False  False  False   False   False   False  False   \n",
       "PDFDA0005   False  False  False  False  False   False   False   False  False   \n",
       "...           ...    ...    ...    ...    ...     ...     ...     ...    ...   \n",
       "PDFDA1097   False  False  False  False  False   False   False   False  False   \n",
       "PDFDA1098   False  False  False  False  False   False   False   False  False   \n",
       "PDFDA1099   False  False  False  False  False   False   False   False  False   \n",
       "PDFDA1100   False  False  False  False  False   False   False   False  False   \n",
       "PDFDA1101   False  False  False  False  False   False   False   False  False   \n",
       "\n",
       "           ABCC2  ...   VDRA  VIM-2  VKORC1   VRK2   WEE1   WEE2   XBP1  \\\n",
       "Molecules         ...                                                     \n",
       "PDFDA0001  False  ...  False  False   False  False  False  False  False   \n",
       "PDFDA0002  False  ...  False  False   False  False  False  False  False   \n",
       "PDFDA0003  False  ...  False  False   False  False  False  False  False   \n",
       "PDFDA0004  False  ...  False  False   False  False  False  False  False   \n",
       "PDFDA0005  False  ...  False  False   False  False  False  False  False   \n",
       "...          ...  ...    ...    ...     ...    ...    ...    ...    ...   \n",
       "PDFDA1097  False  ...  False  False   False  False  False  False  False   \n",
       "PDFDA1098  False  ...  False  False   False  False  False  False  False   \n",
       "PDFDA1099  False  ...  False  False   False  False  False  False  False   \n",
       "PDFDA1100  False  ...  False  False   False  False  False  False  False   \n",
       "PDFDA1101  False  ...  False  False   False  False  False  False  False   \n",
       "\n",
       "             XDH   YES1  ZAP70  \n",
       "Molecules                       \n",
       "PDFDA0001  False  False  False  \n",
       "PDFDA0002  False  False  False  \n",
       "PDFDA0003  False  False  False  \n",
       "PDFDA0004  False  False  False  \n",
       "PDFDA0005  False  False  False  \n",
       "...          ...    ...    ...  \n",
       "PDFDA1097  False  False  False  \n",
       "PDFDA1098  False  False  False  \n",
       "PDFDA1099  False  False  False  \n",
       "PDFDA1100  False  False  False  \n",
       "PDFDA1101  False  False  False  \n",
       "\n",
       "[1101 rows x 1243 columns]"
      ]
     },
     "execution_count": 35,
     "metadata": {},
     "output_type": "execute_result"
    }
   ],
   "source": [
    "biotargets_df"
   ]
  },
  {
   "cell_type": "markdown",
   "metadata": {},
   "source": [
    "Testing"
   ]
  },
  {
   "cell_type": "code",
   "execution_count": 13,
   "metadata": {},
   "outputs": [],
   "source": [
    "#biotargets_df[biotargets_df[\"PDFDA0001\"] == True]"
   ]
  },
  {
   "cell_type": "code",
   "execution_count": 130,
   "metadata": {},
   "outputs": [],
   "source": [
    "FI_fpgrowth = fpgrowth(biotargets_df, min_support=0.02, use_colnames=True)"
   ]
  },
  {
   "cell_type": "code",
   "execution_count": 131,
   "metadata": {},
   "outputs": [
    {
     "data": {
      "text/html": [
       "<div>\n",
       "<style scoped>\n",
       "    .dataframe tbody tr th:only-of-type {\n",
       "        vertical-align: middle;\n",
       "    }\n",
       "\n",
       "    .dataframe tbody tr th {\n",
       "        vertical-align: top;\n",
       "    }\n",
       "\n",
       "    .dataframe thead th {\n",
       "        text-align: right;\n",
       "    }\n",
       "</style>\n",
       "<table border=\"1\" class=\"dataframe\">\n",
       "  <thead>\n",
       "    <tr style=\"text-align: right;\">\n",
       "      <th></th>\n",
       "      <th>support</th>\n",
       "      <th>itemsets</th>\n",
       "      <th>length</th>\n",
       "    </tr>\n",
       "  </thead>\n",
       "  <tbody>\n",
       "    <tr>\n",
       "      <th>162</th>\n",
       "      <td>0.151680</td>\n",
       "      <td>(SLCO1B1, REP, SLCO1B3)</td>\n",
       "      <td>3</td>\n",
       "    </tr>\n",
       "    <tr>\n",
       "      <th>109</th>\n",
       "      <td>0.099909</td>\n",
       "      <td>(LMNA, SLCO1B1, SLCO1B3)</td>\n",
       "      <td>3</td>\n",
       "    </tr>\n",
       "    <tr>\n",
       "      <th>4256</th>\n",
       "      <td>0.076294</td>\n",
       "      <td>(SLCO2B1, SLCO1B1, SLCO1B3)</td>\n",
       "      <td>3</td>\n",
       "    </tr>\n",
       "    <tr>\n",
       "      <th>167</th>\n",
       "      <td>0.064487</td>\n",
       "      <td>(CYP3A4, SLCO1B1, SLCO1B3)</td>\n",
       "      <td>3</td>\n",
       "    </tr>\n",
       "    <tr>\n",
       "      <th>382</th>\n",
       "      <td>0.054496</td>\n",
       "      <td>(HTR2A, HTR2C, HTR2B)</td>\n",
       "      <td>3</td>\n",
       "    </tr>\n",
       "    <tr>\n",
       "      <th>...</th>\n",
       "      <td>...</td>\n",
       "      <td>...</td>\n",
       "      <td>...</td>\n",
       "    </tr>\n",
       "    <tr>\n",
       "      <th>20307</th>\n",
       "      <td>0.021798</td>\n",
       "      <td>(DRD3, HTR2A, ADRA1B, DRD1, HTR2C, ADRA1D, ADR...</td>\n",
       "      <td>12</td>\n",
       "    </tr>\n",
       "    <tr>\n",
       "      <th>16219</th>\n",
       "      <td>0.021798</td>\n",
       "      <td>(DRD3, HTR2A, DRD1, DRD2, HTR6, HTR2C, ADRA1D,...</td>\n",
       "      <td>12</td>\n",
       "    </tr>\n",
       "    <tr>\n",
       "      <th>19667</th>\n",
       "      <td>0.021798</td>\n",
       "      <td>(DRD3, HTR2A, ADRA1B, DRD1, DRD2, HTR6, HTR2C,...</td>\n",
       "      <td>12</td>\n",
       "    </tr>\n",
       "    <tr>\n",
       "      <th>19793</th>\n",
       "      <td>0.021798</td>\n",
       "      <td>(DRD3, HTR2A, ADRA1B, DRD2, HTR6, HTR2C, ADRA1...</td>\n",
       "      <td>12</td>\n",
       "    </tr>\n",
       "    <tr>\n",
       "      <th>19794</th>\n",
       "      <td>0.021798</td>\n",
       "      <td>(DRD3, HTR2A, ADRA1B, DRD1, DRD2, HTR6, HTR2C,...</td>\n",
       "      <td>13</td>\n",
       "    </tr>\n",
       "  </tbody>\n",
       "</table>\n",
       "<p>101 rows × 3 columns</p>\n",
       "</div>"
      ],
      "text/plain": [
       "        support                                           itemsets  length\n",
       "162    0.151680                            (SLCO1B1, REP, SLCO1B3)       3\n",
       "109    0.099909                           (LMNA, SLCO1B1, SLCO1B3)       3\n",
       "4256   0.076294                        (SLCO2B1, SLCO1B1, SLCO1B3)       3\n",
       "167    0.064487                         (CYP3A4, SLCO1B1, SLCO1B3)       3\n",
       "382    0.054496                              (HTR2A, HTR2C, HTR2B)       3\n",
       "...         ...                                                ...     ...\n",
       "20307  0.021798  (DRD3, HTR2A, ADRA1B, DRD1, HTR2C, ADRA1D, ADR...      12\n",
       "16219  0.021798  (DRD3, HTR2A, DRD1, DRD2, HTR6, HTR2C, ADRA1D,...      12\n",
       "19667  0.021798  (DRD3, HTR2A, ADRA1B, DRD1, DRD2, HTR6, HTR2C,...      12\n",
       "19793  0.021798  (DRD3, HTR2A, ADRA1B, DRD2, HTR6, HTR2C, ADRA1...      12\n",
       "19794  0.021798  (DRD3, HTR2A, ADRA1B, DRD1, DRD2, HTR6, HTR2C,...      13\n",
       "\n",
       "[101 rows x 3 columns]"
      ]
     },
     "execution_count": 131,
     "metadata": {},
     "output_type": "execute_result"
    }
   ],
   "source": [
    "FI_fpgrowth['length'] = FI_fpgrowth['itemsets'].apply(lambda x: len(x))\n",
    "FI_fpgrowth_filt = FI_fpgrowth[FI_fpgrowth['length'] > 2]\n",
    "FI_fpgrowth_filt.sort_values(['support'],ascending=False).groupby('length').head(10)"
   ]
  },
  {
   "cell_type": "code",
   "execution_count": 132,
   "metadata": {},
   "outputs": [],
   "source": [
    "rules = association_rules(FI_fpgrowth, metric=\"confidence\", min_threshold=0.8)"
   ]
  },
  {
   "cell_type": "code",
   "execution_count": 45,
   "metadata": {},
   "outputs": [
    {
     "name": "stdout",
     "output_type": "stream",
     "text": [
      "Rules with a minimum confidence of 70%: 53063\n",
      "Top 10 rules with greater support:\n"
     ]
    },
    {
     "data": {
      "text/html": [
       "<div>\n",
       "<style scoped>\n",
       "    .dataframe tbody tr th:only-of-type {\n",
       "        vertical-align: middle;\n",
       "    }\n",
       "\n",
       "    .dataframe tbody tr th {\n",
       "        vertical-align: top;\n",
       "    }\n",
       "\n",
       "    .dataframe thead th {\n",
       "        text-align: right;\n",
       "    }\n",
       "</style>\n",
       "<table border=\"1\" class=\"dataframe\">\n",
       "  <thead>\n",
       "    <tr style=\"text-align: right;\">\n",
       "      <th></th>\n",
       "      <th>antecedents</th>\n",
       "      <th>consequents</th>\n",
       "      <th>antecedent support</th>\n",
       "      <th>consequent support</th>\n",
       "      <th>support</th>\n",
       "      <th>confidence</th>\n",
       "      <th>lift</th>\n",
       "      <th>leverage</th>\n",
       "      <th>conviction</th>\n",
       "    </tr>\n",
       "  </thead>\n",
       "  <tbody>\n",
       "    <tr>\n",
       "      <th>35</th>\n",
       "      <td>(SLCO1B1)</td>\n",
       "      <td>(SLCO1B3)</td>\n",
       "      <td>0.306085</td>\n",
       "      <td>0.305177</td>\n",
       "      <td>0.297911</td>\n",
       "      <td>0.973294</td>\n",
       "      <td>3.189275</td>\n",
       "      <td>0.204501</td>\n",
       "      <td>26.017257</td>\n",
       "    </tr>\n",
       "    <tr>\n",
       "      <th>36</th>\n",
       "      <td>(SLCO1B3)</td>\n",
       "      <td>(SLCO1B1)</td>\n",
       "      <td>0.305177</td>\n",
       "      <td>0.306085</td>\n",
       "      <td>0.297911</td>\n",
       "      <td>0.976190</td>\n",
       "      <td>3.189275</td>\n",
       "      <td>0.204501</td>\n",
       "      <td>29.144414</td>\n",
       "    </tr>\n",
       "    <tr>\n",
       "      <th>38</th>\n",
       "      <td>(SLCO1B3, REP)</td>\n",
       "      <td>(SLCO1B1)</td>\n",
       "      <td>0.153497</td>\n",
       "      <td>0.306085</td>\n",
       "      <td>0.151680</td>\n",
       "      <td>0.988166</td>\n",
       "      <td>3.228399</td>\n",
       "      <td>0.104697</td>\n",
       "      <td>58.635786</td>\n",
       "    </tr>\n",
       "    <tr>\n",
       "      <th>37</th>\n",
       "      <td>(SLCO1B1, REP)</td>\n",
       "      <td>(SLCO1B3)</td>\n",
       "      <td>0.156222</td>\n",
       "      <td>0.305177</td>\n",
       "      <td>0.151680</td>\n",
       "      <td>0.970930</td>\n",
       "      <td>3.181530</td>\n",
       "      <td>0.104005</td>\n",
       "      <td>23.901907</td>\n",
       "    </tr>\n",
       "    <tr>\n",
       "      <th>7</th>\n",
       "      <td>(LMNA, SLCO1B1)</td>\n",
       "      <td>(SLCO1B3)</td>\n",
       "      <td>0.102634</td>\n",
       "      <td>0.305177</td>\n",
       "      <td>0.099909</td>\n",
       "      <td>0.973451</td>\n",
       "      <td>3.189791</td>\n",
       "      <td>0.068588</td>\n",
       "      <td>26.171662</td>\n",
       "    </tr>\n",
       "    <tr>\n",
       "      <th>8</th>\n",
       "      <td>(LMNA, SLCO1B3)</td>\n",
       "      <td>(SLCO1B1)</td>\n",
       "      <td>0.102634</td>\n",
       "      <td>0.306085</td>\n",
       "      <td>0.099909</td>\n",
       "      <td>0.973451</td>\n",
       "      <td>3.180326</td>\n",
       "      <td>0.068494</td>\n",
       "      <td>26.137451</td>\n",
       "    </tr>\n",
       "    <tr>\n",
       "      <th>101581</th>\n",
       "      <td>(SLCO2B1)</td>\n",
       "      <td>(SLCO1B3)</td>\n",
       "      <td>0.087193</td>\n",
       "      <td>0.305177</td>\n",
       "      <td>0.080836</td>\n",
       "      <td>0.927083</td>\n",
       "      <td>3.037853</td>\n",
       "      <td>0.054226</td>\n",
       "      <td>9.529000</td>\n",
       "    </tr>\n",
       "    <tr>\n",
       "      <th>101582</th>\n",
       "      <td>(SLCO2B1)</td>\n",
       "      <td>(SLCO1B1)</td>\n",
       "      <td>0.087193</td>\n",
       "      <td>0.306085</td>\n",
       "      <td>0.080836</td>\n",
       "      <td>0.927083</td>\n",
       "      <td>3.028839</td>\n",
       "      <td>0.054147</td>\n",
       "      <td>9.516543</td>\n",
       "    </tr>\n",
       "    <tr>\n",
       "      <th>101585</th>\n",
       "      <td>(SLCO2B1)</td>\n",
       "      <td>(SLCO1B1, SLCO1B3)</td>\n",
       "      <td>0.087193</td>\n",
       "      <td>0.297911</td>\n",
       "      <td>0.076294</td>\n",
       "      <td>0.875000</td>\n",
       "      <td>2.937119</td>\n",
       "      <td>0.050318</td>\n",
       "      <td>5.616712</td>\n",
       "    </tr>\n",
       "    <tr>\n",
       "      <th>101584</th>\n",
       "      <td>(SLCO2B1, SLCO1B3)</td>\n",
       "      <td>(SLCO1B1)</td>\n",
       "      <td>0.080836</td>\n",
       "      <td>0.306085</td>\n",
       "      <td>0.076294</td>\n",
       "      <td>0.943820</td>\n",
       "      <td>3.083519</td>\n",
       "      <td>0.051552</td>\n",
       "      <td>12.351680</td>\n",
       "    </tr>\n",
       "  </tbody>\n",
       "</table>\n",
       "</div>"
      ],
      "text/plain": [
       "               antecedents         consequents  antecedent support  \\\n",
       "35               (SLCO1B1)           (SLCO1B3)            0.306085   \n",
       "36               (SLCO1B3)           (SLCO1B1)            0.305177   \n",
       "38          (SLCO1B3, REP)           (SLCO1B1)            0.153497   \n",
       "37          (SLCO1B1, REP)           (SLCO1B3)            0.156222   \n",
       "7          (LMNA, SLCO1B1)           (SLCO1B3)            0.102634   \n",
       "8          (LMNA, SLCO1B3)           (SLCO1B1)            0.102634   \n",
       "101581           (SLCO2B1)           (SLCO1B3)            0.087193   \n",
       "101582           (SLCO2B1)           (SLCO1B1)            0.087193   \n",
       "101585           (SLCO2B1)  (SLCO1B1, SLCO1B3)            0.087193   \n",
       "101584  (SLCO2B1, SLCO1B3)           (SLCO1B1)            0.080836   \n",
       "\n",
       "        consequent support   support  confidence      lift  leverage  \\\n",
       "35                0.305177  0.297911    0.973294  3.189275  0.204501   \n",
       "36                0.306085  0.297911    0.976190  3.189275  0.204501   \n",
       "38                0.306085  0.151680    0.988166  3.228399  0.104697   \n",
       "37                0.305177  0.151680    0.970930  3.181530  0.104005   \n",
       "7                 0.305177  0.099909    0.973451  3.189791  0.068588   \n",
       "8                 0.306085  0.099909    0.973451  3.180326  0.068494   \n",
       "101581            0.305177  0.080836    0.927083  3.037853  0.054226   \n",
       "101582            0.306085  0.080836    0.927083  3.028839  0.054147   \n",
       "101585            0.297911  0.076294    0.875000  2.937119  0.050318   \n",
       "101584            0.306085  0.076294    0.943820  3.083519  0.051552   \n",
       "\n",
       "        conviction  \n",
       "35       26.017257  \n",
       "36       29.144414  \n",
       "38       58.635786  \n",
       "37       23.901907  \n",
       "7        26.171662  \n",
       "8        26.137451  \n",
       "101581    9.529000  \n",
       "101582    9.516543  \n",
       "101585    5.616712  \n",
       "101584   12.351680  "
      ]
     },
     "execution_count": 45,
     "metadata": {},
     "output_type": "execute_result"
    }
   ],
   "source": [
    "print(\"Rules with a minimum confidence of 70%:\", len(FI_fpgrowth))\n",
    "print(\"Top 10 rules with greater support:\")\n",
    "rules.sort_values(by=['support'], ascending=False).head(10)"
   ]
  },
  {
   "cell_type": "code",
   "execution_count": 77,
   "metadata": {},
   "outputs": [
    {
     "name": "stdout",
     "output_type": "stream",
     "text": [
      "Top 10 rules with greater confidence:\n"
     ]
    },
    {
     "data": {
      "text/html": [
       "<div>\n",
       "<style scoped>\n",
       "    .dataframe tbody tr th:only-of-type {\n",
       "        vertical-align: middle;\n",
       "    }\n",
       "\n",
       "    .dataframe tbody tr th {\n",
       "        vertical-align: top;\n",
       "    }\n",
       "\n",
       "    .dataframe thead th {\n",
       "        text-align: right;\n",
       "    }\n",
       "</style>\n",
       "<table border=\"1\" class=\"dataframe\">\n",
       "  <thead>\n",
       "    <tr style=\"text-align: right;\">\n",
       "      <th></th>\n",
       "      <th>antecedents</th>\n",
       "      <th>consequents</th>\n",
       "      <th>antecedent support</th>\n",
       "      <th>consequent support</th>\n",
       "      <th>support</th>\n",
       "      <th>confidence</th>\n",
       "      <th>lift</th>\n",
       "      <th>leverage</th>\n",
       "      <th>conviction</th>\n",
       "      <th>ante_length</th>\n",
       "      <th>cons_length</th>\n",
       "    </tr>\n",
       "  </thead>\n",
       "  <tbody>\n",
       "    <tr>\n",
       "      <th>1977284</th>\n",
       "      <td>(DRD2, CHRM2, CHRM1, HTR2B, DRD1)</td>\n",
       "      <td>(HTR2A, DRD3, CHRM4, ADRA2A)</td>\n",
       "      <td>0.020890</td>\n",
       "      <td>0.030881</td>\n",
       "      <td>0.020890</td>\n",
       "      <td>1.0</td>\n",
       "      <td>32.382353</td>\n",
       "      <td>0.020245</td>\n",
       "      <td>inf</td>\n",
       "      <td>5</td>\n",
       "      <td>4</td>\n",
       "    </tr>\n",
       "    <tr>\n",
       "      <th>2208225</th>\n",
       "      <td>(CHRM3, DRD3, SLC6A2, HTR6, HTR2C, CHRM1, ADRA2A)</td>\n",
       "      <td>(CHRM2)</td>\n",
       "      <td>0.020890</td>\n",
       "      <td>0.051771</td>\n",
       "      <td>0.020890</td>\n",
       "      <td>1.0</td>\n",
       "      <td>19.315789</td>\n",
       "      <td>0.019809</td>\n",
       "      <td>inf</td>\n",
       "      <td>7</td>\n",
       "      <td>1</td>\n",
       "    </tr>\n",
       "    <tr>\n",
       "      <th>861999</th>\n",
       "      <td>(ADRA1B, HTR6, ADRA1D, ADRA2C, ADRA1A, DRD1)</td>\n",
       "      <td>(HTR2A, DRD3, ADRA2B)</td>\n",
       "      <td>0.024523</td>\n",
       "      <td>0.042688</td>\n",
       "      <td>0.024523</td>\n",
       "      <td>1.0</td>\n",
       "      <td>23.425532</td>\n",
       "      <td>0.023476</td>\n",
       "      <td>inf</td>\n",
       "      <td>6</td>\n",
       "      <td>3</td>\n",
       "    </tr>\n",
       "    <tr>\n",
       "      <th>421161</th>\n",
       "      <td>(DRD1, DRD2, HTR6, HTR2C, ADRA2A, HTR1A)</td>\n",
       "      <td>(HTR2B)</td>\n",
       "      <td>0.024523</td>\n",
       "      <td>0.076294</td>\n",
       "      <td>0.024523</td>\n",
       "      <td>1.0</td>\n",
       "      <td>13.107143</td>\n",
       "      <td>0.022652</td>\n",
       "      <td>inf</td>\n",
       "      <td>6</td>\n",
       "      <td>1</td>\n",
       "    </tr>\n",
       "    <tr>\n",
       "      <th>1635885</th>\n",
       "      <td>(SLC6A2, HTR2A, HTR2C, CHRM2, ADRA2A, ADRA2B)</td>\n",
       "      <td>(CHRM1, CHRM4, HTR2B)</td>\n",
       "      <td>0.022707</td>\n",
       "      <td>0.032698</td>\n",
       "      <td>0.022707</td>\n",
       "      <td>1.0</td>\n",
       "      <td>30.583333</td>\n",
       "      <td>0.021964</td>\n",
       "      <td>inf</td>\n",
       "      <td>6</td>\n",
       "      <td>3</td>\n",
       "    </tr>\n",
       "    <tr>\n",
       "      <th>862000</th>\n",
       "      <td>(ADRA1B, HTR6, ADRA1D, ADRA2C, ADRA2B, DRD1)</td>\n",
       "      <td>(HTR2A, DRD3, ADRA1A)</td>\n",
       "      <td>0.024523</td>\n",
       "      <td>0.039964</td>\n",
       "      <td>0.024523</td>\n",
       "      <td>1.0</td>\n",
       "      <td>25.022727</td>\n",
       "      <td>0.023543</td>\n",
       "      <td>inf</td>\n",
       "      <td>6</td>\n",
       "      <td>3</td>\n",
       "    </tr>\n",
       "    <tr>\n",
       "      <th>3256447</th>\n",
       "      <td>(DRD3, ADRA2C, DRD2, HTR2B, ADRA1D)</td>\n",
       "      <td>(ADRA1A, ADRA1B, ADRA2A)</td>\n",
       "      <td>0.027248</td>\n",
       "      <td>0.044505</td>\n",
       "      <td>0.027248</td>\n",
       "      <td>1.0</td>\n",
       "      <td>22.469388</td>\n",
       "      <td>0.026035</td>\n",
       "      <td>inf</td>\n",
       "      <td>5</td>\n",
       "      <td>3</td>\n",
       "    </tr>\n",
       "    <tr>\n",
       "      <th>1635900</th>\n",
       "      <td>(SLC6A2, CHRM4, HTR2C, CHRM2, ADRA2A, ADRA2B)</td>\n",
       "      <td>(HTR2A, CHRM1, HTR2B)</td>\n",
       "      <td>0.022707</td>\n",
       "      <td>0.037239</td>\n",
       "      <td>0.022707</td>\n",
       "      <td>1.0</td>\n",
       "      <td>26.853659</td>\n",
       "      <td>0.021861</td>\n",
       "      <td>inf</td>\n",
       "      <td>6</td>\n",
       "      <td>3</td>\n",
       "    </tr>\n",
       "    <tr>\n",
       "      <th>1635912</th>\n",
       "      <td>(SLC6A2, HTR2C, CHRM2, CHRM1, ADRA2A, ADRA2B)</td>\n",
       "      <td>(HTR2A, CHRM4, HTR2B)</td>\n",
       "      <td>0.022707</td>\n",
       "      <td>0.033606</td>\n",
       "      <td>0.022707</td>\n",
       "      <td>1.0</td>\n",
       "      <td>29.756757</td>\n",
       "      <td>0.021944</td>\n",
       "      <td>inf</td>\n",
       "      <td>6</td>\n",
       "      <td>3</td>\n",
       "    </tr>\n",
       "    <tr>\n",
       "      <th>1635913</th>\n",
       "      <td>(SLC6A2, HTR2C, CHRM2, HTR2B, ADRA2A, ADRA2B)</td>\n",
       "      <td>(HTR2A, CHRM1, CHRM4)</td>\n",
       "      <td>0.022707</td>\n",
       "      <td>0.034514</td>\n",
       "      <td>0.022707</td>\n",
       "      <td>1.0</td>\n",
       "      <td>28.973684</td>\n",
       "      <td>0.021923</td>\n",
       "      <td>inf</td>\n",
       "      <td>6</td>\n",
       "      <td>3</td>\n",
       "    </tr>\n",
       "  </tbody>\n",
       "</table>\n",
       "</div>"
      ],
      "text/plain": [
       "                                               antecedents  \\\n",
       "1977284                  (DRD2, CHRM2, CHRM1, HTR2B, DRD1)   \n",
       "2208225  (CHRM3, DRD3, SLC6A2, HTR6, HTR2C, CHRM1, ADRA2A)   \n",
       "861999        (ADRA1B, HTR6, ADRA1D, ADRA2C, ADRA1A, DRD1)   \n",
       "421161            (DRD1, DRD2, HTR6, HTR2C, ADRA2A, HTR1A)   \n",
       "1635885      (SLC6A2, HTR2A, HTR2C, CHRM2, ADRA2A, ADRA2B)   \n",
       "862000        (ADRA1B, HTR6, ADRA1D, ADRA2C, ADRA2B, DRD1)   \n",
       "3256447                (DRD3, ADRA2C, DRD2, HTR2B, ADRA1D)   \n",
       "1635900      (SLC6A2, CHRM4, HTR2C, CHRM2, ADRA2A, ADRA2B)   \n",
       "1635912      (SLC6A2, HTR2C, CHRM2, CHRM1, ADRA2A, ADRA2B)   \n",
       "1635913      (SLC6A2, HTR2C, CHRM2, HTR2B, ADRA2A, ADRA2B)   \n",
       "\n",
       "                          consequents  antecedent support  consequent support  \\\n",
       "1977284  (HTR2A, DRD3, CHRM4, ADRA2A)            0.020890            0.030881   \n",
       "2208225                       (CHRM2)            0.020890            0.051771   \n",
       "861999          (HTR2A, DRD3, ADRA2B)            0.024523            0.042688   \n",
       "421161                        (HTR2B)            0.024523            0.076294   \n",
       "1635885         (CHRM1, CHRM4, HTR2B)            0.022707            0.032698   \n",
       "862000          (HTR2A, DRD3, ADRA1A)            0.024523            0.039964   \n",
       "3256447      (ADRA1A, ADRA1B, ADRA2A)            0.027248            0.044505   \n",
       "1635900         (HTR2A, CHRM1, HTR2B)            0.022707            0.037239   \n",
       "1635912         (HTR2A, CHRM4, HTR2B)            0.022707            0.033606   \n",
       "1635913         (HTR2A, CHRM1, CHRM4)            0.022707            0.034514   \n",
       "\n",
       "          support  confidence       lift  leverage  conviction  ante_length  \\\n",
       "1977284  0.020890         1.0  32.382353  0.020245         inf            5   \n",
       "2208225  0.020890         1.0  19.315789  0.019809         inf            7   \n",
       "861999   0.024523         1.0  23.425532  0.023476         inf            6   \n",
       "421161   0.024523         1.0  13.107143  0.022652         inf            6   \n",
       "1635885  0.022707         1.0  30.583333  0.021964         inf            6   \n",
       "862000   0.024523         1.0  25.022727  0.023543         inf            6   \n",
       "3256447  0.027248         1.0  22.469388  0.026035         inf            5   \n",
       "1635900  0.022707         1.0  26.853659  0.021861         inf            6   \n",
       "1635912  0.022707         1.0  29.756757  0.021944         inf            6   \n",
       "1635913  0.022707         1.0  28.973684  0.021923         inf            6   \n",
       "\n",
       "         cons_length  \n",
       "1977284            4  \n",
       "2208225            1  \n",
       "861999             3  \n",
       "421161             1  \n",
       "1635885            3  \n",
       "862000             3  \n",
       "3256447            3  \n",
       "1635900            3  \n",
       "1635912            3  \n",
       "1635913            3  "
      ]
     },
     "execution_count": 77,
     "metadata": {},
     "output_type": "execute_result"
    }
   ],
   "source": [
    "print(\"Top 10 rules with greater confidence:\")\n",
    "rules.sort_values(by=['confidence'], ascending=False).head(10)"
   ]
  },
  {
   "cell_type": "code",
   "execution_count": 76,
   "metadata": {},
   "outputs": [
    {
     "name": "stdout",
     "output_type": "stream",
     "text": [
      "Top 10 rules with greater lift:\n"
     ]
    },
    {
     "data": {
      "text/html": [
       "<div>\n",
       "<style scoped>\n",
       "    .dataframe tbody tr th:only-of-type {\n",
       "        vertical-align: middle;\n",
       "    }\n",
       "\n",
       "    .dataframe tbody tr th {\n",
       "        vertical-align: top;\n",
       "    }\n",
       "\n",
       "    .dataframe thead th {\n",
       "        text-align: right;\n",
       "    }\n",
       "</style>\n",
       "<table border=\"1\" class=\"dataframe\">\n",
       "  <thead>\n",
       "    <tr style=\"text-align: right;\">\n",
       "      <th></th>\n",
       "      <th>antecedents</th>\n",
       "      <th>consequents</th>\n",
       "      <th>antecedent support</th>\n",
       "      <th>consequent support</th>\n",
       "      <th>support</th>\n",
       "      <th>confidence</th>\n",
       "      <th>lift</th>\n",
       "      <th>leverage</th>\n",
       "      <th>conviction</th>\n",
       "      <th>ante_length</th>\n",
       "      <th>cons_length</th>\n",
       "    </tr>\n",
       "  </thead>\n",
       "  <tbody>\n",
       "    <tr>\n",
       "      <th>2337554</th>\n",
       "      <td>(SLC6A2, CHRM4, ADRA1D, HTR6)</td>\n",
       "      <td>(CHRM3, DRD3, CHRM2, HTR2B, ADRA2A, ADRA2B)</td>\n",
       "      <td>0.020890</td>\n",
       "      <td>0.022707</td>\n",
       "      <td>0.02089</td>\n",
       "      <td>1.00</td>\n",
       "      <td>44.04</td>\n",
       "      <td>0.020416</td>\n",
       "      <td>inf</td>\n",
       "      <td>4</td>\n",
       "      <td>6</td>\n",
       "    </tr>\n",
       "    <tr>\n",
       "      <th>2336655</th>\n",
       "      <td>(SLC6A2, CHRM2, CHRM1, ADRA1D, HTR2B)</td>\n",
       "      <td>(CHRM3, DRD3, CHRM4, HTR6, ADRA2A)</td>\n",
       "      <td>0.020890</td>\n",
       "      <td>0.022707</td>\n",
       "      <td>0.02089</td>\n",
       "      <td>1.00</td>\n",
       "      <td>44.04</td>\n",
       "      <td>0.020416</td>\n",
       "      <td>inf</td>\n",
       "      <td>5</td>\n",
       "      <td>5</td>\n",
       "    </tr>\n",
       "    <tr>\n",
       "      <th>2787980</th>\n",
       "      <td>(SLC6A2, HTR2A, DRD1, CHRM2, ADRA2B)</td>\n",
       "      <td>(CHRM3, DRD3, HTR6, HTR2B, ADRA2A)</td>\n",
       "      <td>0.020890</td>\n",
       "      <td>0.022707</td>\n",
       "      <td>0.02089</td>\n",
       "      <td>1.00</td>\n",
       "      <td>44.04</td>\n",
       "      <td>0.020416</td>\n",
       "      <td>inf</td>\n",
       "      <td>5</td>\n",
       "      <td>5</td>\n",
       "    </tr>\n",
       "    <tr>\n",
       "      <th>2787999</th>\n",
       "      <td>(SLC6A2, DRD1, CHRM2, HTR2B, ADRA2B)</td>\n",
       "      <td>(CHRM3, DRD3, HTR2A, HTR6, ADRA2A)</td>\n",
       "      <td>0.020890</td>\n",
       "      <td>0.022707</td>\n",
       "      <td>0.02089</td>\n",
       "      <td>1.00</td>\n",
       "      <td>44.04</td>\n",
       "      <td>0.020416</td>\n",
       "      <td>inf</td>\n",
       "      <td>5</td>\n",
       "      <td>5</td>\n",
       "    </tr>\n",
       "    <tr>\n",
       "      <th>2336690</th>\n",
       "      <td>(CHRM3, DRD3, ADRA2A, HTR6)</td>\n",
       "      <td>(SLC6A2, CHRM4, CHRM2, CHRM1, HTR2B, ADRA1D)</td>\n",
       "      <td>0.022707</td>\n",
       "      <td>0.020890</td>\n",
       "      <td>0.02089</td>\n",
       "      <td>0.92</td>\n",
       "      <td>44.04</td>\n",
       "      <td>0.020416</td>\n",
       "      <td>12.238874</td>\n",
       "      <td>4</td>\n",
       "      <td>6</td>\n",
       "    </tr>\n",
       "    <tr>\n",
       "      <th>2353350</th>\n",
       "      <td>(SLC6A2, CHRM4, HTR6, CHRM1, ADRA1D)</td>\n",
       "      <td>(CHRM3, DRD3, HTR2A, CHRM2, HTR2B, ADRA2A, ADR...</td>\n",
       "      <td>0.020890</td>\n",
       "      <td>0.022707</td>\n",
       "      <td>0.02089</td>\n",
       "      <td>1.00</td>\n",
       "      <td>44.04</td>\n",
       "      <td>0.020416</td>\n",
       "      <td>inf</td>\n",
       "      <td>5</td>\n",
       "      <td>7</td>\n",
       "    </tr>\n",
       "    <tr>\n",
       "      <th>2811921</th>\n",
       "      <td>(SLC6A2, DRD1, CHRM2, CHRM1, ADRA2B)</td>\n",
       "      <td>(CHRM3, DRD3, HTR2A, HTR6, HTR2B, ADRA2A)</td>\n",
       "      <td>0.020890</td>\n",
       "      <td>0.022707</td>\n",
       "      <td>0.02089</td>\n",
       "      <td>1.00</td>\n",
       "      <td>44.04</td>\n",
       "      <td>0.020416</td>\n",
       "      <td>inf</td>\n",
       "      <td>5</td>\n",
       "      <td>6</td>\n",
       "    </tr>\n",
       "    <tr>\n",
       "      <th>2788038</th>\n",
       "      <td>(CHRM3, DRD3, ADRA2A, HTR6)</td>\n",
       "      <td>(SLC6A2, HTR2A, CHRM2, HTR2B, ADRA2B, DRD1)</td>\n",
       "      <td>0.022707</td>\n",
       "      <td>0.020890</td>\n",
       "      <td>0.02089</td>\n",
       "      <td>0.92</td>\n",
       "      <td>44.04</td>\n",
       "      <td>0.020416</td>\n",
       "      <td>12.238874</td>\n",
       "      <td>4</td>\n",
       "      <td>6</td>\n",
       "    </tr>\n",
       "    <tr>\n",
       "      <th>2800183</th>\n",
       "      <td>(CHRM3, DRD3, HTR6, CHRM1, ADRA2A)</td>\n",
       "      <td>(SLC6A2, CHRM4, CHRM2, ADRA2B, DRD1)</td>\n",
       "      <td>0.022707</td>\n",
       "      <td>0.020890</td>\n",
       "      <td>0.02089</td>\n",
       "      <td>0.92</td>\n",
       "      <td>44.04</td>\n",
       "      <td>0.020416</td>\n",
       "      <td>12.238874</td>\n",
       "      <td>5</td>\n",
       "      <td>5</td>\n",
       "    </tr>\n",
       "    <tr>\n",
       "      <th>2800169</th>\n",
       "      <td>(CHRM3, DRD3, CHRM4, HTR6, ADRA2A)</td>\n",
       "      <td>(SLC6A2, CHRM2, CHRM1, ADRA2B, DRD1)</td>\n",
       "      <td>0.022707</td>\n",
       "      <td>0.020890</td>\n",
       "      <td>0.02089</td>\n",
       "      <td>0.92</td>\n",
       "      <td>44.04</td>\n",
       "      <td>0.020416</td>\n",
       "      <td>12.238874</td>\n",
       "      <td>5</td>\n",
       "      <td>5</td>\n",
       "    </tr>\n",
       "  </tbody>\n",
       "</table>\n",
       "</div>"
      ],
      "text/plain": [
       "                                   antecedents  \\\n",
       "2337554          (SLC6A2, CHRM4, ADRA1D, HTR6)   \n",
       "2336655  (SLC6A2, CHRM2, CHRM1, ADRA1D, HTR2B)   \n",
       "2787980   (SLC6A2, HTR2A, DRD1, CHRM2, ADRA2B)   \n",
       "2787999   (SLC6A2, DRD1, CHRM2, HTR2B, ADRA2B)   \n",
       "2336690            (CHRM3, DRD3, ADRA2A, HTR6)   \n",
       "2353350   (SLC6A2, CHRM4, HTR6, CHRM1, ADRA1D)   \n",
       "2811921   (SLC6A2, DRD1, CHRM2, CHRM1, ADRA2B)   \n",
       "2788038            (CHRM3, DRD3, ADRA2A, HTR6)   \n",
       "2800183     (CHRM3, DRD3, HTR6, CHRM1, ADRA2A)   \n",
       "2800169     (CHRM3, DRD3, CHRM4, HTR6, ADRA2A)   \n",
       "\n",
       "                                               consequents  \\\n",
       "2337554        (CHRM3, DRD3, CHRM2, HTR2B, ADRA2A, ADRA2B)   \n",
       "2336655                 (CHRM3, DRD3, CHRM4, HTR6, ADRA2A)   \n",
       "2787980                 (CHRM3, DRD3, HTR6, HTR2B, ADRA2A)   \n",
       "2787999                 (CHRM3, DRD3, HTR2A, HTR6, ADRA2A)   \n",
       "2336690       (SLC6A2, CHRM4, CHRM2, CHRM1, HTR2B, ADRA1D)   \n",
       "2353350  (CHRM3, DRD3, HTR2A, CHRM2, HTR2B, ADRA2A, ADR...   \n",
       "2811921          (CHRM3, DRD3, HTR2A, HTR6, HTR2B, ADRA2A)   \n",
       "2788038        (SLC6A2, HTR2A, CHRM2, HTR2B, ADRA2B, DRD1)   \n",
       "2800183               (SLC6A2, CHRM4, CHRM2, ADRA2B, DRD1)   \n",
       "2800169               (SLC6A2, CHRM2, CHRM1, ADRA2B, DRD1)   \n",
       "\n",
       "         antecedent support  consequent support  support  confidence   lift  \\\n",
       "2337554            0.020890            0.022707  0.02089        1.00  44.04   \n",
       "2336655            0.020890            0.022707  0.02089        1.00  44.04   \n",
       "2787980            0.020890            0.022707  0.02089        1.00  44.04   \n",
       "2787999            0.020890            0.022707  0.02089        1.00  44.04   \n",
       "2336690            0.022707            0.020890  0.02089        0.92  44.04   \n",
       "2353350            0.020890            0.022707  0.02089        1.00  44.04   \n",
       "2811921            0.020890            0.022707  0.02089        1.00  44.04   \n",
       "2788038            0.022707            0.020890  0.02089        0.92  44.04   \n",
       "2800183            0.022707            0.020890  0.02089        0.92  44.04   \n",
       "2800169            0.022707            0.020890  0.02089        0.92  44.04   \n",
       "\n",
       "         leverage  conviction  ante_length  cons_length  \n",
       "2337554  0.020416         inf            4            6  \n",
       "2336655  0.020416         inf            5            5  \n",
       "2787980  0.020416         inf            5            5  \n",
       "2787999  0.020416         inf            5            5  \n",
       "2336690  0.020416   12.238874            4            6  \n",
       "2353350  0.020416         inf            5            7  \n",
       "2811921  0.020416         inf            5            6  \n",
       "2788038  0.020416   12.238874            4            6  \n",
       "2800183  0.020416   12.238874            5            5  \n",
       "2800169  0.020416   12.238874            5            5  "
      ]
     },
     "execution_count": 76,
     "metadata": {},
     "output_type": "execute_result"
    }
   ],
   "source": [
    "print(\"Top 10 rules with greater lift:\")\n",
    "rules.sort_values(by=['lift'], ascending=False).head(10)"
   ]
  },
  {
   "cell_type": "code",
   "execution_count": 79,
   "metadata": {},
   "outputs": [],
   "source": [
    "rules['ante_length'] = rules['antecedents'].apply(lambda x: len(x))\n",
    "rules['cons_length'] = rules['consequents'].apply(lambda x: len(x))"
   ]
  },
  {
   "cell_type": "code",
   "execution_count": 87,
   "metadata": {},
   "outputs": [
    {
     "data": {
      "text/html": [
       "<div>\n",
       "<style scoped>\n",
       "    .dataframe tbody tr th:only-of-type {\n",
       "        vertical-align: middle;\n",
       "    }\n",
       "\n",
       "    .dataframe tbody tr th {\n",
       "        vertical-align: top;\n",
       "    }\n",
       "\n",
       "    .dataframe thead th {\n",
       "        text-align: right;\n",
       "    }\n",
       "</style>\n",
       "<table border=\"1\" class=\"dataframe\">\n",
       "  <thead>\n",
       "    <tr style=\"text-align: right;\">\n",
       "      <th></th>\n",
       "      <th>antecedents</th>\n",
       "      <th>consequents</th>\n",
       "      <th>antecedent support</th>\n",
       "      <th>consequent support</th>\n",
       "      <th>support</th>\n",
       "      <th>confidence</th>\n",
       "      <th>lift</th>\n",
       "      <th>leverage</th>\n",
       "      <th>conviction</th>\n",
       "      <th>ante_length</th>\n",
       "      <th>cons_length</th>\n",
       "    </tr>\n",
       "  </thead>\n",
       "  <tbody>\n",
       "    <tr>\n",
       "      <th>36</th>\n",
       "      <td>(SLCO1B3)</td>\n",
       "      <td>(SLCO1B1)</td>\n",
       "      <td>0.305177</td>\n",
       "      <td>0.306085</td>\n",
       "      <td>0.297911</td>\n",
       "      <td>0.976190</td>\n",
       "      <td>3.189275</td>\n",
       "      <td>0.204501</td>\n",
       "      <td>29.144414</td>\n",
       "      <td>1</td>\n",
       "      <td>1</td>\n",
       "    </tr>\n",
       "    <tr>\n",
       "      <th>35</th>\n",
       "      <td>(SLCO1B1)</td>\n",
       "      <td>(SLCO1B3)</td>\n",
       "      <td>0.306085</td>\n",
       "      <td>0.305177</td>\n",
       "      <td>0.297911</td>\n",
       "      <td>0.973294</td>\n",
       "      <td>3.189275</td>\n",
       "      <td>0.204501</td>\n",
       "      <td>26.017257</td>\n",
       "      <td>1</td>\n",
       "      <td>1</td>\n",
       "    </tr>\n",
       "    <tr>\n",
       "      <th>38</th>\n",
       "      <td>(SLCO1B3, REP)</td>\n",
       "      <td>(SLCO1B1)</td>\n",
       "      <td>0.153497</td>\n",
       "      <td>0.306085</td>\n",
       "      <td>0.151680</td>\n",
       "      <td>0.988166</td>\n",
       "      <td>3.228399</td>\n",
       "      <td>0.104697</td>\n",
       "      <td>58.635786</td>\n",
       "      <td>2</td>\n",
       "      <td>1</td>\n",
       "    </tr>\n",
       "    <tr>\n",
       "      <th>37</th>\n",
       "      <td>(SLCO1B1, REP)</td>\n",
       "      <td>(SLCO1B3)</td>\n",
       "      <td>0.156222</td>\n",
       "      <td>0.305177</td>\n",
       "      <td>0.151680</td>\n",
       "      <td>0.970930</td>\n",
       "      <td>3.181530</td>\n",
       "      <td>0.104005</td>\n",
       "      <td>23.901907</td>\n",
       "      <td>2</td>\n",
       "      <td>1</td>\n",
       "    </tr>\n",
       "    <tr>\n",
       "      <th>7</th>\n",
       "      <td>(LMNA, SLCO1B1)</td>\n",
       "      <td>(SLCO1B3)</td>\n",
       "      <td>0.102634</td>\n",
       "      <td>0.305177</td>\n",
       "      <td>0.099909</td>\n",
       "      <td>0.973451</td>\n",
       "      <td>3.189791</td>\n",
       "      <td>0.068588</td>\n",
       "      <td>26.171662</td>\n",
       "      <td>2</td>\n",
       "      <td>1</td>\n",
       "    </tr>\n",
       "    <tr>\n",
       "      <th>...</th>\n",
       "      <td>...</td>\n",
       "      <td>...</td>\n",
       "      <td>...</td>\n",
       "      <td>...</td>\n",
       "      <td>...</td>\n",
       "      <td>...</td>\n",
       "      <td>...</td>\n",
       "      <td>...</td>\n",
       "      <td>...</td>\n",
       "      <td>...</td>\n",
       "      <td>...</td>\n",
       "    </tr>\n",
       "    <tr>\n",
       "      <th>1156457</th>\n",
       "      <td>(DRD3, HTR2A, ADRA1B, DRD2, HTR6, HTR2C, ADRA1...</td>\n",
       "      <td>(HTR2B)</td>\n",
       "      <td>0.021798</td>\n",
       "      <td>0.076294</td>\n",
       "      <td>0.021798</td>\n",
       "      <td>1.000000</td>\n",
       "      <td>13.107143</td>\n",
       "      <td>0.020135</td>\n",
       "      <td>inf</td>\n",
       "      <td>12</td>\n",
       "      <td>1</td>\n",
       "    </tr>\n",
       "    <tr>\n",
       "      <th>1156455</th>\n",
       "      <td>(DRD3, ADRA2B, HTR2A, ADRA1B, DRD2, HTR6, HTR2...</td>\n",
       "      <td>(ADRA2A)</td>\n",
       "      <td>0.021798</td>\n",
       "      <td>0.077203</td>\n",
       "      <td>0.021798</td>\n",
       "      <td>1.000000</td>\n",
       "      <td>12.952941</td>\n",
       "      <td>0.020115</td>\n",
       "      <td>inf</td>\n",
       "      <td>12</td>\n",
       "      <td>1</td>\n",
       "    </tr>\n",
       "    <tr>\n",
       "      <th>1156465</th>\n",
       "      <td>(DRD3, ADRA2B, ADRA1B, DRD2, HTR6, HTR2C, ADRA...</td>\n",
       "      <td>(HTR2A)</td>\n",
       "      <td>0.021798</td>\n",
       "      <td>0.080836</td>\n",
       "      <td>0.021798</td>\n",
       "      <td>1.000000</td>\n",
       "      <td>12.370787</td>\n",
       "      <td>0.020036</td>\n",
       "      <td>inf</td>\n",
       "      <td>12</td>\n",
       "      <td>1</td>\n",
       "    </tr>\n",
       "    <tr>\n",
       "      <th>1156463</th>\n",
       "      <td>(DRD3, HTR2A, ADRA1B, DRD2, HTR6, HTR2C, ADRA1...</td>\n",
       "      <td>(DRD1)</td>\n",
       "      <td>0.022707</td>\n",
       "      <td>0.055404</td>\n",
       "      <td>0.021798</td>\n",
       "      <td>0.960000</td>\n",
       "      <td>17.327213</td>\n",
       "      <td>0.020540</td>\n",
       "      <td>23.614896</td>\n",
       "      <td>12</td>\n",
       "      <td>1</td>\n",
       "    </tr>\n",
       "    <tr>\n",
       "      <th>1156459</th>\n",
       "      <td>(DRD3, HTR2A, ADRA1B, DRD2, HTR6, HTR2C, HTR2B...</td>\n",
       "      <td>(ADRA1D)</td>\n",
       "      <td>0.022707</td>\n",
       "      <td>0.059946</td>\n",
       "      <td>0.021798</td>\n",
       "      <td>0.960000</td>\n",
       "      <td>16.014545</td>\n",
       "      <td>0.020437</td>\n",
       "      <td>23.501362</td>\n",
       "      <td>12</td>\n",
       "      <td>1</td>\n",
       "    </tr>\n",
       "  </tbody>\n",
       "</table>\n",
       "<p>120 rows × 11 columns</p>\n",
       "</div>"
      ],
      "text/plain": [
       "                                               antecedents consequents  \\\n",
       "36                                               (SLCO1B3)   (SLCO1B1)   \n",
       "35                                               (SLCO1B1)   (SLCO1B3)   \n",
       "38                                          (SLCO1B3, REP)   (SLCO1B1)   \n",
       "37                                          (SLCO1B1, REP)   (SLCO1B3)   \n",
       "7                                          (LMNA, SLCO1B1)   (SLCO1B3)   \n",
       "...                                                    ...         ...   \n",
       "1156457  (DRD3, HTR2A, ADRA1B, DRD2, HTR6, HTR2C, ADRA1...     (HTR2B)   \n",
       "1156455  (DRD3, ADRA2B, HTR2A, ADRA1B, DRD2, HTR6, HTR2...    (ADRA2A)   \n",
       "1156465  (DRD3, ADRA2B, ADRA1B, DRD2, HTR6, HTR2C, ADRA...     (HTR2A)   \n",
       "1156463  (DRD3, HTR2A, ADRA1B, DRD2, HTR6, HTR2C, ADRA1...      (DRD1)   \n",
       "1156459  (DRD3, HTR2A, ADRA1B, DRD2, HTR6, HTR2C, HTR2B...    (ADRA1D)   \n",
       "\n",
       "         antecedent support  consequent support   support  confidence  \\\n",
       "36                 0.305177            0.306085  0.297911    0.976190   \n",
       "35                 0.306085            0.305177  0.297911    0.973294   \n",
       "38                 0.153497            0.306085  0.151680    0.988166   \n",
       "37                 0.156222            0.305177  0.151680    0.970930   \n",
       "7                  0.102634            0.305177  0.099909    0.973451   \n",
       "...                     ...                 ...       ...         ...   \n",
       "1156457            0.021798            0.076294  0.021798    1.000000   \n",
       "1156455            0.021798            0.077203  0.021798    1.000000   \n",
       "1156465            0.021798            0.080836  0.021798    1.000000   \n",
       "1156463            0.022707            0.055404  0.021798    0.960000   \n",
       "1156459            0.022707            0.059946  0.021798    0.960000   \n",
       "\n",
       "              lift  leverage  conviction  ante_length  cons_length  \n",
       "36        3.189275  0.204501   29.144414            1            1  \n",
       "35        3.189275  0.204501   26.017257            1            1  \n",
       "38        3.228399  0.104697   58.635786            2            1  \n",
       "37        3.181530  0.104005   23.901907            2            1  \n",
       "7         3.189791  0.068588   26.171662            2            1  \n",
       "...            ...       ...         ...          ...          ...  \n",
       "1156457  13.107143  0.020135         inf           12            1  \n",
       "1156455  12.952941  0.020115         inf           12            1  \n",
       "1156465  12.370787  0.020036         inf           12            1  \n",
       "1156463  17.327213  0.020540   23.614896           12            1  \n",
       "1156459  16.014545  0.020437   23.501362           12            1  \n",
       "\n",
       "[120 rows x 11 columns]"
      ]
     },
     "execution_count": 87,
     "metadata": {},
     "output_type": "execute_result"
    }
   ],
   "source": [
    "rules.sort_values(['support','confidence','lift'],ascending=False).groupby('ante_length').head(10)"
   ]
  },
  {
   "cell_type": "markdown",
   "metadata": {},
   "source": [
    "Ordenado pela confiança os valores apresentados são todos 1 e conviction infinita. Ordenado pelo suporte conseguimos inferir sobre os resultados de forma mais ponderada."
   ]
  },
  {
   "cell_type": "markdown",
   "metadata": {},
   "source": [
    "Tendo em conta os valores de suporte, escolhemos analisar regras:\n",
    "\n",
    " * (SLCO1B3) -->(SLCO1B1)\t\n",
    " * (SLCO1B1) -->(SLCO1B3)\t\n",
    "\n",
    " * (SLCO1B3, REP) --> (SLCO1B1) \n",
    " * (SLCO1B1, REP) --> (SLCO1B3) \n",
    "\n",
    " * (LMNA, SLCO1B1) --> (SLCO1B3) \n",
    " * (LMNA, SLCO1B3) --> (SLCO1B1)\n",
    "\n",
    " <br>\n",
    "\n",
    "A ocorrência da ligação do fármaco com os binding sites SLCO1B1 SLCO1B3 parece estar correlacionada. Ao ocorrer a ligação num site tambem ocorrerá no outro. <p> Os sites REP e LMNA aparentam ser intermediários para estabilizar as ligações com os sites do tipo SLCO1. Um fármaco para se ligar aos sites do tipo SLCO1 liga-se antes ou ao REP ou ao LMNA."
   ]
  },
  {
   "cell_type": "markdown",
   "metadata": {},
   "source": [
    "Assim, iremos realizar uma análise exploratória destes sites de modo a tentar perceber a forma de como se encontram relacionados."
   ]
  },
  {
   "cell_type": "markdown",
   "metadata": {},
   "source": [
    "**Quais as moléculas que possuem todos estes targets (binding sites)?**"
   ]
  },
  {
   "cell_type": "code",
   "execution_count": 125,
   "metadata": {},
   "outputs": [
    {
     "name": "stdout",
     "output_type": "stream",
     "text": [
      "\n",
      "The targets are active in  50  molecules\n"
     ]
    },
    {
     "data": {
      "text/html": [
       "<div>\n",
       "<style scoped>\n",
       "    .dataframe tbody tr th:only-of-type {\n",
       "        vertical-align: middle;\n",
       "    }\n",
       "\n",
       "    .dataframe tbody tr th {\n",
       "        vertical-align: top;\n",
       "    }\n",
       "\n",
       "    .dataframe thead th {\n",
       "        text-align: right;\n",
       "    }\n",
       "</style>\n",
       "<table border=\"1\" class=\"dataframe\">\n",
       "  <thead>\n",
       "    <tr style=\"text-align: right;\">\n",
       "      <th></th>\n",
       "      <th>SLCO1B1</th>\n",
       "      <th>SLCO1B3</th>\n",
       "      <th>LMNA</th>\n",
       "      <th>REP</th>\n",
       "    </tr>\n",
       "    <tr>\n",
       "      <th>Molecules</th>\n",
       "      <th></th>\n",
       "      <th></th>\n",
       "      <th></th>\n",
       "      <th></th>\n",
       "    </tr>\n",
       "  </thead>\n",
       "  <tbody>\n",
       "    <tr>\n",
       "      <th>PDFDA0016</th>\n",
       "      <td>True</td>\n",
       "      <td>True</td>\n",
       "      <td>True</td>\n",
       "      <td>True</td>\n",
       "    </tr>\n",
       "    <tr>\n",
       "      <th>PDFDA0022</th>\n",
       "      <td>True</td>\n",
       "      <td>True</td>\n",
       "      <td>True</td>\n",
       "      <td>True</td>\n",
       "    </tr>\n",
       "    <tr>\n",
       "      <th>PDFDA0039</th>\n",
       "      <td>True</td>\n",
       "      <td>True</td>\n",
       "      <td>True</td>\n",
       "      <td>True</td>\n",
       "    </tr>\n",
       "    <tr>\n",
       "      <th>PDFDA0060</th>\n",
       "      <td>True</td>\n",
       "      <td>True</td>\n",
       "      <td>True</td>\n",
       "      <td>True</td>\n",
       "    </tr>\n",
       "    <tr>\n",
       "      <th>PDFDA0083</th>\n",
       "      <td>True</td>\n",
       "      <td>True</td>\n",
       "      <td>True</td>\n",
       "      <td>True</td>\n",
       "    </tr>\n",
       "    <tr>\n",
       "      <th>PDFDA0085</th>\n",
       "      <td>True</td>\n",
       "      <td>True</td>\n",
       "      <td>True</td>\n",
       "      <td>True</td>\n",
       "    </tr>\n",
       "    <tr>\n",
       "      <th>PDFDA0092</th>\n",
       "      <td>True</td>\n",
       "      <td>True</td>\n",
       "      <td>True</td>\n",
       "      <td>True</td>\n",
       "    </tr>\n",
       "    <tr>\n",
       "      <th>PDFDA0095</th>\n",
       "      <td>True</td>\n",
       "      <td>True</td>\n",
       "      <td>True</td>\n",
       "      <td>True</td>\n",
       "    </tr>\n",
       "    <tr>\n",
       "      <th>PDFDA0099</th>\n",
       "      <td>True</td>\n",
       "      <td>True</td>\n",
       "      <td>True</td>\n",
       "      <td>True</td>\n",
       "    </tr>\n",
       "    <tr>\n",
       "      <th>PDFDA0108</th>\n",
       "      <td>True</td>\n",
       "      <td>True</td>\n",
       "      <td>True</td>\n",
       "      <td>True</td>\n",
       "    </tr>\n",
       "    <tr>\n",
       "      <th>PDFDA0139</th>\n",
       "      <td>True</td>\n",
       "      <td>True</td>\n",
       "      <td>True</td>\n",
       "      <td>True</td>\n",
       "    </tr>\n",
       "    <tr>\n",
       "      <th>PDFDA0165</th>\n",
       "      <td>True</td>\n",
       "      <td>True</td>\n",
       "      <td>True</td>\n",
       "      <td>True</td>\n",
       "    </tr>\n",
       "    <tr>\n",
       "      <th>PDFDA0168</th>\n",
       "      <td>True</td>\n",
       "      <td>True</td>\n",
       "      <td>True</td>\n",
       "      <td>True</td>\n",
       "    </tr>\n",
       "    <tr>\n",
       "      <th>PDFDA0197</th>\n",
       "      <td>True</td>\n",
       "      <td>True</td>\n",
       "      <td>True</td>\n",
       "      <td>True</td>\n",
       "    </tr>\n",
       "    <tr>\n",
       "      <th>PDFDA0198</th>\n",
       "      <td>True</td>\n",
       "      <td>True</td>\n",
       "      <td>True</td>\n",
       "      <td>True</td>\n",
       "    </tr>\n",
       "    <tr>\n",
       "      <th>PDFDA0199</th>\n",
       "      <td>True</td>\n",
       "      <td>True</td>\n",
       "      <td>True</td>\n",
       "      <td>True</td>\n",
       "    </tr>\n",
       "    <tr>\n",
       "      <th>PDFDA0205</th>\n",
       "      <td>True</td>\n",
       "      <td>True</td>\n",
       "      <td>True</td>\n",
       "      <td>True</td>\n",
       "    </tr>\n",
       "    <tr>\n",
       "      <th>PDFDA0214</th>\n",
       "      <td>True</td>\n",
       "      <td>True</td>\n",
       "      <td>True</td>\n",
       "      <td>True</td>\n",
       "    </tr>\n",
       "    <tr>\n",
       "      <th>PDFDA0247</th>\n",
       "      <td>True</td>\n",
       "      <td>True</td>\n",
       "      <td>True</td>\n",
       "      <td>True</td>\n",
       "    </tr>\n",
       "    <tr>\n",
       "      <th>PDFDA0260</th>\n",
       "      <td>True</td>\n",
       "      <td>True</td>\n",
       "      <td>True</td>\n",
       "      <td>True</td>\n",
       "    </tr>\n",
       "    <tr>\n",
       "      <th>PDFDA0290</th>\n",
       "      <td>True</td>\n",
       "      <td>True</td>\n",
       "      <td>True</td>\n",
       "      <td>True</td>\n",
       "    </tr>\n",
       "    <tr>\n",
       "      <th>PDFDA0294</th>\n",
       "      <td>True</td>\n",
       "      <td>True</td>\n",
       "      <td>True</td>\n",
       "      <td>True</td>\n",
       "    </tr>\n",
       "    <tr>\n",
       "      <th>PDFDA0297</th>\n",
       "      <td>True</td>\n",
       "      <td>True</td>\n",
       "      <td>True</td>\n",
       "      <td>True</td>\n",
       "    </tr>\n",
       "    <tr>\n",
       "      <th>PDFDA0323</th>\n",
       "      <td>True</td>\n",
       "      <td>True</td>\n",
       "      <td>True</td>\n",
       "      <td>True</td>\n",
       "    </tr>\n",
       "    <tr>\n",
       "      <th>PDFDA0375</th>\n",
       "      <td>True</td>\n",
       "      <td>True</td>\n",
       "      <td>True</td>\n",
       "      <td>True</td>\n",
       "    </tr>\n",
       "    <tr>\n",
       "      <th>PDFDA0460</th>\n",
       "      <td>True</td>\n",
       "      <td>True</td>\n",
       "      <td>True</td>\n",
       "      <td>True</td>\n",
       "    </tr>\n",
       "    <tr>\n",
       "      <th>PDFDA0483</th>\n",
       "      <td>True</td>\n",
       "      <td>True</td>\n",
       "      <td>True</td>\n",
       "      <td>True</td>\n",
       "    </tr>\n",
       "    <tr>\n",
       "      <th>PDFDA0507</th>\n",
       "      <td>True</td>\n",
       "      <td>True</td>\n",
       "      <td>True</td>\n",
       "      <td>True</td>\n",
       "    </tr>\n",
       "    <tr>\n",
       "      <th>PDFDA0532</th>\n",
       "      <td>True</td>\n",
       "      <td>True</td>\n",
       "      <td>True</td>\n",
       "      <td>True</td>\n",
       "    </tr>\n",
       "    <tr>\n",
       "      <th>PDFDA0675</th>\n",
       "      <td>True</td>\n",
       "      <td>True</td>\n",
       "      <td>True</td>\n",
       "      <td>True</td>\n",
       "    </tr>\n",
       "    <tr>\n",
       "      <th>PDFDA0688</th>\n",
       "      <td>True</td>\n",
       "      <td>True</td>\n",
       "      <td>True</td>\n",
       "      <td>True</td>\n",
       "    </tr>\n",
       "    <tr>\n",
       "      <th>PDFDA0717</th>\n",
       "      <td>True</td>\n",
       "      <td>True</td>\n",
       "      <td>True</td>\n",
       "      <td>True</td>\n",
       "    </tr>\n",
       "    <tr>\n",
       "      <th>PDFDA0750</th>\n",
       "      <td>True</td>\n",
       "      <td>True</td>\n",
       "      <td>True</td>\n",
       "      <td>True</td>\n",
       "    </tr>\n",
       "    <tr>\n",
       "      <th>PDFDA0766</th>\n",
       "      <td>True</td>\n",
       "      <td>True</td>\n",
       "      <td>True</td>\n",
       "      <td>True</td>\n",
       "    </tr>\n",
       "    <tr>\n",
       "      <th>PDFDA0782</th>\n",
       "      <td>True</td>\n",
       "      <td>True</td>\n",
       "      <td>True</td>\n",
       "      <td>True</td>\n",
       "    </tr>\n",
       "    <tr>\n",
       "      <th>PDFDA0788</th>\n",
       "      <td>True</td>\n",
       "      <td>True</td>\n",
       "      <td>True</td>\n",
       "      <td>True</td>\n",
       "    </tr>\n",
       "    <tr>\n",
       "      <th>PDFDA0793</th>\n",
       "      <td>True</td>\n",
       "      <td>True</td>\n",
       "      <td>True</td>\n",
       "      <td>True</td>\n",
       "    </tr>\n",
       "    <tr>\n",
       "      <th>PDFDA0807</th>\n",
       "      <td>True</td>\n",
       "      <td>True</td>\n",
       "      <td>True</td>\n",
       "      <td>True</td>\n",
       "    </tr>\n",
       "    <tr>\n",
       "      <th>PDFDA0808</th>\n",
       "      <td>True</td>\n",
       "      <td>True</td>\n",
       "      <td>True</td>\n",
       "      <td>True</td>\n",
       "    </tr>\n",
       "    <tr>\n",
       "      <th>PDFDA0880</th>\n",
       "      <td>True</td>\n",
       "      <td>True</td>\n",
       "      <td>True</td>\n",
       "      <td>True</td>\n",
       "    </tr>\n",
       "    <tr>\n",
       "      <th>PDFDA0888</th>\n",
       "      <td>True</td>\n",
       "      <td>True</td>\n",
       "      <td>True</td>\n",
       "      <td>True</td>\n",
       "    </tr>\n",
       "    <tr>\n",
       "      <th>PDFDA0947</th>\n",
       "      <td>True</td>\n",
       "      <td>True</td>\n",
       "      <td>True</td>\n",
       "      <td>True</td>\n",
       "    </tr>\n",
       "    <tr>\n",
       "      <th>PDFDA0948</th>\n",
       "      <td>True</td>\n",
       "      <td>True</td>\n",
       "      <td>True</td>\n",
       "      <td>True</td>\n",
       "    </tr>\n",
       "    <tr>\n",
       "      <th>PDFDA0952</th>\n",
       "      <td>True</td>\n",
       "      <td>True</td>\n",
       "      <td>True</td>\n",
       "      <td>True</td>\n",
       "    </tr>\n",
       "    <tr>\n",
       "      <th>PDFDA0956</th>\n",
       "      <td>True</td>\n",
       "      <td>True</td>\n",
       "      <td>True</td>\n",
       "      <td>True</td>\n",
       "    </tr>\n",
       "    <tr>\n",
       "      <th>PDFDA0980</th>\n",
       "      <td>True</td>\n",
       "      <td>True</td>\n",
       "      <td>True</td>\n",
       "      <td>True</td>\n",
       "    </tr>\n",
       "    <tr>\n",
       "      <th>PDFDA0989</th>\n",
       "      <td>True</td>\n",
       "      <td>True</td>\n",
       "      <td>True</td>\n",
       "      <td>True</td>\n",
       "    </tr>\n",
       "    <tr>\n",
       "      <th>PDFDA1014</th>\n",
       "      <td>True</td>\n",
       "      <td>True</td>\n",
       "      <td>True</td>\n",
       "      <td>True</td>\n",
       "    </tr>\n",
       "    <tr>\n",
       "      <th>PDFDA1039</th>\n",
       "      <td>True</td>\n",
       "      <td>True</td>\n",
       "      <td>True</td>\n",
       "      <td>True</td>\n",
       "    </tr>\n",
       "    <tr>\n",
       "      <th>PDFDA1098</th>\n",
       "      <td>True</td>\n",
       "      <td>True</td>\n",
       "      <td>True</td>\n",
       "      <td>True</td>\n",
       "    </tr>\n",
       "  </tbody>\n",
       "</table>\n",
       "</div>"
      ],
      "text/plain": [
       "           SLCO1B1  SLCO1B3  LMNA   REP\n",
       "Molecules                              \n",
       "PDFDA0016     True     True  True  True\n",
       "PDFDA0022     True     True  True  True\n",
       "PDFDA0039     True     True  True  True\n",
       "PDFDA0060     True     True  True  True\n",
       "PDFDA0083     True     True  True  True\n",
       "PDFDA0085     True     True  True  True\n",
       "PDFDA0092     True     True  True  True\n",
       "PDFDA0095     True     True  True  True\n",
       "PDFDA0099     True     True  True  True\n",
       "PDFDA0108     True     True  True  True\n",
       "PDFDA0139     True     True  True  True\n",
       "PDFDA0165     True     True  True  True\n",
       "PDFDA0168     True     True  True  True\n",
       "PDFDA0197     True     True  True  True\n",
       "PDFDA0198     True     True  True  True\n",
       "PDFDA0199     True     True  True  True\n",
       "PDFDA0205     True     True  True  True\n",
       "PDFDA0214     True     True  True  True\n",
       "PDFDA0247     True     True  True  True\n",
       "PDFDA0260     True     True  True  True\n",
       "PDFDA0290     True     True  True  True\n",
       "PDFDA0294     True     True  True  True\n",
       "PDFDA0297     True     True  True  True\n",
       "PDFDA0323     True     True  True  True\n",
       "PDFDA0375     True     True  True  True\n",
       "PDFDA0460     True     True  True  True\n",
       "PDFDA0483     True     True  True  True\n",
       "PDFDA0507     True     True  True  True\n",
       "PDFDA0532     True     True  True  True\n",
       "PDFDA0675     True     True  True  True\n",
       "PDFDA0688     True     True  True  True\n",
       "PDFDA0717     True     True  True  True\n",
       "PDFDA0750     True     True  True  True\n",
       "PDFDA0766     True     True  True  True\n",
       "PDFDA0782     True     True  True  True\n",
       "PDFDA0788     True     True  True  True\n",
       "PDFDA0793     True     True  True  True\n",
       "PDFDA0807     True     True  True  True\n",
       "PDFDA0808     True     True  True  True\n",
       "PDFDA0880     True     True  True  True\n",
       "PDFDA0888     True     True  True  True\n",
       "PDFDA0947     True     True  True  True\n",
       "PDFDA0948     True     True  True  True\n",
       "PDFDA0952     True     True  True  True\n",
       "PDFDA0956     True     True  True  True\n",
       "PDFDA0980     True     True  True  True\n",
       "PDFDA0989     True     True  True  True\n",
       "PDFDA1014     True     True  True  True\n",
       "PDFDA1039     True     True  True  True\n",
       "PDFDA1098     True     True  True  True"
      ]
     },
     "execution_count": 125,
     "metadata": {},
     "output_type": "execute_result"
    }
   ],
   "source": [
    "find_targets = biotargets_df[biotargets_df['SLCO1B1'] & biotargets_df['SLCO1B3'] & biotargets_df['LMNA'] & biotargets_df['REP'] == True]\n",
    "\n",
    "mol_sel_target = find_targets[['SLCO1B1','SLCO1B3','LMNA','REP']]\n",
    "\n",
    "print(\"\\nThe targets are active in \", len(mol_sel_target.index), \" molecules\")\n",
    "mol_sel_target"
   ]
  },
  {
   "cell_type": "markdown",
   "metadata": {},
   "source": [
    "**Quais as moléculas que possuem o target (binding site) SLCO1B1 ?**"
   ]
  },
  {
   "cell_type": "code",
   "execution_count": 149,
   "metadata": {},
   "outputs": [
    {
     "name": "stdout",
     "output_type": "stream",
     "text": [
      "\n",
      "The target SLCO1B1 is active in  337  molecules\n"
     ]
    },
    {
     "data": {
      "text/html": [
       "<div>\n",
       "<style scoped>\n",
       "    .dataframe tbody tr th:only-of-type {\n",
       "        vertical-align: middle;\n",
       "    }\n",
       "\n",
       "    .dataframe tbody tr th {\n",
       "        vertical-align: top;\n",
       "    }\n",
       "\n",
       "    .dataframe thead th {\n",
       "        text-align: right;\n",
       "    }\n",
       "</style>\n",
       "<table border=\"1\" class=\"dataframe\">\n",
       "  <thead>\n",
       "    <tr style=\"text-align: right;\">\n",
       "      <th></th>\n",
       "      <th>SLCO1B1</th>\n",
       "    </tr>\n",
       "    <tr>\n",
       "      <th>Molecules</th>\n",
       "      <th></th>\n",
       "    </tr>\n",
       "  </thead>\n",
       "  <tbody>\n",
       "    <tr>\n",
       "      <th>PDFDA0005</th>\n",
       "      <td>True</td>\n",
       "    </tr>\n",
       "    <tr>\n",
       "      <th>PDFDA0008</th>\n",
       "      <td>True</td>\n",
       "    </tr>\n",
       "    <tr>\n",
       "      <th>PDFDA0010</th>\n",
       "      <td>True</td>\n",
       "    </tr>\n",
       "    <tr>\n",
       "      <th>PDFDA0016</th>\n",
       "      <td>True</td>\n",
       "    </tr>\n",
       "    <tr>\n",
       "      <th>PDFDA0017</th>\n",
       "      <td>True</td>\n",
       "    </tr>\n",
       "    <tr>\n",
       "      <th>...</th>\n",
       "      <td>...</td>\n",
       "    </tr>\n",
       "    <tr>\n",
       "      <th>PDFDA1079</th>\n",
       "      <td>True</td>\n",
       "    </tr>\n",
       "    <tr>\n",
       "      <th>PDFDA1081</th>\n",
       "      <td>True</td>\n",
       "    </tr>\n",
       "    <tr>\n",
       "      <th>PDFDA1085</th>\n",
       "      <td>True</td>\n",
       "    </tr>\n",
       "    <tr>\n",
       "      <th>PDFDA1097</th>\n",
       "      <td>True</td>\n",
       "    </tr>\n",
       "    <tr>\n",
       "      <th>PDFDA1098</th>\n",
       "      <td>True</td>\n",
       "    </tr>\n",
       "  </tbody>\n",
       "</table>\n",
       "<p>337 rows × 1 columns</p>\n",
       "</div>"
      ],
      "text/plain": [
       "           SLCO1B1\n",
       "Molecules         \n",
       "PDFDA0005     True\n",
       "PDFDA0008     True\n",
       "PDFDA0010     True\n",
       "PDFDA0016     True\n",
       "PDFDA0017     True\n",
       "...            ...\n",
       "PDFDA1079     True\n",
       "PDFDA1081     True\n",
       "PDFDA1085     True\n",
       "PDFDA1097     True\n",
       "PDFDA1098     True\n",
       "\n",
       "[337 rows x 1 columns]"
      ]
     },
     "execution_count": 149,
     "metadata": {},
     "output_type": "execute_result"
    }
   ],
   "source": [
    "find_targets_S1 = biotargets_df.query('SLCO1B1 == True')\n",
    "\n",
    "mol_sel_target_S1 = find_targets_S1[['SLCO1B1']]\n",
    "\n",
    "print(\"\\nThe target SLCO1B1 is active in \", len(mol_sel_target_S1.index), \" molecules\")\n",
    "mol_sel_target_S1"
   ]
  },
  {
   "cell_type": "markdown",
   "metadata": {},
   "source": [
    "**Quais as moléculas que possuem o target (binding site) SLCO1B3 ?**"
   ]
  },
  {
   "cell_type": "code",
   "execution_count": 148,
   "metadata": {},
   "outputs": [
    {
     "name": "stdout",
     "output_type": "stream",
     "text": [
      "\n",
      "The target SLCO1B3 is active in  336  molecules\n"
     ]
    },
    {
     "data": {
      "text/html": [
       "<div>\n",
       "<style scoped>\n",
       "    .dataframe tbody tr th:only-of-type {\n",
       "        vertical-align: middle;\n",
       "    }\n",
       "\n",
       "    .dataframe tbody tr th {\n",
       "        vertical-align: top;\n",
       "    }\n",
       "\n",
       "    .dataframe thead th {\n",
       "        text-align: right;\n",
       "    }\n",
       "</style>\n",
       "<table border=\"1\" class=\"dataframe\">\n",
       "  <thead>\n",
       "    <tr style=\"text-align: right;\">\n",
       "      <th></th>\n",
       "      <th>SLCO1B3</th>\n",
       "    </tr>\n",
       "    <tr>\n",
       "      <th>Molecules</th>\n",
       "      <th></th>\n",
       "    </tr>\n",
       "  </thead>\n",
       "  <tbody>\n",
       "    <tr>\n",
       "      <th>PDFDA0005</th>\n",
       "      <td>True</td>\n",
       "    </tr>\n",
       "    <tr>\n",
       "      <th>PDFDA0008</th>\n",
       "      <td>True</td>\n",
       "    </tr>\n",
       "    <tr>\n",
       "      <th>PDFDA0010</th>\n",
       "      <td>True</td>\n",
       "    </tr>\n",
       "    <tr>\n",
       "      <th>PDFDA0016</th>\n",
       "      <td>True</td>\n",
       "    </tr>\n",
       "    <tr>\n",
       "      <th>PDFDA0017</th>\n",
       "      <td>True</td>\n",
       "    </tr>\n",
       "    <tr>\n",
       "      <th>...</th>\n",
       "      <td>...</td>\n",
       "    </tr>\n",
       "    <tr>\n",
       "      <th>PDFDA1079</th>\n",
       "      <td>True</td>\n",
       "    </tr>\n",
       "    <tr>\n",
       "      <th>PDFDA1081</th>\n",
       "      <td>True</td>\n",
       "    </tr>\n",
       "    <tr>\n",
       "      <th>PDFDA1085</th>\n",
       "      <td>True</td>\n",
       "    </tr>\n",
       "    <tr>\n",
       "      <th>PDFDA1097</th>\n",
       "      <td>True</td>\n",
       "    </tr>\n",
       "    <tr>\n",
       "      <th>PDFDA1098</th>\n",
       "      <td>True</td>\n",
       "    </tr>\n",
       "  </tbody>\n",
       "</table>\n",
       "<p>336 rows × 1 columns</p>\n",
       "</div>"
      ],
      "text/plain": [
       "           SLCO1B3\n",
       "Molecules         \n",
       "PDFDA0005     True\n",
       "PDFDA0008     True\n",
       "PDFDA0010     True\n",
       "PDFDA0016     True\n",
       "PDFDA0017     True\n",
       "...            ...\n",
       "PDFDA1079     True\n",
       "PDFDA1081     True\n",
       "PDFDA1085     True\n",
       "PDFDA1097     True\n",
       "PDFDA1098     True\n",
       "\n",
       "[336 rows x 1 columns]"
      ]
     },
     "execution_count": 148,
     "metadata": {},
     "output_type": "execute_result"
    }
   ],
   "source": [
    "find_targets_S3 = biotargets_df.query('SLCO1B3 == True')\n",
    "\n",
    "mol_sel_target_S3 = find_targets_S3[['SLCO1B3']]\n",
    "\n",
    "print(\"\\nThe target SLCO1B3 is active in \", len(mol_sel_target_S3.index), \" molecules\")\n",
    "mol_sel_target_S3"
   ]
  },
  {
   "cell_type": "markdown",
   "metadata": {},
   "source": [
    "**Quais as moléculas que possuem o binding site SLCO1B1 mas que não possui SLCO1B3?**"
   ]
  },
  {
   "cell_type": "code",
   "execution_count": 151,
   "metadata": {},
   "outputs": [
    {
     "name": "stdout",
     "output_type": "stream",
     "text": [
      "This molecule is active in SLCO1B1 but not active in SLCO1B3:\n"
     ]
    },
    {
     "data": {
      "text/html": [
       "<div>\n",
       "<style scoped>\n",
       "    .dataframe tbody tr th:only-of-type {\n",
       "        vertical-align: middle;\n",
       "    }\n",
       "\n",
       "    .dataframe tbody tr th {\n",
       "        vertical-align: top;\n",
       "    }\n",
       "\n",
       "    .dataframe thead th {\n",
       "        text-align: right;\n",
       "    }\n",
       "</style>\n",
       "<table border=\"1\" class=\"dataframe\">\n",
       "  <thead>\n",
       "    <tr style=\"text-align: right;\">\n",
       "      <th></th>\n",
       "      <th>SLCO1B1</th>\n",
       "      <th>SLCO1B3</th>\n",
       "    </tr>\n",
       "    <tr>\n",
       "      <th>Molecules</th>\n",
       "      <th></th>\n",
       "      <th></th>\n",
       "    </tr>\n",
       "  </thead>\n",
       "  <tbody>\n",
       "    <tr>\n",
       "      <th>PDFDA0144</th>\n",
       "      <td>True</td>\n",
       "      <td>False</td>\n",
       "    </tr>\n",
       "    <tr>\n",
       "      <th>PDFDA0328</th>\n",
       "      <td>True</td>\n",
       "      <td>False</td>\n",
       "    </tr>\n",
       "    <tr>\n",
       "      <th>PDFDA0490</th>\n",
       "      <td>True</td>\n",
       "      <td>False</td>\n",
       "    </tr>\n",
       "    <tr>\n",
       "      <th>PDFDA0498</th>\n",
       "      <td>True</td>\n",
       "      <td>False</td>\n",
       "    </tr>\n",
       "    <tr>\n",
       "      <th>PDFDA0674</th>\n",
       "      <td>True</td>\n",
       "      <td>False</td>\n",
       "    </tr>\n",
       "    <tr>\n",
       "      <th>PDFDA0741</th>\n",
       "      <td>True</td>\n",
       "      <td>False</td>\n",
       "    </tr>\n",
       "    <tr>\n",
       "      <th>PDFDA0791</th>\n",
       "      <td>True</td>\n",
       "      <td>False</td>\n",
       "    </tr>\n",
       "    <tr>\n",
       "      <th>PDFDA0867</th>\n",
       "      <td>True</td>\n",
       "      <td>False</td>\n",
       "    </tr>\n",
       "    <tr>\n",
       "      <th>PDFDA0969</th>\n",
       "      <td>True</td>\n",
       "      <td>False</td>\n",
       "    </tr>\n",
       "  </tbody>\n",
       "</table>\n",
       "</div>"
      ],
      "text/plain": [
       "           SLCO1B1  SLCO1B3\n",
       "Molecules                  \n",
       "PDFDA0144     True    False\n",
       "PDFDA0328     True    False\n",
       "PDFDA0490     True    False\n",
       "PDFDA0498     True    False\n",
       "PDFDA0674     True    False\n",
       "PDFDA0741     True    False\n",
       "PDFDA0791     True    False\n",
       "PDFDA0867     True    False\n",
       "PDFDA0969     True    False"
      ]
     },
     "execution_count": 151,
     "metadata": {},
     "output_type": "execute_result"
    }
   ],
   "source": [
    "find_targets_S = biotargets_df.query('SLCO1B1 == True and SLCO1B3 == False')\n",
    "\n",
    "mol_sel_target_S = find_targets_S[['SLCO1B1','SLCO1B3']]\n",
    "\n",
    "print(\"This molecule is active in SLCO1B1 but not active in SLCO1B3:\")\n",
    "mol_sel_target_S"
   ]
  },
  {
   "cell_type": "markdown",
   "metadata": {},
   "source": [
    "**Quais as moléculas que possuem o binding site SLCO1B3 mas que não possui SLCO1B1?**"
   ]
  },
  {
   "cell_type": "code",
   "execution_count": 152,
   "metadata": {},
   "outputs": [
    {
     "name": "stdout",
     "output_type": "stream",
     "text": [
      "This molecule is active in SLCO1B3 but not active in SLCO1B1:\n"
     ]
    },
    {
     "data": {
      "text/html": [
       "<div>\n",
       "<style scoped>\n",
       "    .dataframe tbody tr th:only-of-type {\n",
       "        vertical-align: middle;\n",
       "    }\n",
       "\n",
       "    .dataframe tbody tr th {\n",
       "        vertical-align: top;\n",
       "    }\n",
       "\n",
       "    .dataframe thead th {\n",
       "        text-align: right;\n",
       "    }\n",
       "</style>\n",
       "<table border=\"1\" class=\"dataframe\">\n",
       "  <thead>\n",
       "    <tr style=\"text-align: right;\">\n",
       "      <th></th>\n",
       "      <th>SLCO1B1</th>\n",
       "      <th>SLCO1B3</th>\n",
       "    </tr>\n",
       "    <tr>\n",
       "      <th>Molecules</th>\n",
       "      <th></th>\n",
       "      <th></th>\n",
       "    </tr>\n",
       "  </thead>\n",
       "  <tbody>\n",
       "    <tr>\n",
       "      <th>PDFDA0086</th>\n",
       "      <td>False</td>\n",
       "      <td>True</td>\n",
       "    </tr>\n",
       "    <tr>\n",
       "      <th>PDFDA0182</th>\n",
       "      <td>False</td>\n",
       "      <td>True</td>\n",
       "    </tr>\n",
       "    <tr>\n",
       "      <th>PDFDA0351</th>\n",
       "      <td>False</td>\n",
       "      <td>True</td>\n",
       "    </tr>\n",
       "    <tr>\n",
       "      <th>PDFDA0365</th>\n",
       "      <td>False</td>\n",
       "      <td>True</td>\n",
       "    </tr>\n",
       "    <tr>\n",
       "      <th>PDFDA0404</th>\n",
       "      <td>False</td>\n",
       "      <td>True</td>\n",
       "    </tr>\n",
       "    <tr>\n",
       "      <th>PDFDA0557</th>\n",
       "      <td>False</td>\n",
       "      <td>True</td>\n",
       "    </tr>\n",
       "    <tr>\n",
       "      <th>PDFDA0625</th>\n",
       "      <td>False</td>\n",
       "      <td>True</td>\n",
       "    </tr>\n",
       "    <tr>\n",
       "      <th>PDFDA0794</th>\n",
       "      <td>False</td>\n",
       "      <td>True</td>\n",
       "    </tr>\n",
       "  </tbody>\n",
       "</table>\n",
       "</div>"
      ],
      "text/plain": [
       "           SLCO1B1  SLCO1B3\n",
       "Molecules                  \n",
       "PDFDA0086    False     True\n",
       "PDFDA0182    False     True\n",
       "PDFDA0351    False     True\n",
       "PDFDA0365    False     True\n",
       "PDFDA0404    False     True\n",
       "PDFDA0557    False     True\n",
       "PDFDA0625    False     True\n",
       "PDFDA0794    False     True"
      ]
     },
     "execution_count": 152,
     "metadata": {},
     "output_type": "execute_result"
    }
   ],
   "source": [
    "find_targets_S = biotargets_df.query('SLCO1B1 == False and SLCO1B3 == True')\n",
    "\n",
    "mol_sel_target_S = find_targets_S[['SLCO1B1','SLCO1B3']]\n",
    "\n",
    "print(\"This molecule is active in SLCO1B3 but not active in SLCO1B1:\")\n",
    "mol_sel_target_S"
   ]
  },
  {
   "cell_type": "markdown",
   "metadata": {},
   "source": [
    "**Quais as moléculas que possuem o target (binding site) REP ?**"
   ]
  },
  {
   "cell_type": "code",
   "execution_count": 128,
   "metadata": {},
   "outputs": [
    {
     "name": "stdout",
     "output_type": "stream",
     "text": [
      "\n",
      "The target REP is active in  530  molecules\n"
     ]
    },
    {
     "data": {
      "text/html": [
       "<div>\n",
       "<style scoped>\n",
       "    .dataframe tbody tr th:only-of-type {\n",
       "        vertical-align: middle;\n",
       "    }\n",
       "\n",
       "    .dataframe tbody tr th {\n",
       "        vertical-align: top;\n",
       "    }\n",
       "\n",
       "    .dataframe thead th {\n",
       "        text-align: right;\n",
       "    }\n",
       "</style>\n",
       "<table border=\"1\" class=\"dataframe\">\n",
       "  <thead>\n",
       "    <tr style=\"text-align: right;\">\n",
       "      <th></th>\n",
       "      <th>REP</th>\n",
       "    </tr>\n",
       "    <tr>\n",
       "      <th>Molecules</th>\n",
       "      <th></th>\n",
       "    </tr>\n",
       "  </thead>\n",
       "  <tbody>\n",
       "    <tr>\n",
       "      <th>PDFDA0003</th>\n",
       "      <td>True</td>\n",
       "    </tr>\n",
       "    <tr>\n",
       "      <th>PDFDA0007</th>\n",
       "      <td>True</td>\n",
       "    </tr>\n",
       "    <tr>\n",
       "      <th>PDFDA0008</th>\n",
       "      <td>True</td>\n",
       "    </tr>\n",
       "    <tr>\n",
       "      <th>PDFDA0010</th>\n",
       "      <td>True</td>\n",
       "    </tr>\n",
       "    <tr>\n",
       "      <th>PDFDA0012</th>\n",
       "      <td>True</td>\n",
       "    </tr>\n",
       "    <tr>\n",
       "      <th>...</th>\n",
       "      <td>...</td>\n",
       "    </tr>\n",
       "    <tr>\n",
       "      <th>PDFDA1095</th>\n",
       "      <td>True</td>\n",
       "    </tr>\n",
       "    <tr>\n",
       "      <th>PDFDA1096</th>\n",
       "      <td>True</td>\n",
       "    </tr>\n",
       "    <tr>\n",
       "      <th>PDFDA1097</th>\n",
       "      <td>True</td>\n",
       "    </tr>\n",
       "    <tr>\n",
       "      <th>PDFDA1098</th>\n",
       "      <td>True</td>\n",
       "    </tr>\n",
       "    <tr>\n",
       "      <th>PDFDA1099</th>\n",
       "      <td>True</td>\n",
       "    </tr>\n",
       "  </tbody>\n",
       "</table>\n",
       "<p>530 rows × 1 columns</p>\n",
       "</div>"
      ],
      "text/plain": [
       "            REP\n",
       "Molecules      \n",
       "PDFDA0003  True\n",
       "PDFDA0007  True\n",
       "PDFDA0008  True\n",
       "PDFDA0010  True\n",
       "PDFDA0012  True\n",
       "...         ...\n",
       "PDFDA1095  True\n",
       "PDFDA1096  True\n",
       "PDFDA1097  True\n",
       "PDFDA1098  True\n",
       "PDFDA1099  True\n",
       "\n",
       "[530 rows x 1 columns]"
      ]
     },
     "execution_count": 128,
     "metadata": {},
     "output_type": "execute_result"
    }
   ],
   "source": [
    "find_targets_R = biotargets_df[biotargets_df['REP']  == True]\n",
    "\n",
    "mol_sel_target_R = find_targets_R[['REP']]\n",
    "\n",
    "print(\"\\nThe target REP is active in \", len(mol_sel_target_R.index), \" molecules\")\n",
    "mol_sel_target_R"
   ]
  },
  {
   "cell_type": "markdown",
   "metadata": {},
   "source": [
    "**Quais as moléculas que possuem o target (binding site) LMNA ?**"
   ]
  },
  {
   "cell_type": "code",
   "execution_count": 129,
   "metadata": {},
   "outputs": [
    {
     "name": "stdout",
     "output_type": "stream",
     "text": [
      "\n",
      "The target LMNA is active in  244  molecules\n"
     ]
    },
    {
     "data": {
      "text/html": [
       "<div>\n",
       "<style scoped>\n",
       "    .dataframe tbody tr th:only-of-type {\n",
       "        vertical-align: middle;\n",
       "    }\n",
       "\n",
       "    .dataframe tbody tr th {\n",
       "        vertical-align: top;\n",
       "    }\n",
       "\n",
       "    .dataframe thead th {\n",
       "        text-align: right;\n",
       "    }\n",
       "</style>\n",
       "<table border=\"1\" class=\"dataframe\">\n",
       "  <thead>\n",
       "    <tr style=\"text-align: right;\">\n",
       "      <th></th>\n",
       "      <th>LMNA</th>\n",
       "    </tr>\n",
       "    <tr>\n",
       "      <th>Molecules</th>\n",
       "      <th></th>\n",
       "    </tr>\n",
       "  </thead>\n",
       "  <tbody>\n",
       "    <tr>\n",
       "      <th>PDFDA0004</th>\n",
       "      <td>True</td>\n",
       "    </tr>\n",
       "    <tr>\n",
       "      <th>PDFDA0014</th>\n",
       "      <td>True</td>\n",
       "    </tr>\n",
       "    <tr>\n",
       "      <th>PDFDA0016</th>\n",
       "      <td>True</td>\n",
       "    </tr>\n",
       "    <tr>\n",
       "      <th>PDFDA0019</th>\n",
       "      <td>True</td>\n",
       "    </tr>\n",
       "    <tr>\n",
       "      <th>PDFDA0022</th>\n",
       "      <td>True</td>\n",
       "    </tr>\n",
       "    <tr>\n",
       "      <th>...</th>\n",
       "      <td>...</td>\n",
       "    </tr>\n",
       "    <tr>\n",
       "      <th>PDFDA1094</th>\n",
       "      <td>True</td>\n",
       "    </tr>\n",
       "    <tr>\n",
       "      <th>PDFDA1096</th>\n",
       "      <td>True</td>\n",
       "    </tr>\n",
       "    <tr>\n",
       "      <th>PDFDA1098</th>\n",
       "      <td>True</td>\n",
       "    </tr>\n",
       "    <tr>\n",
       "      <th>PDFDA1099</th>\n",
       "      <td>True</td>\n",
       "    </tr>\n",
       "    <tr>\n",
       "      <th>PDFDA1101</th>\n",
       "      <td>True</td>\n",
       "    </tr>\n",
       "  </tbody>\n",
       "</table>\n",
       "<p>244 rows × 1 columns</p>\n",
       "</div>"
      ],
      "text/plain": [
       "           LMNA\n",
       "Molecules      \n",
       "PDFDA0004  True\n",
       "PDFDA0014  True\n",
       "PDFDA0016  True\n",
       "PDFDA0019  True\n",
       "PDFDA0022  True\n",
       "...         ...\n",
       "PDFDA1094  True\n",
       "PDFDA1096  True\n",
       "PDFDA1098  True\n",
       "PDFDA1099  True\n",
       "PDFDA1101  True\n",
       "\n",
       "[244 rows x 1 columns]"
      ]
     },
     "execution_count": 129,
     "metadata": {},
     "output_type": "execute_result"
    }
   ],
   "source": [
    "find_targets_L = biotargets_df[biotargets_df['LMNA']  == True]\n",
    "\n",
    "mol_sel_target_L = find_targets_L[['LMNA']]\n",
    "\n",
    "print(\"\\nThe target LMNA is active in \", len(mol_sel_target_L.index), \" molecules\")\n",
    "mol_sel_target_L"
   ]
  },
  {
   "cell_type": "markdown",
   "metadata": {},
   "source": [
    "### Clustering"
   ]
  },
  {
   "cell_type": "code",
   "execution_count": 271,
   "metadata": {},
   "outputs": [],
   "source": [
    "from yellowbrick.cluster import KElbowVisualizer\n",
    "from sklearn.cluster import KMeans\n",
    "from sklearn.decomposition import PCA\n",
    "import seaborn as sns\n",
    "import plotly.express as px\n",
    "\n",
    "import warnings\n",
    "warnings.filterwarnings('ignore')\n",
    "\n",
    "%matplotlib inline"
   ]
  },
  {
   "cell_type": "code",
   "execution_count": 163,
   "metadata": {},
   "outputs": [],
   "source": [
    "biotargets_df.replace({False: 0, True: 1}, inplace=True)"
   ]
  },
  {
   "cell_type": "code",
   "execution_count": 166,
   "metadata": {},
   "outputs": [
    {
     "data": {
      "text/html": [
       "<div>\n",
       "<style scoped>\n",
       "    .dataframe tbody tr th:only-of-type {\n",
       "        vertical-align: middle;\n",
       "    }\n",
       "\n",
       "    .dataframe tbody tr th {\n",
       "        vertical-align: top;\n",
       "    }\n",
       "\n",
       "    .dataframe thead th {\n",
       "        text-align: right;\n",
       "    }\n",
       "</style>\n",
       "<table border=\"1\" class=\"dataframe\">\n",
       "  <thead>\n",
       "    <tr style=\"text-align: right;\">\n",
       "      <th></th>\n",
       "      <th>5HTR1D</th>\n",
       "      <th>AADAC</th>\n",
       "      <th>AAK1</th>\n",
       "      <th>ABAT</th>\n",
       "      <th>ABCB1</th>\n",
       "      <th>ABCB11</th>\n",
       "      <th>ABCB1A</th>\n",
       "      <th>ABCB1B</th>\n",
       "      <th>ABCC1</th>\n",
       "      <th>ABCC2</th>\n",
       "      <th>...</th>\n",
       "      <th>VDRA</th>\n",
       "      <th>VIM-2</th>\n",
       "      <th>VKORC1</th>\n",
       "      <th>VRK2</th>\n",
       "      <th>WEE1</th>\n",
       "      <th>WEE2</th>\n",
       "      <th>XBP1</th>\n",
       "      <th>XDH</th>\n",
       "      <th>YES1</th>\n",
       "      <th>ZAP70</th>\n",
       "    </tr>\n",
       "    <tr>\n",
       "      <th>Molecules</th>\n",
       "      <th></th>\n",
       "      <th></th>\n",
       "      <th></th>\n",
       "      <th></th>\n",
       "      <th></th>\n",
       "      <th></th>\n",
       "      <th></th>\n",
       "      <th></th>\n",
       "      <th></th>\n",
       "      <th></th>\n",
       "      <th></th>\n",
       "      <th></th>\n",
       "      <th></th>\n",
       "      <th></th>\n",
       "      <th></th>\n",
       "      <th></th>\n",
       "      <th></th>\n",
       "      <th></th>\n",
       "      <th></th>\n",
       "      <th></th>\n",
       "      <th></th>\n",
       "    </tr>\n",
       "  </thead>\n",
       "  <tbody>\n",
       "    <tr>\n",
       "      <th>PDFDA0001</th>\n",
       "      <td>0</td>\n",
       "      <td>0</td>\n",
       "      <td>0</td>\n",
       "      <td>0</td>\n",
       "      <td>1</td>\n",
       "      <td>0</td>\n",
       "      <td>0</td>\n",
       "      <td>0</td>\n",
       "      <td>0</td>\n",
       "      <td>0</td>\n",
       "      <td>...</td>\n",
       "      <td>0</td>\n",
       "      <td>0</td>\n",
       "      <td>0</td>\n",
       "      <td>0</td>\n",
       "      <td>0</td>\n",
       "      <td>0</td>\n",
       "      <td>0</td>\n",
       "      <td>0</td>\n",
       "      <td>0</td>\n",
       "      <td>0</td>\n",
       "    </tr>\n",
       "    <tr>\n",
       "      <th>PDFDA0002</th>\n",
       "      <td>0</td>\n",
       "      <td>0</td>\n",
       "      <td>0</td>\n",
       "      <td>0</td>\n",
       "      <td>0</td>\n",
       "      <td>0</td>\n",
       "      <td>0</td>\n",
       "      <td>0</td>\n",
       "      <td>0</td>\n",
       "      <td>0</td>\n",
       "      <td>...</td>\n",
       "      <td>0</td>\n",
       "      <td>0</td>\n",
       "      <td>0</td>\n",
       "      <td>0</td>\n",
       "      <td>0</td>\n",
       "      <td>0</td>\n",
       "      <td>0</td>\n",
       "      <td>0</td>\n",
       "      <td>0</td>\n",
       "      <td>0</td>\n",
       "    </tr>\n",
       "    <tr>\n",
       "      <th>PDFDA0003</th>\n",
       "      <td>0</td>\n",
       "      <td>0</td>\n",
       "      <td>0</td>\n",
       "      <td>0</td>\n",
       "      <td>0</td>\n",
       "      <td>0</td>\n",
       "      <td>0</td>\n",
       "      <td>0</td>\n",
       "      <td>0</td>\n",
       "      <td>0</td>\n",
       "      <td>...</td>\n",
       "      <td>0</td>\n",
       "      <td>0</td>\n",
       "      <td>0</td>\n",
       "      <td>0</td>\n",
       "      <td>0</td>\n",
       "      <td>0</td>\n",
       "      <td>0</td>\n",
       "      <td>0</td>\n",
       "      <td>0</td>\n",
       "      <td>0</td>\n",
       "    </tr>\n",
       "    <tr>\n",
       "      <th>PDFDA0004</th>\n",
       "      <td>0</td>\n",
       "      <td>0</td>\n",
       "      <td>0</td>\n",
       "      <td>0</td>\n",
       "      <td>0</td>\n",
       "      <td>0</td>\n",
       "      <td>0</td>\n",
       "      <td>0</td>\n",
       "      <td>0</td>\n",
       "      <td>0</td>\n",
       "      <td>...</td>\n",
       "      <td>0</td>\n",
       "      <td>0</td>\n",
       "      <td>0</td>\n",
       "      <td>0</td>\n",
       "      <td>0</td>\n",
       "      <td>0</td>\n",
       "      <td>0</td>\n",
       "      <td>0</td>\n",
       "      <td>0</td>\n",
       "      <td>0</td>\n",
       "    </tr>\n",
       "    <tr>\n",
       "      <th>PDFDA0005</th>\n",
       "      <td>0</td>\n",
       "      <td>0</td>\n",
       "      <td>0</td>\n",
       "      <td>0</td>\n",
       "      <td>0</td>\n",
       "      <td>0</td>\n",
       "      <td>0</td>\n",
       "      <td>0</td>\n",
       "      <td>0</td>\n",
       "      <td>0</td>\n",
       "      <td>...</td>\n",
       "      <td>0</td>\n",
       "      <td>0</td>\n",
       "      <td>0</td>\n",
       "      <td>0</td>\n",
       "      <td>0</td>\n",
       "      <td>0</td>\n",
       "      <td>0</td>\n",
       "      <td>0</td>\n",
       "      <td>0</td>\n",
       "      <td>0</td>\n",
       "    </tr>\n",
       "  </tbody>\n",
       "</table>\n",
       "<p>5 rows × 1243 columns</p>\n",
       "</div>"
      ],
      "text/plain": [
       "           5HTR1D  AADAC  AAK1  ABAT  ABCB1  ABCB11  ABCB1A  ABCB1B  ABCC1  \\\n",
       "Molecules                                                                    \n",
       "PDFDA0001       0      0     0     0      1       0       0       0      0   \n",
       "PDFDA0002       0      0     0     0      0       0       0       0      0   \n",
       "PDFDA0003       0      0     0     0      0       0       0       0      0   \n",
       "PDFDA0004       0      0     0     0      0       0       0       0      0   \n",
       "PDFDA0005       0      0     0     0      0       0       0       0      0   \n",
       "\n",
       "           ABCC2  ...  VDRA  VIM-2  VKORC1  VRK2  WEE1  WEE2  XBP1  XDH  YES1  \\\n",
       "Molecules         ...                                                           \n",
       "PDFDA0001      0  ...     0      0       0     0     0     0     0    0     0   \n",
       "PDFDA0002      0  ...     0      0       0     0     0     0     0    0     0   \n",
       "PDFDA0003      0  ...     0      0       0     0     0     0     0    0     0   \n",
       "PDFDA0004      0  ...     0      0       0     0     0     0     0    0     0   \n",
       "PDFDA0005      0  ...     0      0       0     0     0     0     0    0     0   \n",
       "\n",
       "           ZAP70  \n",
       "Molecules         \n",
       "PDFDA0001      0  \n",
       "PDFDA0002      0  \n",
       "PDFDA0003      0  \n",
       "PDFDA0004      0  \n",
       "PDFDA0005      0  \n",
       "\n",
       "[5 rows x 1243 columns]"
      ]
     },
     "execution_count": 166,
     "metadata": {},
     "output_type": "execute_result"
    }
   ],
   "source": [
    "biotargets_df.head(5)"
   ]
  },
  {
   "cell_type": "markdown",
   "metadata": {},
   "source": [
    "**Heatmap**"
   ]
  },
  {
   "cell_type": "markdown",
   "metadata": {},
   "source": [
    "Selected binding sites"
   ]
  },
  {
   "cell_type": "code",
   "execution_count": 286,
   "metadata": {},
   "outputs": [
    {
     "data": {
      "application/vnd.plotly.v1+json": {
       "config": {
        "plotlyServerURL": "https://plot.ly"
       },
       "data": [
        {
         "coloraxis": "coloraxis",
         "hovertemplate": "x: %{x}<br>y: %{y}<br>color: %{z}<extra></extra>",
         "name": "0",
         "texttemplate": "%{z}",
         "type": "heatmap",
         "x": [
          "SLCO1B1",
          "SLCO1B3",
          "LMNA",
          "REP"
         ],
         "xaxis": "x",
         "y": [
          "SLCO1B1",
          "SLCO1B3",
          "LMNA",
          "REP"
         ],
         "yaxis": "y",
         "z": [
          [
           1,
           0.9636238339209634,
           0.18180720890080346,
           0.0385545260804593
          ],
          [
           0.9636238339209634,
           1,
           0.1830109669675861,
           0.028644159012552444
          ],
          [
           0.18180720890080346,
           0.1830109669675861,
           1,
           -0.06764990736883049
          ],
          [
           0.0385545260804593,
           0.028644159012552444,
           -0.06764990736883049,
           1
          ]
         ]
        }
       ],
       "layout": {
        "coloraxis": {
         "colorscale": [
          [
           0,
           "#0d0887"
          ],
          [
           0.1111111111111111,
           "#46039f"
          ],
          [
           0.2222222222222222,
           "#7201a8"
          ],
          [
           0.3333333333333333,
           "#9c179e"
          ],
          [
           0.4444444444444444,
           "#bd3786"
          ],
          [
           0.5555555555555556,
           "#d8576b"
          ],
          [
           0.6666666666666666,
           "#ed7953"
          ],
          [
           0.7777777777777778,
           "#fb9f3a"
          ],
          [
           0.8888888888888888,
           "#fdca26"
          ],
          [
           1,
           "#f0f921"
          ]
         ]
        },
        "height": 800,
        "margin": {
         "t": 60
        },
        "template": {
         "data": {
          "bar": [
           {
            "error_x": {
             "color": "#2a3f5f"
            },
            "error_y": {
             "color": "#2a3f5f"
            },
            "marker": {
             "line": {
              "color": "#E5ECF6",
              "width": 0.5
             },
             "pattern": {
              "fillmode": "overlay",
              "size": 10,
              "solidity": 0.2
             }
            },
            "type": "bar"
           }
          ],
          "barpolar": [
           {
            "marker": {
             "line": {
              "color": "#E5ECF6",
              "width": 0.5
             },
             "pattern": {
              "fillmode": "overlay",
              "size": 10,
              "solidity": 0.2
             }
            },
            "type": "barpolar"
           }
          ],
          "carpet": [
           {
            "aaxis": {
             "endlinecolor": "#2a3f5f",
             "gridcolor": "white",
             "linecolor": "white",
             "minorgridcolor": "white",
             "startlinecolor": "#2a3f5f"
            },
            "baxis": {
             "endlinecolor": "#2a3f5f",
             "gridcolor": "white",
             "linecolor": "white",
             "minorgridcolor": "white",
             "startlinecolor": "#2a3f5f"
            },
            "type": "carpet"
           }
          ],
          "choropleth": [
           {
            "colorbar": {
             "outlinewidth": 0,
             "ticks": ""
            },
            "type": "choropleth"
           }
          ],
          "contour": [
           {
            "colorbar": {
             "outlinewidth": 0,
             "ticks": ""
            },
            "colorscale": [
             [
              0,
              "#0d0887"
             ],
             [
              0.1111111111111111,
              "#46039f"
             ],
             [
              0.2222222222222222,
              "#7201a8"
             ],
             [
              0.3333333333333333,
              "#9c179e"
             ],
             [
              0.4444444444444444,
              "#bd3786"
             ],
             [
              0.5555555555555556,
              "#d8576b"
             ],
             [
              0.6666666666666666,
              "#ed7953"
             ],
             [
              0.7777777777777778,
              "#fb9f3a"
             ],
             [
              0.8888888888888888,
              "#fdca26"
             ],
             [
              1,
              "#f0f921"
             ]
            ],
            "type": "contour"
           }
          ],
          "contourcarpet": [
           {
            "colorbar": {
             "outlinewidth": 0,
             "ticks": ""
            },
            "type": "contourcarpet"
           }
          ],
          "heatmap": [
           {
            "colorbar": {
             "outlinewidth": 0,
             "ticks": ""
            },
            "colorscale": [
             [
              0,
              "#0d0887"
             ],
             [
              0.1111111111111111,
              "#46039f"
             ],
             [
              0.2222222222222222,
              "#7201a8"
             ],
             [
              0.3333333333333333,
              "#9c179e"
             ],
             [
              0.4444444444444444,
              "#bd3786"
             ],
             [
              0.5555555555555556,
              "#d8576b"
             ],
             [
              0.6666666666666666,
              "#ed7953"
             ],
             [
              0.7777777777777778,
              "#fb9f3a"
             ],
             [
              0.8888888888888888,
              "#fdca26"
             ],
             [
              1,
              "#f0f921"
             ]
            ],
            "type": "heatmap"
           }
          ],
          "heatmapgl": [
           {
            "colorbar": {
             "outlinewidth": 0,
             "ticks": ""
            },
            "colorscale": [
             [
              0,
              "#0d0887"
             ],
             [
              0.1111111111111111,
              "#46039f"
             ],
             [
              0.2222222222222222,
              "#7201a8"
             ],
             [
              0.3333333333333333,
              "#9c179e"
             ],
             [
              0.4444444444444444,
              "#bd3786"
             ],
             [
              0.5555555555555556,
              "#d8576b"
             ],
             [
              0.6666666666666666,
              "#ed7953"
             ],
             [
              0.7777777777777778,
              "#fb9f3a"
             ],
             [
              0.8888888888888888,
              "#fdca26"
             ],
             [
              1,
              "#f0f921"
             ]
            ],
            "type": "heatmapgl"
           }
          ],
          "histogram": [
           {
            "marker": {
             "pattern": {
              "fillmode": "overlay",
              "size": 10,
              "solidity": 0.2
             }
            },
            "type": "histogram"
           }
          ],
          "histogram2d": [
           {
            "colorbar": {
             "outlinewidth": 0,
             "ticks": ""
            },
            "colorscale": [
             [
              0,
              "#0d0887"
             ],
             [
              0.1111111111111111,
              "#46039f"
             ],
             [
              0.2222222222222222,
              "#7201a8"
             ],
             [
              0.3333333333333333,
              "#9c179e"
             ],
             [
              0.4444444444444444,
              "#bd3786"
             ],
             [
              0.5555555555555556,
              "#d8576b"
             ],
             [
              0.6666666666666666,
              "#ed7953"
             ],
             [
              0.7777777777777778,
              "#fb9f3a"
             ],
             [
              0.8888888888888888,
              "#fdca26"
             ],
             [
              1,
              "#f0f921"
             ]
            ],
            "type": "histogram2d"
           }
          ],
          "histogram2dcontour": [
           {
            "colorbar": {
             "outlinewidth": 0,
             "ticks": ""
            },
            "colorscale": [
             [
              0,
              "#0d0887"
             ],
             [
              0.1111111111111111,
              "#46039f"
             ],
             [
              0.2222222222222222,
              "#7201a8"
             ],
             [
              0.3333333333333333,
              "#9c179e"
             ],
             [
              0.4444444444444444,
              "#bd3786"
             ],
             [
              0.5555555555555556,
              "#d8576b"
             ],
             [
              0.6666666666666666,
              "#ed7953"
             ],
             [
              0.7777777777777778,
              "#fb9f3a"
             ],
             [
              0.8888888888888888,
              "#fdca26"
             ],
             [
              1,
              "#f0f921"
             ]
            ],
            "type": "histogram2dcontour"
           }
          ],
          "mesh3d": [
           {
            "colorbar": {
             "outlinewidth": 0,
             "ticks": ""
            },
            "type": "mesh3d"
           }
          ],
          "parcoords": [
           {
            "line": {
             "colorbar": {
              "outlinewidth": 0,
              "ticks": ""
             }
            },
            "type": "parcoords"
           }
          ],
          "pie": [
           {
            "automargin": true,
            "type": "pie"
           }
          ],
          "scatter": [
           {
            "marker": {
             "colorbar": {
              "outlinewidth": 0,
              "ticks": ""
             }
            },
            "type": "scatter"
           }
          ],
          "scatter3d": [
           {
            "line": {
             "colorbar": {
              "outlinewidth": 0,
              "ticks": ""
             }
            },
            "marker": {
             "colorbar": {
              "outlinewidth": 0,
              "ticks": ""
             }
            },
            "type": "scatter3d"
           }
          ],
          "scattercarpet": [
           {
            "marker": {
             "colorbar": {
              "outlinewidth": 0,
              "ticks": ""
             }
            },
            "type": "scattercarpet"
           }
          ],
          "scattergeo": [
           {
            "marker": {
             "colorbar": {
              "outlinewidth": 0,
              "ticks": ""
             }
            },
            "type": "scattergeo"
           }
          ],
          "scattergl": [
           {
            "marker": {
             "colorbar": {
              "outlinewidth": 0,
              "ticks": ""
             }
            },
            "type": "scattergl"
           }
          ],
          "scattermapbox": [
           {
            "marker": {
             "colorbar": {
              "outlinewidth": 0,
              "ticks": ""
             }
            },
            "type": "scattermapbox"
           }
          ],
          "scatterpolar": [
           {
            "marker": {
             "colorbar": {
              "outlinewidth": 0,
              "ticks": ""
             }
            },
            "type": "scatterpolar"
           }
          ],
          "scatterpolargl": [
           {
            "marker": {
             "colorbar": {
              "outlinewidth": 0,
              "ticks": ""
             }
            },
            "type": "scatterpolargl"
           }
          ],
          "scatterternary": [
           {
            "marker": {
             "colorbar": {
              "outlinewidth": 0,
              "ticks": ""
             }
            },
            "type": "scatterternary"
           }
          ],
          "surface": [
           {
            "colorbar": {
             "outlinewidth": 0,
             "ticks": ""
            },
            "colorscale": [
             [
              0,
              "#0d0887"
             ],
             [
              0.1111111111111111,
              "#46039f"
             ],
             [
              0.2222222222222222,
              "#7201a8"
             ],
             [
              0.3333333333333333,
              "#9c179e"
             ],
             [
              0.4444444444444444,
              "#bd3786"
             ],
             [
              0.5555555555555556,
              "#d8576b"
             ],
             [
              0.6666666666666666,
              "#ed7953"
             ],
             [
              0.7777777777777778,
              "#fb9f3a"
             ],
             [
              0.8888888888888888,
              "#fdca26"
             ],
             [
              1,
              "#f0f921"
             ]
            ],
            "type": "surface"
           }
          ],
          "table": [
           {
            "cells": {
             "fill": {
              "color": "#EBF0F8"
             },
             "line": {
              "color": "white"
             }
            },
            "header": {
             "fill": {
              "color": "#C8D4E3"
             },
             "line": {
              "color": "white"
             }
            },
            "type": "table"
           }
          ]
         },
         "layout": {
          "annotationdefaults": {
           "arrowcolor": "#2a3f5f",
           "arrowhead": 0,
           "arrowwidth": 1
          },
          "autotypenumbers": "strict",
          "coloraxis": {
           "colorbar": {
            "outlinewidth": 0,
            "ticks": ""
           }
          },
          "colorscale": {
           "diverging": [
            [
             0,
             "#8e0152"
            ],
            [
             0.1,
             "#c51b7d"
            ],
            [
             0.2,
             "#de77ae"
            ],
            [
             0.3,
             "#f1b6da"
            ],
            [
             0.4,
             "#fde0ef"
            ],
            [
             0.5,
             "#f7f7f7"
            ],
            [
             0.6,
             "#e6f5d0"
            ],
            [
             0.7,
             "#b8e186"
            ],
            [
             0.8,
             "#7fbc41"
            ],
            [
             0.9,
             "#4d9221"
            ],
            [
             1,
             "#276419"
            ]
           ],
           "sequential": [
            [
             0,
             "#0d0887"
            ],
            [
             0.1111111111111111,
             "#46039f"
            ],
            [
             0.2222222222222222,
             "#7201a8"
            ],
            [
             0.3333333333333333,
             "#9c179e"
            ],
            [
             0.4444444444444444,
             "#bd3786"
            ],
            [
             0.5555555555555556,
             "#d8576b"
            ],
            [
             0.6666666666666666,
             "#ed7953"
            ],
            [
             0.7777777777777778,
             "#fb9f3a"
            ],
            [
             0.8888888888888888,
             "#fdca26"
            ],
            [
             1,
             "#f0f921"
            ]
           ],
           "sequentialminus": [
            [
             0,
             "#0d0887"
            ],
            [
             0.1111111111111111,
             "#46039f"
            ],
            [
             0.2222222222222222,
             "#7201a8"
            ],
            [
             0.3333333333333333,
             "#9c179e"
            ],
            [
             0.4444444444444444,
             "#bd3786"
            ],
            [
             0.5555555555555556,
             "#d8576b"
            ],
            [
             0.6666666666666666,
             "#ed7953"
            ],
            [
             0.7777777777777778,
             "#fb9f3a"
            ],
            [
             0.8888888888888888,
             "#fdca26"
            ],
            [
             1,
             "#f0f921"
            ]
           ]
          },
          "colorway": [
           "#636efa",
           "#EF553B",
           "#00cc96",
           "#ab63fa",
           "#FFA15A",
           "#19d3f3",
           "#FF6692",
           "#B6E880",
           "#FF97FF",
           "#FECB52"
          ],
          "font": {
           "color": "#2a3f5f"
          },
          "geo": {
           "bgcolor": "white",
           "lakecolor": "white",
           "landcolor": "#E5ECF6",
           "showlakes": true,
           "showland": true,
           "subunitcolor": "white"
          },
          "hoverlabel": {
           "align": "left"
          },
          "hovermode": "closest",
          "mapbox": {
           "style": "light"
          },
          "paper_bgcolor": "white",
          "plot_bgcolor": "#E5ECF6",
          "polar": {
           "angularaxis": {
            "gridcolor": "white",
            "linecolor": "white",
            "ticks": ""
           },
           "bgcolor": "#E5ECF6",
           "radialaxis": {
            "gridcolor": "white",
            "linecolor": "white",
            "ticks": ""
           }
          },
          "scene": {
           "xaxis": {
            "backgroundcolor": "#E5ECF6",
            "gridcolor": "white",
            "gridwidth": 2,
            "linecolor": "white",
            "showbackground": true,
            "ticks": "",
            "zerolinecolor": "white"
           },
           "yaxis": {
            "backgroundcolor": "#E5ECF6",
            "gridcolor": "white",
            "gridwidth": 2,
            "linecolor": "white",
            "showbackground": true,
            "ticks": "",
            "zerolinecolor": "white"
           },
           "zaxis": {
            "backgroundcolor": "#E5ECF6",
            "gridcolor": "white",
            "gridwidth": 2,
            "linecolor": "white",
            "showbackground": true,
            "ticks": "",
            "zerolinecolor": "white"
           }
          },
          "shapedefaults": {
           "line": {
            "color": "#2a3f5f"
           }
          },
          "ternary": {
           "aaxis": {
            "gridcolor": "white",
            "linecolor": "white",
            "ticks": ""
           },
           "baxis": {
            "gridcolor": "white",
            "linecolor": "white",
            "ticks": ""
           },
           "bgcolor": "#E5ECF6",
           "caxis": {
            "gridcolor": "white",
            "linecolor": "white",
            "ticks": ""
           }
          },
          "title": {
           "x": 0.05
          },
          "xaxis": {
           "automargin": true,
           "gridcolor": "white",
           "linecolor": "white",
           "ticks": "",
           "title": {
            "standoff": 15
           },
           "zerolinecolor": "white",
           "zerolinewidth": 2
          },
          "yaxis": {
           "automargin": true,
           "gridcolor": "white",
           "linecolor": "white",
           "ticks": "",
           "title": {
            "standoff": 15
           },
           "zerolinecolor": "white",
           "zerolinewidth": 2
          }
         }
        },
        "width": 800,
        "xaxis": {
         "anchor": "y",
         "constrain": "domain",
         "domain": [
          0,
          1
         ],
         "scaleanchor": "y",
         "tickfont": {
          "size": 10
         }
        },
        "yaxis": {
         "anchor": "x",
         "autorange": "reversed",
         "constrain": "domain",
         "domain": [
          0,
          1
         ],
         "tickfont": {
          "size": 10
         }
        }
       }
      }
     },
     "metadata": {},
     "output_type": "display_data"
    }
   ],
   "source": [
    "corr = biotargets_df[['SLCO1B1','SLCO1B3','LMNA','REP']].corr(method='pearson')\n",
    "fig = px.imshow(corr, text_auto=True, width=800, height=800)\n",
    "\n",
    "fig.update_layout(\n",
    "    yaxis=dict(tickfont=dict(size=10)),\n",
    "    xaxis=dict(tickfont=dict(size=10)))\n",
    "\n",
    "fig.show()"
   ]
  },
  {
   "cell_type": "markdown",
   "metadata": {},
   "source": [
    "All binding sites"
   ]
  },
  {
   "cell_type": "code",
   "execution_count": null,
   "metadata": {},
   "outputs": [],
   "source": [
    "corr = biotargets_df.corr(method='pearson')\n",
    "fig = px.imshow(corr, text_auto=True, width=800, height=800)\n",
    "\n",
    "fig.update_layout(\n",
    "    yaxis=dict(tickfont=dict(size=10)),\n",
    "    xaxis=dict(tickfont=dict(size=10)))\n",
    "\n",
    "fig.show()"
   ]
  },
  {
   "cell_type": "markdown",
   "metadata": {},
   "source": [
    "All Molecules"
   ]
  },
  {
   "cell_type": "code",
   "execution_count": null,
   "metadata": {},
   "outputs": [],
   "source": [
    "biotargets_T = biotargets_df.T\n",
    "corr = biotargets_T.corr(method='pearson')\n",
    "fig = px.imshow(corr, text_auto=True, width=800, height=800)\n",
    "\n",
    "fig.update_layout(\n",
    "    yaxis=dict(tickfont=dict(size=10)),\n",
    "    xaxis=dict(tickfont=dict(size=10)))\n",
    "\n",
    "fig.show()"
   ]
  },
  {
   "cell_type": "markdown",
   "metadata": {},
   "source": [
    "**PCA**"
   ]
  },
  {
   "cell_type": "code",
   "execution_count": 176,
   "metadata": {},
   "outputs": [],
   "source": [
    "def elbow_knee(data, model, K):\n",
    "    # Instantiate the clustering model and visualizer\n",
    "    visualizer = KElbowVisualizer(model, metric='silhouette', k=(2, K))\n",
    "\n",
    "    visualizer.fit(data)        # Fit the data to the visualizer\n",
    "    visualizer.show()"
   ]
  },
  {
   "cell_type": "code",
   "execution_count": 177,
   "metadata": {},
   "outputs": [
    {
     "data": {
      "image/png": "[encoded data removed]",
      "text/plain": [
       "<Figure size 576x396 with 2 Axes>"
      ]
     },
     "metadata": {},
     "output_type": "display_data"
    }
   ],
   "source": [
    "elbow_knee(biotargets_df, KMeans(), 30)"
   ]
  },
  {
   "cell_type": "code",
   "execution_count": 200,
   "metadata": {},
   "outputs": [
    {
     "name": "stdout",
     "output_type": "stream",
     "text": [
      "The lowest SSE value: 8386.668302257118 \n",
      "\n",
      " Final locations of the centroid: \n",
      " [[2.16840434e-19 2.16840434e-19 8.67361738e-19 ... 4.33680869e-19\n",
      "  1.73472348e-18 2.16840434e-19]\n",
      " [9.81354269e-04 9.81354269e-04 4.90677134e-03 ... 2.94406281e-03\n",
      "  7.85083415e-03 9.81354269e-04]] \n",
      "\n",
      " The number of iterations required to converge: 16\n"
     ]
    }
   ],
   "source": [
    "kmeans = KMeans(n_clusters=2, random_state=42)\n",
    "\n",
    "cluster_targets = biotargets_df.copy(deep=True)\n",
    "cluster_targets['cluster'] = kmeans.fit_predict(biotargets_df)\n",
    "\n",
    "print(\"The lowest SSE value:\",kmeans.inertia_,\"\\n\\n\", \n",
    "      \"Final locations of the centroid:\",\"\\n\",kmeans.cluster_centers_,\"\\n\\n\",\n",
    "      \"The number of iterations required to converge:\",kmeans.n_iter_)"
   ]
  },
  {
   "cell_type": "code",
   "execution_count": 201,
   "metadata": {},
   "outputs": [],
   "source": [
    "pca = pd.DataFrame(PCA(n_components=2).fit_transform(biotargets_df), columns= [\"PC1\",\"PC2\"])"
   ]
  },
  {
   "cell_type": "code",
   "execution_count": 202,
   "metadata": {},
   "outputs": [
    {
     "data": {
      "text/html": [
       "<div>\n",
       "<style scoped>\n",
       "    .dataframe tbody tr th:only-of-type {\n",
       "        vertical-align: middle;\n",
       "    }\n",
       "\n",
       "    .dataframe tbody tr th {\n",
       "        vertical-align: top;\n",
       "    }\n",
       "\n",
       "    .dataframe thead th {\n",
       "        text-align: right;\n",
       "    }\n",
       "</style>\n",
       "<table border=\"1\" class=\"dataframe\">\n",
       "  <thead>\n",
       "    <tr style=\"text-align: right;\">\n",
       "      <th></th>\n",
       "      <th>PC1</th>\n",
       "      <th>PC2</th>\n",
       "    </tr>\n",
       "  </thead>\n",
       "  <tbody>\n",
       "    <tr>\n",
       "      <th>0</th>\n",
       "      <td>-0.310511</td>\n",
       "      <td>0.213442</td>\n",
       "    </tr>\n",
       "    <tr>\n",
       "      <th>1</th>\n",
       "      <td>-0.270234</td>\n",
       "      <td>0.201771</td>\n",
       "    </tr>\n",
       "    <tr>\n",
       "      <th>2</th>\n",
       "      <td>-0.474279</td>\n",
       "      <td>0.162218</td>\n",
       "    </tr>\n",
       "    <tr>\n",
       "      <th>3</th>\n",
       "      <td>0.018158</td>\n",
       "      <td>-0.022192</td>\n",
       "    </tr>\n",
       "    <tr>\n",
       "      <th>4</th>\n",
       "      <td>0.177521</td>\n",
       "      <td>-0.840846</td>\n",
       "    </tr>\n",
       "    <tr>\n",
       "      <th>...</th>\n",
       "      <td>...</td>\n",
       "      <td>...</td>\n",
       "    </tr>\n",
       "    <tr>\n",
       "      <th>1096</th>\n",
       "      <td>0.187946</td>\n",
       "      <td>-0.393315</td>\n",
       "    </tr>\n",
       "    <tr>\n",
       "      <th>1097</th>\n",
       "      <td>-0.422368</td>\n",
       "      <td>-0.594998</td>\n",
       "    </tr>\n",
       "    <tr>\n",
       "      <th>1098</th>\n",
       "      <td>-0.495152</td>\n",
       "      <td>0.144268</td>\n",
       "    </tr>\n",
       "    <tr>\n",
       "      <th>1099</th>\n",
       "      <td>-0.370223</td>\n",
       "      <td>0.203413</td>\n",
       "    </tr>\n",
       "    <tr>\n",
       "      <th>1100</th>\n",
       "      <td>-0.008321</td>\n",
       "      <td>0.054234</td>\n",
       "    </tr>\n",
       "  </tbody>\n",
       "</table>\n",
       "<p>1101 rows × 2 columns</p>\n",
       "</div>"
      ],
      "text/plain": [
       "           PC1       PC2\n",
       "0    -0.310511  0.213442\n",
       "1    -0.270234  0.201771\n",
       "2    -0.474279  0.162218\n",
       "3     0.018158 -0.022192\n",
       "4     0.177521 -0.840846\n",
       "...        ...       ...\n",
       "1096  0.187946 -0.393315\n",
       "1097 -0.422368 -0.594998\n",
       "1098 -0.495152  0.144268\n",
       "1099 -0.370223  0.203413\n",
       "1100 -0.008321  0.054234\n",
       "\n",
       "[1101 rows x 2 columns]"
      ]
     },
     "execution_count": 202,
     "metadata": {},
     "output_type": "execute_result"
    }
   ],
   "source": [
    "pca"
   ]
  },
  {
   "cell_type": "code",
   "execution_count": 217,
   "metadata": {},
   "outputs": [
    {
     "data": {
      "text/html": [
       "<div>\n",
       "<style scoped>\n",
       "    .dataframe tbody tr th:only-of-type {\n",
       "        vertical-align: middle;\n",
       "    }\n",
       "\n",
       "    .dataframe tbody tr th {\n",
       "        vertical-align: top;\n",
       "    }\n",
       "\n",
       "    .dataframe thead th {\n",
       "        text-align: right;\n",
       "    }\n",
       "</style>\n",
       "<table border=\"1\" class=\"dataframe\">\n",
       "  <thead>\n",
       "    <tr style=\"text-align: right;\">\n",
       "      <th></th>\n",
       "      <th>Molecules</th>\n",
       "      <th>PC1</th>\n",
       "      <th>PC2</th>\n",
       "      <th>5HTR1D</th>\n",
       "      <th>AADAC</th>\n",
       "      <th>AAK1</th>\n",
       "      <th>ABAT</th>\n",
       "      <th>ABCB1</th>\n",
       "      <th>ABCB11</th>\n",
       "      <th>ABCB1A</th>\n",
       "      <th>...</th>\n",
       "      <th>VIM-2</th>\n",
       "      <th>VKORC1</th>\n",
       "      <th>VRK2</th>\n",
       "      <th>WEE1</th>\n",
       "      <th>WEE2</th>\n",
       "      <th>XBP1</th>\n",
       "      <th>XDH</th>\n",
       "      <th>YES1</th>\n",
       "      <th>ZAP70</th>\n",
       "      <th>cluster</th>\n",
       "    </tr>\n",
       "  </thead>\n",
       "  <tbody>\n",
       "    <tr>\n",
       "      <th>0</th>\n",
       "      <td>PDFDA0001</td>\n",
       "      <td>-0.310511</td>\n",
       "      <td>0.213442</td>\n",
       "      <td>0</td>\n",
       "      <td>0</td>\n",
       "      <td>0</td>\n",
       "      <td>0</td>\n",
       "      <td>1</td>\n",
       "      <td>0</td>\n",
       "      <td>0</td>\n",
       "      <td>...</td>\n",
       "      <td>0</td>\n",
       "      <td>0</td>\n",
       "      <td>0</td>\n",
       "      <td>0</td>\n",
       "      <td>0</td>\n",
       "      <td>0</td>\n",
       "      <td>0</td>\n",
       "      <td>0</td>\n",
       "      <td>0</td>\n",
       "      <td>1</td>\n",
       "    </tr>\n",
       "    <tr>\n",
       "      <th>1</th>\n",
       "      <td>PDFDA0002</td>\n",
       "      <td>-0.270234</td>\n",
       "      <td>0.201771</td>\n",
       "      <td>0</td>\n",
       "      <td>0</td>\n",
       "      <td>0</td>\n",
       "      <td>0</td>\n",
       "      <td>0</td>\n",
       "      <td>0</td>\n",
       "      <td>0</td>\n",
       "      <td>...</td>\n",
       "      <td>0</td>\n",
       "      <td>0</td>\n",
       "      <td>0</td>\n",
       "      <td>0</td>\n",
       "      <td>0</td>\n",
       "      <td>0</td>\n",
       "      <td>0</td>\n",
       "      <td>0</td>\n",
       "      <td>0</td>\n",
       "      <td>1</td>\n",
       "    </tr>\n",
       "    <tr>\n",
       "      <th>2</th>\n",
       "      <td>PDFDA0003</td>\n",
       "      <td>-0.474279</td>\n",
       "      <td>0.162218</td>\n",
       "      <td>0</td>\n",
       "      <td>0</td>\n",
       "      <td>0</td>\n",
       "      <td>0</td>\n",
       "      <td>0</td>\n",
       "      <td>0</td>\n",
       "      <td>0</td>\n",
       "      <td>...</td>\n",
       "      <td>0</td>\n",
       "      <td>0</td>\n",
       "      <td>0</td>\n",
       "      <td>0</td>\n",
       "      <td>0</td>\n",
       "      <td>0</td>\n",
       "      <td>0</td>\n",
       "      <td>0</td>\n",
       "      <td>0</td>\n",
       "      <td>1</td>\n",
       "    </tr>\n",
       "    <tr>\n",
       "      <th>3</th>\n",
       "      <td>PDFDA0004</td>\n",
       "      <td>0.018158</td>\n",
       "      <td>-0.022192</td>\n",
       "      <td>0</td>\n",
       "      <td>0</td>\n",
       "      <td>0</td>\n",
       "      <td>0</td>\n",
       "      <td>0</td>\n",
       "      <td>0</td>\n",
       "      <td>0</td>\n",
       "      <td>...</td>\n",
       "      <td>0</td>\n",
       "      <td>0</td>\n",
       "      <td>0</td>\n",
       "      <td>0</td>\n",
       "      <td>0</td>\n",
       "      <td>0</td>\n",
       "      <td>0</td>\n",
       "      <td>0</td>\n",
       "      <td>0</td>\n",
       "      <td>1</td>\n",
       "    </tr>\n",
       "    <tr>\n",
       "      <th>4</th>\n",
       "      <td>PDFDA0005</td>\n",
       "      <td>0.177521</td>\n",
       "      <td>-0.840846</td>\n",
       "      <td>0</td>\n",
       "      <td>0</td>\n",
       "      <td>0</td>\n",
       "      <td>0</td>\n",
       "      <td>0</td>\n",
       "      <td>0</td>\n",
       "      <td>0</td>\n",
       "      <td>...</td>\n",
       "      <td>0</td>\n",
       "      <td>0</td>\n",
       "      <td>0</td>\n",
       "      <td>0</td>\n",
       "      <td>0</td>\n",
       "      <td>0</td>\n",
       "      <td>0</td>\n",
       "      <td>0</td>\n",
       "      <td>0</td>\n",
       "      <td>1</td>\n",
       "    </tr>\n",
       "    <tr>\n",
       "      <th>...</th>\n",
       "      <td>...</td>\n",
       "      <td>...</td>\n",
       "      <td>...</td>\n",
       "      <td>...</td>\n",
       "      <td>...</td>\n",
       "      <td>...</td>\n",
       "      <td>...</td>\n",
       "      <td>...</td>\n",
       "      <td>...</td>\n",
       "      <td>...</td>\n",
       "      <td>...</td>\n",
       "      <td>...</td>\n",
       "      <td>...</td>\n",
       "      <td>...</td>\n",
       "      <td>...</td>\n",
       "      <td>...</td>\n",
       "      <td>...</td>\n",
       "      <td>...</td>\n",
       "      <td>...</td>\n",
       "      <td>...</td>\n",
       "      <td>...</td>\n",
       "    </tr>\n",
       "    <tr>\n",
       "      <th>1096</th>\n",
       "      <td>PDFDA1097</td>\n",
       "      <td>0.187946</td>\n",
       "      <td>-0.393315</td>\n",
       "      <td>0</td>\n",
       "      <td>0</td>\n",
       "      <td>0</td>\n",
       "      <td>0</td>\n",
       "      <td>0</td>\n",
       "      <td>0</td>\n",
       "      <td>0</td>\n",
       "      <td>...</td>\n",
       "      <td>0</td>\n",
       "      <td>0</td>\n",
       "      <td>0</td>\n",
       "      <td>0</td>\n",
       "      <td>0</td>\n",
       "      <td>0</td>\n",
       "      <td>0</td>\n",
       "      <td>0</td>\n",
       "      <td>0</td>\n",
       "      <td>1</td>\n",
       "    </tr>\n",
       "    <tr>\n",
       "      <th>1097</th>\n",
       "      <td>PDFDA1098</td>\n",
       "      <td>-0.422368</td>\n",
       "      <td>-0.594998</td>\n",
       "      <td>0</td>\n",
       "      <td>0</td>\n",
       "      <td>0</td>\n",
       "      <td>0</td>\n",
       "      <td>0</td>\n",
       "      <td>0</td>\n",
       "      <td>0</td>\n",
       "      <td>...</td>\n",
       "      <td>0</td>\n",
       "      <td>0</td>\n",
       "      <td>0</td>\n",
       "      <td>0</td>\n",
       "      <td>0</td>\n",
       "      <td>0</td>\n",
       "      <td>0</td>\n",
       "      <td>0</td>\n",
       "      <td>0</td>\n",
       "      <td>1</td>\n",
       "    </tr>\n",
       "    <tr>\n",
       "      <th>1098</th>\n",
       "      <td>PDFDA1099</td>\n",
       "      <td>-0.495152</td>\n",
       "      <td>0.144268</td>\n",
       "      <td>0</td>\n",
       "      <td>0</td>\n",
       "      <td>0</td>\n",
       "      <td>0</td>\n",
       "      <td>0</td>\n",
       "      <td>0</td>\n",
       "      <td>0</td>\n",
       "      <td>...</td>\n",
       "      <td>0</td>\n",
       "      <td>0</td>\n",
       "      <td>0</td>\n",
       "      <td>0</td>\n",
       "      <td>0</td>\n",
       "      <td>0</td>\n",
       "      <td>0</td>\n",
       "      <td>0</td>\n",
       "      <td>0</td>\n",
       "      <td>1</td>\n",
       "    </tr>\n",
       "    <tr>\n",
       "      <th>1099</th>\n",
       "      <td>PDFDA1100</td>\n",
       "      <td>-0.370223</td>\n",
       "      <td>0.203413</td>\n",
       "      <td>0</td>\n",
       "      <td>0</td>\n",
       "      <td>0</td>\n",
       "      <td>0</td>\n",
       "      <td>0</td>\n",
       "      <td>0</td>\n",
       "      <td>0</td>\n",
       "      <td>...</td>\n",
       "      <td>0</td>\n",
       "      <td>0</td>\n",
       "      <td>0</td>\n",
       "      <td>0</td>\n",
       "      <td>0</td>\n",
       "      <td>0</td>\n",
       "      <td>0</td>\n",
       "      <td>0</td>\n",
       "      <td>0</td>\n",
       "      <td>1</td>\n",
       "    </tr>\n",
       "    <tr>\n",
       "      <th>1100</th>\n",
       "      <td>PDFDA1101</td>\n",
       "      <td>-0.008321</td>\n",
       "      <td>0.054234</td>\n",
       "      <td>0</td>\n",
       "      <td>0</td>\n",
       "      <td>0</td>\n",
       "      <td>0</td>\n",
       "      <td>0</td>\n",
       "      <td>0</td>\n",
       "      <td>0</td>\n",
       "      <td>...</td>\n",
       "      <td>0</td>\n",
       "      <td>0</td>\n",
       "      <td>0</td>\n",
       "      <td>0</td>\n",
       "      <td>0</td>\n",
       "      <td>0</td>\n",
       "      <td>0</td>\n",
       "      <td>0</td>\n",
       "      <td>0</td>\n",
       "      <td>1</td>\n",
       "    </tr>\n",
       "  </tbody>\n",
       "</table>\n",
       "<p>1101 rows × 1247 columns</p>\n",
       "</div>"
      ],
      "text/plain": [
       "      Molecules       PC1       PC2  5HTR1D  AADAC  AAK1  ABAT  ABCB1  ABCB11  \\\n",
       "0     PDFDA0001 -0.310511  0.213442       0      0     0     0      1       0   \n",
       "1     PDFDA0002 -0.270234  0.201771       0      0     0     0      0       0   \n",
       "2     PDFDA0003 -0.474279  0.162218       0      0     0     0      0       0   \n",
       "3     PDFDA0004  0.018158 -0.022192       0      0     0     0      0       0   \n",
       "4     PDFDA0005  0.177521 -0.840846       0      0     0     0      0       0   \n",
       "...         ...       ...       ...     ...    ...   ...   ...    ...     ...   \n",
       "1096  PDFDA1097  0.187946 -0.393315       0      0     0     0      0       0   \n",
       "1097  PDFDA1098 -0.422368 -0.594998       0      0     0     0      0       0   \n",
       "1098  PDFDA1099 -0.495152  0.144268       0      0     0     0      0       0   \n",
       "1099  PDFDA1100 -0.370223  0.203413       0      0     0     0      0       0   \n",
       "1100  PDFDA1101 -0.008321  0.054234       0      0     0     0      0       0   \n",
       "\n",
       "      ABCB1A  ...  VIM-2  VKORC1  VRK2  WEE1  WEE2  XBP1  XDH  YES1  ZAP70  \\\n",
       "0          0  ...      0       0     0     0     0     0    0     0      0   \n",
       "1          0  ...      0       0     0     0     0     0    0     0      0   \n",
       "2          0  ...      0       0     0     0     0     0    0     0      0   \n",
       "3          0  ...      0       0     0     0     0     0    0     0      0   \n",
       "4          0  ...      0       0     0     0     0     0    0     0      0   \n",
       "...      ...  ...    ...     ...   ...   ...   ...   ...  ...   ...    ...   \n",
       "1096       0  ...      0       0     0     0     0     0    0     0      0   \n",
       "1097       0  ...      0       0     0     0     0     0    0     0      0   \n",
       "1098       0  ...      0       0     0     0     0     0    0     0      0   \n",
       "1099       0  ...      0       0     0     0     0     0    0     0      0   \n",
       "1100       0  ...      0       0     0     0     0     0    0     0      0   \n",
       "\n",
       "      cluster  \n",
       "0           1  \n",
       "1           1  \n",
       "2           1  \n",
       "3           1  \n",
       "4           1  \n",
       "...       ...  \n",
       "1096        1  \n",
       "1097        1  \n",
       "1098        1  \n",
       "1099        1  \n",
       "1100        1  \n",
       "\n",
       "[1101 rows x 1247 columns]"
      ]
     },
     "execution_count": 217,
     "metadata": {},
     "output_type": "execute_result"
    }
   ],
   "source": [
    "pca_targets = pd.concat([pca.reset_index(drop=True), cluster_targets.reset_index(drop=True)], axis=1)\n",
    "pca_targets = pd.concat([mlabels_df.reset_index(drop=True), pca_targets.reset_index(drop=True)], axis=1)\n",
    "pca_targets"
   ]
  },
  {
   "cell_type": "markdown",
   "metadata": {},
   "source": [
    "**2 Clusters - SLCO1B1**"
   ]
  },
  {
   "cell_type": "code",
   "execution_count": 284,
   "metadata": {},
   "outputs": [
    {
     "data": {
      "text/plain": [
       "<AxesSubplot:xlabel='PC1', ylabel='PC2'>"
      ]
     },
     "execution_count": 284,
     "metadata": {},
     "output_type": "execute_result"
    },
    {
     "data": {
      "image/png": "[encoded data removed]",
      "text/plain": [
       "<Figure size 432x288 with 1 Axes>"
      ]
     },
     "metadata": {
      "needs_background": "light"
     },
     "output_type": "display_data"
    }
   ],
   "source": [
    "sns.scatterplot(data = pca_targets, x = \"PC1\", y = \"PC2\", hue = \"SLCO1B1\", style=\"cluster\")"
   ]
  },
  {
   "cell_type": "markdown",
   "metadata": {},
   "source": [
    "**2 cluster - SLCO1B3**"
   ]
  },
  {
   "cell_type": "code",
   "execution_count": 285,
   "metadata": {},
   "outputs": [
    {
     "data": {
      "text/plain": [
       "<AxesSubplot:xlabel='PC1', ylabel='PC2'>"
      ]
     },
     "execution_count": 285,
     "metadata": {},
     "output_type": "execute_result"
    },
    {
     "data": {
      "image/png": "[encoded data removed]",
      "text/plain": [
       "<Figure size 432x288 with 1 Axes>"
      ]
     },
     "metadata": {
      "needs_background": "light"
     },
     "output_type": "display_data"
    }
   ],
   "source": [
    "sns.scatterplot(data = pca_targets, x = \"PC1\", y = \"PC2\", hue = \"SLCO1B3\", style=\"cluster\")"
   ]
  },
  {
   "cell_type": "markdown",
   "metadata": {},
   "source": [
    "**2 Clusters - \tREP**"
   ]
  },
  {
   "cell_type": "code",
   "execution_count": 251,
   "metadata": {},
   "outputs": [
    {
     "data": {
      "text/plain": [
       "<AxesSubplot:xlabel='PC1', ylabel='PC2'>"
      ]
     },
     "execution_count": 251,
     "metadata": {},
     "output_type": "execute_result"
    },
    {
     "data": {
      "image/png": "[encoded data removed]",
      "text/plain": [
       "<Figure size 576x396 with 1 Axes>"
      ]
     },
     "metadata": {},
     "output_type": "display_data"
    }
   ],
   "source": [
    "sns.scatterplot(data = pca_targets, x = \"PC1\", y = \"PC2\", hue = \"REP\", style=\"cluster\")"
   ]
  },
  {
   "cell_type": "markdown",
   "metadata": {},
   "source": [
    "**2 Clusters - LMNA**"
   ]
  },
  {
   "cell_type": "code",
   "execution_count": 252,
   "metadata": {},
   "outputs": [
    {
     "data": {
      "text/plain": [
       "<AxesSubplot:xlabel='PC1', ylabel='PC2'>"
      ]
     },
     "execution_count": 252,
     "metadata": {},
     "output_type": "execute_result"
    },
    {
     "data": {
      "image/png": "[encoded data removed]",
      "text/plain": [
       "<Figure size 576x396 with 1 Axes>"
      ]
     },
     "metadata": {},
     "output_type": "display_data"
    }
   ],
   "source": [
    "sns.scatterplot(data = pca_targets, x = \"PC1\", y = \"PC2\", hue = \"LMNA\", style=\"cluster\")"
   ]
  },
  {
   "cell_type": "markdown",
   "metadata": {},
   "source": [
    "**SLCO1B1 Vs. SLCO1B3**"
   ]
  },
  {
   "cell_type": "code",
   "execution_count": 253,
   "metadata": {},
   "outputs": [
    {
     "data": {
      "text/plain": [
       "<AxesSubplot:xlabel='PC1', ylabel='PC2'>"
      ]
     },
     "execution_count": 253,
     "metadata": {},
     "output_type": "execute_result"
    },
    {
     "data": {
      "image/png": "[encoded data removed]",
      "text/plain": [
       "<Figure size 720x432 with 1 Axes>"
      ]
     },
     "metadata": {},
     "output_type": "display_data"
    }
   ],
   "source": [
    "plt.figure(figsize=(10,6))\n",
    "# fig = sns.scatterplot(data = pca_targets, x = \"PC1\", y = \"PC2\", hue = \"SLCO1B1\", style=\"SLCO1B3\")\n",
    "\n",
    "# def label_point(x, y, val, ax):\n",
    "#     a = pd.concat({'x': x, 'y': y, 'val': val}, axis=1)\n",
    "#     for i, point in a.iterrows():\n",
    "#         ax.text(point['x']+.02, point['y'], str(point['val']), size='small')\n",
    "\n",
    "# label_point(pca_targets.PC1, pca_targets.PC2, pca_targets.Molecules, fig) \n",
    "\n",
    "sns.scatterplot(data = pca_targets, x = \"PC1\", y = \"PC2\", hue = \"SLCO1B1\", style=\"SLCO1B3\")"
   ]
  },
  {
   "cell_type": "markdown",
   "metadata": {},
   "source": [
    "**REP Vs. LMNA**"
   ]
  },
  {
   "cell_type": "code",
   "execution_count": 254,
   "metadata": {},
   "outputs": [
    {
     "data": {
      "text/plain": [
       "<AxesSubplot:xlabel='PC1', ylabel='PC2'>"
      ]
     },
     "execution_count": 254,
     "metadata": {},
     "output_type": "execute_result"
    },
    {
     "data": {
      "image/png": "[encoded data removed]",
      "text/plain": [
       "<Figure size 576x396 with 1 Axes>"
      ]
     },
     "metadata": {},
     "output_type": "display_data"
    }
   ],
   "source": [
    "sns.scatterplot(data = pca_targets, x = \"PC1\", y = \"PC2\", hue = \"LMNA\", style=\"REP\")"
   ]
  },
  {
   "cell_type": "markdown",
   "metadata": {},
   "source": [
    "**SLCO1B1 Vs. REP**"
   ]
  },
  {
   "cell_type": "code",
   "execution_count": 255,
   "metadata": {},
   "outputs": [
    {
     "data": {
      "text/plain": [
       "<AxesSubplot:xlabel='PC1', ylabel='PC2'>"
      ]
     },
     "execution_count": 255,
     "metadata": {},
     "output_type": "execute_result"
    },
    {
     "data": {
      "image/png": "[encoded data removed]",
      "text/plain": [
       "<Figure size 576x396 with 1 Axes>"
      ]
     },
     "metadata": {},
     "output_type": "display_data"
    }
   ],
   "source": [
    "sns.scatterplot(data = pca_targets, x = \"PC1\", y = \"PC2\", hue = \"SLCO1B1\", style=\"REP\")"
   ]
  },
  {
   "cell_type": "markdown",
   "metadata": {},
   "source": [
    "**SLCO1B3 Vs. REP**"
   ]
  },
  {
   "cell_type": "code",
   "execution_count": 256,
   "metadata": {},
   "outputs": [
    {
     "data": {
      "text/plain": [
       "<AxesSubplot:xlabel='PC1', ylabel='PC2'>"
      ]
     },
     "execution_count": 256,
     "metadata": {},
     "output_type": "execute_result"
    },
    {
     "data": {
      "image/png": "[encoded data removed]",
      "text/plain": [
       "<Figure size 576x396 with 1 Axes>"
      ]
     },
     "metadata": {},
     "output_type": "display_data"
    }
   ],
   "source": [
    "sns.scatterplot(data = pca_targets, x = \"PC1\", y = \"PC2\", hue = \"SLCO1B3\", style=\"REP\")"
   ]
  },
  {
   "cell_type": "markdown",
   "metadata": {},
   "source": [
    "**SLCO1B1 VS. LMNA**"
   ]
  },
  {
   "cell_type": "code",
   "execution_count": 258,
   "metadata": {},
   "outputs": [
    {
     "data": {
      "text/plain": [
       "<AxesSubplot:xlabel='PC1', ylabel='PC2'>"
      ]
     },
     "execution_count": 258,
     "metadata": {},
     "output_type": "execute_result"
    },
    {
     "data": {
      "image/png": "[encoded data removed]",
      "text/plain": [
       "<Figure size 576x396 with 1 Axes>"
      ]
     },
     "metadata": {},
     "output_type": "display_data"
    }
   ],
   "source": [
    "sns.scatterplot(data = pca_targets, x = \"PC1\", y = \"PC2\", hue = \"SLCO1B1\", style=\"LMNA\")"
   ]
  },
  {
   "cell_type": "markdown",
   "metadata": {},
   "source": [
    "**SLCO1B3 VS. LMNA**"
   ]
  },
  {
   "cell_type": "code",
   "execution_count": 257,
   "metadata": {},
   "outputs": [
    {
     "data": {
      "text/plain": [
       "<AxesSubplot:xlabel='PC1', ylabel='PC2'>"
      ]
     },
     "execution_count": 257,
     "metadata": {},
     "output_type": "execute_result"
    },
    {
     "data": {
      "image/png": "[encoded data removed]",
      "text/plain": [
       "<Figure size 576x396 with 1 Axes>"
      ]
     },
     "metadata": {},
     "output_type": "display_data"
    }
   ],
   "source": [
    "sns.scatterplot(data = pca_targets, x = \"PC1\", y = \"PC2\", hue = \"SLCO1B3\", style=\"LMNA\")"
   ]
  }
 ],
 "metadata": {
  "interpreter": {
   "hash": "42477dcdce0807f4f736e9d7c63baa74f20c4156d4c55fc3b8c010e5516d3f0c"
  },
  "kernelspec": {
   "display_name": "Python 3.9.7 ('base')",
   "language": "python",
   "name": "python3"
  },
  "language_info": {
   "codemirror_mode": {
    "name": "ipython",
    "version": 3
   },
   "file_extension": ".py",
   "mimetype": "text/x-python",
   "name": "python",
   "nbconvert_exporter": "python",
   "pygments_lexer": "ipython3",
   "version": "3.9.7"
  },
  "orig_nbformat": 4
 },
 "nbformat": 4,
 "nbformat_minor": 2
}
