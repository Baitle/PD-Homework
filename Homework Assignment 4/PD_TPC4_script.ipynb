{
 "cells": [
  {
   "cell_type": "markdown",
   "metadata": {},
   "source": [
    "# Prospeção de Dados 2021/2022\n",
    "## Third Home Assignment - Clustering \n",
    "### Group 4\n",
    "Students\n",
    "- Catarina Canastra, nº57766\n",
    "- Daniel Dias, nº59056\n",
    "- João Raimundo, nº57454"
   ]
  },
  {
   "cell_type": "markdown",
   "metadata": {},
   "source": [
    "### 0.1. Import Packages"
   ]
  },
  {
   "cell_type": "code",
   "execution_count": 2,
   "metadata": {},
   "outputs": [],
   "source": [
    "import numpy as np\n",
    "import pandas as pd\n",
    "import matplotlib.pyplot as plt\n",
    "\n",
    "from sklearn.preprocessing import MinMaxScaler\n",
    "from sklearn.preprocessing import StandardScaler\n",
    "\n",
    "from sklearn.cluster import KMeans, DBSCAN, AgglomerativeClustering\n",
    "from sklearn.metrics.cluster import silhouette_score, silhouette_samples, calinski_harabasz_score\n",
    "from scipy.spatial.distance import pdist, squareform\n",
    "\n",
    "from kneed import KneeLocator"
   ]
  },
  {
   "cell_type": "markdown",
   "metadata": {},
   "source": [
    "### 0.2. Import Data"
   ]
  },
  {
   "cell_type": "code",
   "execution_count": 3,
   "metadata": {},
   "outputs": [],
   "source": [
    "data = pd.read_csv(\"jena_climate_2009_2016.csv\", sep=\",\", index_col=\"Date Time\", parse_dates=[0])"
   ]
  },
  {
   "cell_type": "code",
   "execution_count": 4,
   "metadata": {},
   "outputs": [
    {
     "data": {
      "text/plain": "                     p (mbar)  T (degC)  Tpot (K)  Tdew (degC)  rh (%)  \\\nDate Time                                                                \n2009-01-01 00:10:00    996.52     -8.02    265.40        -8.90    93.3   \n2009-01-01 00:20:00    996.57     -8.41    265.01        -9.28    93.4   \n2009-01-01 00:30:00    996.53     -8.51    264.91        -9.31    93.9   \n2009-01-01 00:40:00    996.51     -8.31    265.12        -9.07    94.2   \n2009-01-01 00:50:00    996.51     -8.27    265.15        -9.04    94.1   \n\n                     VPmax (mbar)  VPact (mbar)  VPdef (mbar)  sh (g/kg)  \\\nDate Time                                                                  \n2009-01-01 00:10:00          3.33          3.11          0.22       1.94   \n2009-01-01 00:20:00          3.23          3.02          0.21       1.89   \n2009-01-01 00:30:00          3.21          3.01          0.20       1.88   \n2009-01-01 00:40:00          3.26          3.07          0.19       1.92   \n2009-01-01 00:50:00          3.27          3.08          0.19       1.92   \n\n                     H2OC (mmol/mol)  rho (g/m**3)  wv (m/s)  max. wv (m/s)  \\\nDate Time                                                                     \n2009-01-01 00:10:00             3.12       1307.75      1.03           1.75   \n2009-01-01 00:20:00             3.03       1309.80      0.72           1.50   \n2009-01-01 00:30:00             3.02       1310.24      0.19           0.63   \n2009-01-01 00:40:00             3.08       1309.19      0.34           0.50   \n2009-01-01 00:50:00             3.09       1309.00      0.32           0.63   \n\n                     wd (deg)  \nDate Time                      \n2009-01-01 00:10:00     152.3  \n2009-01-01 00:20:00     136.1  \n2009-01-01 00:30:00     171.6  \n2009-01-01 00:40:00     198.0  \n2009-01-01 00:50:00     214.3  ",
      "text/html": "<div>\n<style scoped>\n    .dataframe tbody tr th:only-of-type {\n        vertical-align: middle;\n    }\n\n    .dataframe tbody tr th {\n        vertical-align: top;\n    }\n\n    .dataframe thead th {\n        text-align: right;\n    }\n</style>\n<table border=\"1\" class=\"dataframe\">\n  <thead>\n    <tr style=\"text-align: right;\">\n      <th></th>\n      <th>p (mbar)</th>\n      <th>T (degC)</th>\n      <th>Tpot (K)</th>\n      <th>Tdew (degC)</th>\n      <th>rh (%)</th>\n      <th>VPmax (mbar)</th>\n      <th>VPact (mbar)</th>\n      <th>VPdef (mbar)</th>\n      <th>sh (g/kg)</th>\n      <th>H2OC (mmol/mol)</th>\n      <th>rho (g/m**3)</th>\n      <th>wv (m/s)</th>\n      <th>max. wv (m/s)</th>\n      <th>wd (deg)</th>\n    </tr>\n    <tr>\n      <th>Date Time</th>\n      <th></th>\n      <th></th>\n      <th></th>\n      <th></th>\n      <th></th>\n      <th></th>\n      <th></th>\n      <th></th>\n      <th></th>\n      <th></th>\n      <th></th>\n      <th></th>\n      <th></th>\n      <th></th>\n    </tr>\n  </thead>\n  <tbody>\n    <tr>\n      <th>2009-01-01 00:10:00</th>\n      <td>996.52</td>\n      <td>-8.02</td>\n      <td>265.40</td>\n      <td>-8.90</td>\n      <td>93.3</td>\n      <td>3.33</td>\n      <td>3.11</td>\n      <td>0.22</td>\n      <td>1.94</td>\n      <td>3.12</td>\n      <td>1307.75</td>\n      <td>1.03</td>\n      <td>1.75</td>\n      <td>152.3</td>\n    </tr>\n    <tr>\n      <th>2009-01-01 00:20:00</th>\n      <td>996.57</td>\n      <td>-8.41</td>\n      <td>265.01</td>\n      <td>-9.28</td>\n      <td>93.4</td>\n      <td>3.23</td>\n      <td>3.02</td>\n      <td>0.21</td>\n      <td>1.89</td>\n      <td>3.03</td>\n      <td>1309.80</td>\n      <td>0.72</td>\n      <td>1.50</td>\n      <td>136.1</td>\n    </tr>\n    <tr>\n      <th>2009-01-01 00:30:00</th>\n      <td>996.53</td>\n      <td>-8.51</td>\n      <td>264.91</td>\n      <td>-9.31</td>\n      <td>93.9</td>\n      <td>3.21</td>\n      <td>3.01</td>\n      <td>0.20</td>\n      <td>1.88</td>\n      <td>3.02</td>\n      <td>1310.24</td>\n      <td>0.19</td>\n      <td>0.63</td>\n      <td>171.6</td>\n    </tr>\n    <tr>\n      <th>2009-01-01 00:40:00</th>\n      <td>996.51</td>\n      <td>-8.31</td>\n      <td>265.12</td>\n      <td>-9.07</td>\n      <td>94.2</td>\n      <td>3.26</td>\n      <td>3.07</td>\n      <td>0.19</td>\n      <td>1.92</td>\n      <td>3.08</td>\n      <td>1309.19</td>\n      <td>0.34</td>\n      <td>0.50</td>\n      <td>198.0</td>\n    </tr>\n    <tr>\n      <th>2009-01-01 00:50:00</th>\n      <td>996.51</td>\n      <td>-8.27</td>\n      <td>265.15</td>\n      <td>-9.04</td>\n      <td>94.1</td>\n      <td>3.27</td>\n      <td>3.08</td>\n      <td>0.19</td>\n      <td>1.92</td>\n      <td>3.09</td>\n      <td>1309.00</td>\n      <td>0.32</td>\n      <td>0.63</td>\n      <td>214.3</td>\n    </tr>\n  </tbody>\n</table>\n</div>"
     },
     "execution_count": 4,
     "metadata": {},
     "output_type": "execute_result"
    }
   ],
   "source": [
    "data.head(5)"
   ]
  },
  {
   "cell_type": "code",
   "execution_count": 5,
   "metadata": {},
   "outputs": [
    {
     "data": {
      "text/plain": "            p (mbar)       T (degC)       Tpot (K)    Tdew (degC)  \\\ncount  420551.000000  420551.000000  420551.000000  420551.000000   \nmean      989.212776       9.450147     283.492743       4.955854   \nstd         8.358481       8.423365       8.504471       6.730674   \nmin       913.600000     -23.010000     250.600000     -25.010000   \n25%       984.200000       3.360000     277.430000       0.240000   \n50%       989.580000       9.420000     283.470000       5.220000   \n75%       994.720000      15.470000     289.530000      10.070000   \nmax      1015.350000      37.280000     311.340000      23.110000   \n\n              rh (%)   VPmax (mbar)   VPact (mbar)   VPdef (mbar)  \\\ncount  420551.000000  420551.000000  420551.000000  420551.000000   \nmean       76.008259      13.576251       9.533756       4.042412   \nstd        16.476175       7.739020       4.184164       4.896851   \nmin        12.950000       0.950000       0.790000       0.000000   \n25%        65.210000       7.780000       6.210000       0.870000   \n50%        79.300000      11.820000       8.860000       2.190000   \n75%        89.400000      17.600000      12.350000       5.300000   \nmax       100.000000      63.770000      28.320000      46.010000   \n\n           sh (g/kg)  H2OC (mmol/mol)   rho (g/m**3)       wv (m/s)  \\\ncount  420551.000000    420551.000000  420551.000000  420551.000000   \nmean        6.022408         9.640223    1216.062748       1.702224   \nstd         2.656139         4.235395      39.975208      65.446714   \nmin         0.500000         0.800000    1059.450000   -9999.000000   \n25%         3.920000         6.290000    1187.490000       0.990000   \n50%         5.590000         8.960000    1213.790000       1.760000   \n75%         7.800000        12.490000    1242.770000       2.860000   \nmax        18.130000        28.820000    1393.540000      28.490000   \n\n       max. wv (m/s)       wd (deg)  \ncount  420551.000000  420551.000000  \nmean        3.056555     174.743738  \nstd        69.016932      86.681693  \nmin     -9999.000000       0.000000  \n25%         1.760000     124.900000  \n50%         2.960000     198.100000  \n75%         4.740000     234.100000  \nmax        23.500000     360.000000  ",
      "text/html": "<div>\n<style scoped>\n    .dataframe tbody tr th:only-of-type {\n        vertical-align: middle;\n    }\n\n    .dataframe tbody tr th {\n        vertical-align: top;\n    }\n\n    .dataframe thead th {\n        text-align: right;\n    }\n</style>\n<table border=\"1\" class=\"dataframe\">\n  <thead>\n    <tr style=\"text-align: right;\">\n      <th></th>\n      <th>p (mbar)</th>\n      <th>T (degC)</th>\n      <th>Tpot (K)</th>\n      <th>Tdew (degC)</th>\n      <th>rh (%)</th>\n      <th>VPmax (mbar)</th>\n      <th>VPact (mbar)</th>\n      <th>VPdef (mbar)</th>\n      <th>sh (g/kg)</th>\n      <th>H2OC (mmol/mol)</th>\n      <th>rho (g/m**3)</th>\n      <th>wv (m/s)</th>\n      <th>max. wv (m/s)</th>\n      <th>wd (deg)</th>\n    </tr>\n  </thead>\n  <tbody>\n    <tr>\n      <th>count</th>\n      <td>420551.000000</td>\n      <td>420551.000000</td>\n      <td>420551.000000</td>\n      <td>420551.000000</td>\n      <td>420551.000000</td>\n      <td>420551.000000</td>\n      <td>420551.000000</td>\n      <td>420551.000000</td>\n      <td>420551.000000</td>\n      <td>420551.000000</td>\n      <td>420551.000000</td>\n      <td>420551.000000</td>\n      <td>420551.000000</td>\n      <td>420551.000000</td>\n    </tr>\n    <tr>\n      <th>mean</th>\n      <td>989.212776</td>\n      <td>9.450147</td>\n      <td>283.492743</td>\n      <td>4.955854</td>\n      <td>76.008259</td>\n      <td>13.576251</td>\n      <td>9.533756</td>\n      <td>4.042412</td>\n      <td>6.022408</td>\n      <td>9.640223</td>\n      <td>1216.062748</td>\n      <td>1.702224</td>\n      <td>3.056555</td>\n      <td>174.743738</td>\n    </tr>\n    <tr>\n      <th>std</th>\n      <td>8.358481</td>\n      <td>8.423365</td>\n      <td>8.504471</td>\n      <td>6.730674</td>\n      <td>16.476175</td>\n      <td>7.739020</td>\n      <td>4.184164</td>\n      <td>4.896851</td>\n      <td>2.656139</td>\n      <td>4.235395</td>\n      <td>39.975208</td>\n      <td>65.446714</td>\n      <td>69.016932</td>\n      <td>86.681693</td>\n    </tr>\n    <tr>\n      <th>min</th>\n      <td>913.600000</td>\n      <td>-23.010000</td>\n      <td>250.600000</td>\n      <td>-25.010000</td>\n      <td>12.950000</td>\n      <td>0.950000</td>\n      <td>0.790000</td>\n      <td>0.000000</td>\n      <td>0.500000</td>\n      <td>0.800000</td>\n      <td>1059.450000</td>\n      <td>-9999.000000</td>\n      <td>-9999.000000</td>\n      <td>0.000000</td>\n    </tr>\n    <tr>\n      <th>25%</th>\n      <td>984.200000</td>\n      <td>3.360000</td>\n      <td>277.430000</td>\n      <td>0.240000</td>\n      <td>65.210000</td>\n      <td>7.780000</td>\n      <td>6.210000</td>\n      <td>0.870000</td>\n      <td>3.920000</td>\n      <td>6.290000</td>\n      <td>1187.490000</td>\n      <td>0.990000</td>\n      <td>1.760000</td>\n      <td>124.900000</td>\n    </tr>\n    <tr>\n      <th>50%</th>\n      <td>989.580000</td>\n      <td>9.420000</td>\n      <td>283.470000</td>\n      <td>5.220000</td>\n      <td>79.300000</td>\n      <td>11.820000</td>\n      <td>8.860000</td>\n      <td>2.190000</td>\n      <td>5.590000</td>\n      <td>8.960000</td>\n      <td>1213.790000</td>\n      <td>1.760000</td>\n      <td>2.960000</td>\n      <td>198.100000</td>\n    </tr>\n    <tr>\n      <th>75%</th>\n      <td>994.720000</td>\n      <td>15.470000</td>\n      <td>289.530000</td>\n      <td>10.070000</td>\n      <td>89.400000</td>\n      <td>17.600000</td>\n      <td>12.350000</td>\n      <td>5.300000</td>\n      <td>7.800000</td>\n      <td>12.490000</td>\n      <td>1242.770000</td>\n      <td>2.860000</td>\n      <td>4.740000</td>\n      <td>234.100000</td>\n    </tr>\n    <tr>\n      <th>max</th>\n      <td>1015.350000</td>\n      <td>37.280000</td>\n      <td>311.340000</td>\n      <td>23.110000</td>\n      <td>100.000000</td>\n      <td>63.770000</td>\n      <td>28.320000</td>\n      <td>46.010000</td>\n      <td>18.130000</td>\n      <td>28.820000</td>\n      <td>1393.540000</td>\n      <td>28.490000</td>\n      <td>23.500000</td>\n      <td>360.000000</td>\n    </tr>\n  </tbody>\n</table>\n</div>"
     },
     "execution_count": 5,
     "metadata": {},
     "output_type": "execute_result"
    }
   ],
   "source": [
    "data.describe()"
   ]
  },
  {
   "cell_type": "code",
   "execution_count": 6,
   "metadata": {},
   "outputs": [
    {
     "name": "stdout",
     "output_type": "stream",
     "text": [
      "(420551, 14)\n"
     ]
    }
   ],
   "source": [
    "print(data.shape)"
   ]
  },
  {
   "cell_type": "markdown",
   "metadata": {},
   "source": [
    "### 0.3. Data Pre-processing"
   ]
  },
  {
   "cell_type": "markdown",
   "metadata": {},
   "source": [
    "#### Split Data - Midnight (00:00:00) / Noon (12:00:00)"
   ]
  },
  {
   "cell_type": "markdown",
   "metadata": {},
   "source": [
    "**Midnight (00:00:00)**"
   ]
  },
  {
   "cell_type": "code",
   "execution_count": 7,
   "metadata": {},
   "outputs": [
    {
     "data": {
      "text/plain": "            p (mbar)  T (degC)  Tpot (K)  Tdew (degC)  rh (%)  VPmax (mbar)  \\\nDate Time                                                                     \n2009-02-01    999.59     -4.54    268.65        -5.46    93.2          4.36   \n2009-03-01   1002.32     -4.71    268.27        -6.09    90.0          4.30   \n2009-04-01    992.93     -1.90    271.81        -6.39    71.2          5.31   \n2009-05-01    985.07     -1.47    272.86        -2.45    93.0          5.48   \n2009-06-01    997.60    -12.63    260.71       -15.07    81.8          2.31   \n\n            VPact (mbar)  VPdef (mbar)  sh (g/kg)  H2OC (mmol/mol)  \\\nDate Time                                                            \n2009-02-01          4.06          0.30       2.53             4.06   \n2009-03-01          3.87          0.43       2.41             3.86   \n2009-04-01          3.78          1.53       2.37             3.81   \n2009-05-01          5.10          0.38       3.23             5.18   \n2009-06-01          1.89          0.42       1.18             1.89   \n\n            rho (g/m**3)  wv (m/s)  max. wv (m/s)  wd (deg)  \nDate Time                                                    \n2009-02-01       1294.33      0.41           0.88    155.00  \n2009-03-01       1298.79      1.42           1.88     16.85  \n2009-04-01       1273.31      1.47           2.50    147.60  \n2009-05-01       1260.58      1.42           3.00    239.80  \n2009-06-01       1332.96      1.60           2.63    355.50  ",
      "text/html": "<div>\n<style scoped>\n    .dataframe tbody tr th:only-of-type {\n        vertical-align: middle;\n    }\n\n    .dataframe tbody tr th {\n        vertical-align: top;\n    }\n\n    .dataframe thead th {\n        text-align: right;\n    }\n</style>\n<table border=\"1\" class=\"dataframe\">\n  <thead>\n    <tr style=\"text-align: right;\">\n      <th></th>\n      <th>p (mbar)</th>\n      <th>T (degC)</th>\n      <th>Tpot (K)</th>\n      <th>Tdew (degC)</th>\n      <th>rh (%)</th>\n      <th>VPmax (mbar)</th>\n      <th>VPact (mbar)</th>\n      <th>VPdef (mbar)</th>\n      <th>sh (g/kg)</th>\n      <th>H2OC (mmol/mol)</th>\n      <th>rho (g/m**3)</th>\n      <th>wv (m/s)</th>\n      <th>max. wv (m/s)</th>\n      <th>wd (deg)</th>\n    </tr>\n    <tr>\n      <th>Date Time</th>\n      <th></th>\n      <th></th>\n      <th></th>\n      <th></th>\n      <th></th>\n      <th></th>\n      <th></th>\n      <th></th>\n      <th></th>\n      <th></th>\n      <th></th>\n      <th></th>\n      <th></th>\n      <th></th>\n    </tr>\n  </thead>\n  <tbody>\n    <tr>\n      <th>2009-02-01</th>\n      <td>999.59</td>\n      <td>-4.54</td>\n      <td>268.65</td>\n      <td>-5.46</td>\n      <td>93.2</td>\n      <td>4.36</td>\n      <td>4.06</td>\n      <td>0.30</td>\n      <td>2.53</td>\n      <td>4.06</td>\n      <td>1294.33</td>\n      <td>0.41</td>\n      <td>0.88</td>\n      <td>155.00</td>\n    </tr>\n    <tr>\n      <th>2009-03-01</th>\n      <td>1002.32</td>\n      <td>-4.71</td>\n      <td>268.27</td>\n      <td>-6.09</td>\n      <td>90.0</td>\n      <td>4.30</td>\n      <td>3.87</td>\n      <td>0.43</td>\n      <td>2.41</td>\n      <td>3.86</td>\n      <td>1298.79</td>\n      <td>1.42</td>\n      <td>1.88</td>\n      <td>16.85</td>\n    </tr>\n    <tr>\n      <th>2009-04-01</th>\n      <td>992.93</td>\n      <td>-1.90</td>\n      <td>271.81</td>\n      <td>-6.39</td>\n      <td>71.2</td>\n      <td>5.31</td>\n      <td>3.78</td>\n      <td>1.53</td>\n      <td>2.37</td>\n      <td>3.81</td>\n      <td>1273.31</td>\n      <td>1.47</td>\n      <td>2.50</td>\n      <td>147.60</td>\n    </tr>\n    <tr>\n      <th>2009-05-01</th>\n      <td>985.07</td>\n      <td>-1.47</td>\n      <td>272.86</td>\n      <td>-2.45</td>\n      <td>93.0</td>\n      <td>5.48</td>\n      <td>5.10</td>\n      <td>0.38</td>\n      <td>3.23</td>\n      <td>5.18</td>\n      <td>1260.58</td>\n      <td>1.42</td>\n      <td>3.00</td>\n      <td>239.80</td>\n    </tr>\n    <tr>\n      <th>2009-06-01</th>\n      <td>997.60</td>\n      <td>-12.63</td>\n      <td>260.71</td>\n      <td>-15.07</td>\n      <td>81.8</td>\n      <td>2.31</td>\n      <td>1.89</td>\n      <td>0.42</td>\n      <td>1.18</td>\n      <td>1.89</td>\n      <td>1332.96</td>\n      <td>1.60</td>\n      <td>2.63</td>\n      <td>355.50</td>\n    </tr>\n  </tbody>\n</table>\n</div>"
     },
     "execution_count": 7,
     "metadata": {},
     "output_type": "execute_result"
    }
   ],
   "source": [
    "midnight_dt = data.at_time('00:00:00')\n",
    "midnight_dt.head(5)"
   ]
  },
  {
   "cell_type": "code",
   "execution_count": 8,
   "metadata": {},
   "outputs": [
    {
     "data": {
      "text/plain": "(2920, 14)"
     },
     "execution_count": 8,
     "metadata": {},
     "output_type": "execute_result"
    }
   ],
   "source": [
    "midnight_dt.shape"
   ]
  },
  {
   "cell_type": "markdown",
   "metadata": {},
   "source": [
    "**Noon (12:00:00)**"
   ]
  },
  {
   "cell_type": "code",
   "execution_count": 9,
   "metadata": {},
   "outputs": [
    {
     "data": {
      "text/plain": "                     p (mbar)  T (degC)  Tpot (K)  Tdew (degC)  rh (%)  \\\nDate Time                                                                \n2009-01-01 12:00:00   1000.30     -6.87    266.27        -8.28    89.6   \n2009-02-01 12:00:00    998.91     -3.12    270.13        -4.50    90.1   \n2009-03-01 12:00:00    999.02     -5.96    267.28        -8.72    80.7   \n2009-04-01 12:00:00    988.94     -1.21    272.82        -2.36    91.8   \n2009-05-01 12:00:00    990.42     -3.65    270.26        -5.54    86.6   \n\n                     VPmax (mbar)  VPact (mbar)  VPdef (mbar)  sh (g/kg)  \\\nDate Time                                                                  \n2009-01-01 12:00:00          3.64          3.27          0.38       2.03   \n2009-02-01 12:00:00          4.85          4.37          0.48       2.73   \n2009-03-01 12:00:00          3.91          3.16          0.75       1.97   \n2009-04-01 12:00:00          5.59          5.13          0.46       3.23   \n2009-05-01 12:00:00          4.66          4.04          0.62       2.54   \n\n                     H2OC (mmol/mol)  rho (g/m**3)  wv (m/s)  max. wv (m/s)  \\\nDate Time                                                                     \n2009-01-01 12:00:00             3.26       1306.98      1.84           2.63   \n2009-02-01 12:00:00             4.38       1286.47      1.54           2.00   \n2009-03-01 12:00:00             3.16       1300.90      1.31           1.88   \n2009-04-01 12:00:00             5.19       1264.30      1.99           3.88   \n2009-05-01 12:00:00             4.08       1278.21      5.49           8.38   \n\n                     wd (deg)  \nDate Time                      \n2009-01-01 12:00:00    184.40  \n2009-02-01 12:00:00    127.00  \n2009-03-01 12:00:00    213.90  \n2009-04-01 12:00:00    225.80  \n2009-05-01 12:00:00     17.44  ",
      "text/html": "<div>\n<style scoped>\n    .dataframe tbody tr th:only-of-type {\n        vertical-align: middle;\n    }\n\n    .dataframe tbody tr th {\n        vertical-align: top;\n    }\n\n    .dataframe thead th {\n        text-align: right;\n    }\n</style>\n<table border=\"1\" class=\"dataframe\">\n  <thead>\n    <tr style=\"text-align: right;\">\n      <th></th>\n      <th>p (mbar)</th>\n      <th>T (degC)</th>\n      <th>Tpot (K)</th>\n      <th>Tdew (degC)</th>\n      <th>rh (%)</th>\n      <th>VPmax (mbar)</th>\n      <th>VPact (mbar)</th>\n      <th>VPdef (mbar)</th>\n      <th>sh (g/kg)</th>\n      <th>H2OC (mmol/mol)</th>\n      <th>rho (g/m**3)</th>\n      <th>wv (m/s)</th>\n      <th>max. wv (m/s)</th>\n      <th>wd (deg)</th>\n    </tr>\n    <tr>\n      <th>Date Time</th>\n      <th></th>\n      <th></th>\n      <th></th>\n      <th></th>\n      <th></th>\n      <th></th>\n      <th></th>\n      <th></th>\n      <th></th>\n      <th></th>\n      <th></th>\n      <th></th>\n      <th></th>\n      <th></th>\n    </tr>\n  </thead>\n  <tbody>\n    <tr>\n      <th>2009-01-01 12:00:00</th>\n      <td>1000.30</td>\n      <td>-6.87</td>\n      <td>266.27</td>\n      <td>-8.28</td>\n      <td>89.6</td>\n      <td>3.64</td>\n      <td>3.27</td>\n      <td>0.38</td>\n      <td>2.03</td>\n      <td>3.26</td>\n      <td>1306.98</td>\n      <td>1.84</td>\n      <td>2.63</td>\n      <td>184.40</td>\n    </tr>\n    <tr>\n      <th>2009-02-01 12:00:00</th>\n      <td>998.91</td>\n      <td>-3.12</td>\n      <td>270.13</td>\n      <td>-4.50</td>\n      <td>90.1</td>\n      <td>4.85</td>\n      <td>4.37</td>\n      <td>0.48</td>\n      <td>2.73</td>\n      <td>4.38</td>\n      <td>1286.47</td>\n      <td>1.54</td>\n      <td>2.00</td>\n      <td>127.00</td>\n    </tr>\n    <tr>\n      <th>2009-03-01 12:00:00</th>\n      <td>999.02</td>\n      <td>-5.96</td>\n      <td>267.28</td>\n      <td>-8.72</td>\n      <td>80.7</td>\n      <td>3.91</td>\n      <td>3.16</td>\n      <td>0.75</td>\n      <td>1.97</td>\n      <td>3.16</td>\n      <td>1300.90</td>\n      <td>1.31</td>\n      <td>1.88</td>\n      <td>213.90</td>\n    </tr>\n    <tr>\n      <th>2009-04-01 12:00:00</th>\n      <td>988.94</td>\n      <td>-1.21</td>\n      <td>272.82</td>\n      <td>-2.36</td>\n      <td>91.8</td>\n      <td>5.59</td>\n      <td>5.13</td>\n      <td>0.46</td>\n      <td>3.23</td>\n      <td>5.19</td>\n      <td>1264.30</td>\n      <td>1.99</td>\n      <td>3.88</td>\n      <td>225.80</td>\n    </tr>\n    <tr>\n      <th>2009-05-01 12:00:00</th>\n      <td>990.42</td>\n      <td>-3.65</td>\n      <td>270.26</td>\n      <td>-5.54</td>\n      <td>86.6</td>\n      <td>4.66</td>\n      <td>4.04</td>\n      <td>0.62</td>\n      <td>2.54</td>\n      <td>4.08</td>\n      <td>1278.21</td>\n      <td>5.49</td>\n      <td>8.38</td>\n      <td>17.44</td>\n    </tr>\n  </tbody>\n</table>\n</div>"
     },
     "execution_count": 9,
     "metadata": {},
     "output_type": "execute_result"
    }
   ],
   "source": [
    "noon_dt = data.at_time('12:00:00')\n",
    "noon_dt.head(5)"
   ]
  },
  {
   "cell_type": "code",
   "execution_count": 10,
   "metadata": {},
   "outputs": [
    {
     "data": {
      "text/plain": "(2921, 14)"
     },
     "execution_count": 10,
     "metadata": {},
     "output_type": "execute_result"
    }
   ],
   "source": [
    "noon_dt.shape"
   ]
  },
  {
   "cell_type": "markdown",
   "metadata": {},
   "source": [
    "**Concatenate Midnight and Noon Dataframes**"
   ]
  },
  {
   "cell_type": "code",
   "execution_count": 11,
   "metadata": {},
   "outputs": [
    {
     "data": {
      "text/plain": "            p (mbar)  T (degC)  Tpot (K)  Tdew (degC)  rh (%)  VPmax (mbar)  \\\nDate Time                                                                     \n2009-02-01    999.59     -4.54    268.65        -5.46    93.2          4.36   \n2009-03-01   1002.32     -4.71    268.27        -6.09    90.0          4.30   \n2009-04-01    992.93     -1.90    271.81        -6.39    71.2          5.31   \n2009-05-01    985.07     -1.47    272.86        -2.45    93.0          5.48   \n2009-06-01    997.60    -12.63    260.71       -15.07    81.8          2.31   \n\n            VPact (mbar)  VPdef (mbar)  sh (g/kg)  H2OC (mmol/mol)  \\\nDate Time                                                            \n2009-02-01          4.06          0.30       2.53             4.06   \n2009-03-01          3.87          0.43       2.41             3.86   \n2009-04-01          3.78          1.53       2.37             3.81   \n2009-05-01          5.10          0.38       3.23             5.18   \n2009-06-01          1.89          0.42       1.18             1.89   \n\n            rho (g/m**3)  wv (m/s)  max. wv (m/s)  wd (deg)  \nDate Time                                                    \n2009-02-01       1294.33      0.41           0.88    155.00  \n2009-03-01       1298.79      1.42           1.88     16.85  \n2009-04-01       1273.31      1.47           2.50    147.60  \n2009-05-01       1260.58      1.42           3.00    239.80  \n2009-06-01       1332.96      1.60           2.63    355.50  ",
      "text/html": "<div>\n<style scoped>\n    .dataframe tbody tr th:only-of-type {\n        vertical-align: middle;\n    }\n\n    .dataframe tbody tr th {\n        vertical-align: top;\n    }\n\n    .dataframe thead th {\n        text-align: right;\n    }\n</style>\n<table border=\"1\" class=\"dataframe\">\n  <thead>\n    <tr style=\"text-align: right;\">\n      <th></th>\n      <th>p (mbar)</th>\n      <th>T (degC)</th>\n      <th>Tpot (K)</th>\n      <th>Tdew (degC)</th>\n      <th>rh (%)</th>\n      <th>VPmax (mbar)</th>\n      <th>VPact (mbar)</th>\n      <th>VPdef (mbar)</th>\n      <th>sh (g/kg)</th>\n      <th>H2OC (mmol/mol)</th>\n      <th>rho (g/m**3)</th>\n      <th>wv (m/s)</th>\n      <th>max. wv (m/s)</th>\n      <th>wd (deg)</th>\n    </tr>\n    <tr>\n      <th>Date Time</th>\n      <th></th>\n      <th></th>\n      <th></th>\n      <th></th>\n      <th></th>\n      <th></th>\n      <th></th>\n      <th></th>\n      <th></th>\n      <th></th>\n      <th></th>\n      <th></th>\n      <th></th>\n      <th></th>\n    </tr>\n  </thead>\n  <tbody>\n    <tr>\n      <th>2009-02-01</th>\n      <td>999.59</td>\n      <td>-4.54</td>\n      <td>268.65</td>\n      <td>-5.46</td>\n      <td>93.2</td>\n      <td>4.36</td>\n      <td>4.06</td>\n      <td>0.30</td>\n      <td>2.53</td>\n      <td>4.06</td>\n      <td>1294.33</td>\n      <td>0.41</td>\n      <td>0.88</td>\n      <td>155.00</td>\n    </tr>\n    <tr>\n      <th>2009-03-01</th>\n      <td>1002.32</td>\n      <td>-4.71</td>\n      <td>268.27</td>\n      <td>-6.09</td>\n      <td>90.0</td>\n      <td>4.30</td>\n      <td>3.87</td>\n      <td>0.43</td>\n      <td>2.41</td>\n      <td>3.86</td>\n      <td>1298.79</td>\n      <td>1.42</td>\n      <td>1.88</td>\n      <td>16.85</td>\n    </tr>\n    <tr>\n      <th>2009-04-01</th>\n      <td>992.93</td>\n      <td>-1.90</td>\n      <td>271.81</td>\n      <td>-6.39</td>\n      <td>71.2</td>\n      <td>5.31</td>\n      <td>3.78</td>\n      <td>1.53</td>\n      <td>2.37</td>\n      <td>3.81</td>\n      <td>1273.31</td>\n      <td>1.47</td>\n      <td>2.50</td>\n      <td>147.60</td>\n    </tr>\n    <tr>\n      <th>2009-05-01</th>\n      <td>985.07</td>\n      <td>-1.47</td>\n      <td>272.86</td>\n      <td>-2.45</td>\n      <td>93.0</td>\n      <td>5.48</td>\n      <td>5.10</td>\n      <td>0.38</td>\n      <td>3.23</td>\n      <td>5.18</td>\n      <td>1260.58</td>\n      <td>1.42</td>\n      <td>3.00</td>\n      <td>239.80</td>\n    </tr>\n    <tr>\n      <th>2009-06-01</th>\n      <td>997.60</td>\n      <td>-12.63</td>\n      <td>260.71</td>\n      <td>-15.07</td>\n      <td>81.8</td>\n      <td>2.31</td>\n      <td>1.89</td>\n      <td>0.42</td>\n      <td>1.18</td>\n      <td>1.89</td>\n      <td>1332.96</td>\n      <td>1.60</td>\n      <td>2.63</td>\n      <td>355.50</td>\n    </tr>\n  </tbody>\n</table>\n</div>"
     },
     "execution_count": 11,
     "metadata": {},
     "output_type": "execute_result"
    }
   ],
   "source": [
    "midnight_noon_dt = pd.concat([midnight_dt, noon_dt])\n",
    "midnight_noon_dt.head(5)"
   ]
  },
  {
   "cell_type": "code",
   "execution_count": 12,
   "metadata": {},
   "outputs": [
    {
     "data": {
      "text/plain": "(5841, 14)"
     },
     "execution_count": 12,
     "metadata": {},
     "output_type": "execute_result"
    }
   ],
   "source": [
    "midnight_noon_dt.shape"
   ]
  },
  {
   "cell_type": "markdown",
   "metadata": {},
   "source": [
    "#### Scaling and Standardize Data"
   ]
  },
  {
   "cell_type": "markdown",
   "metadata": {},
   "source": [
    "**Scaling**"
   ]
  },
  {
   "cell_type": "code",
   "execution_count": 13,
   "metadata": {},
   "outputs": [],
   "source": [
    "scaler_mm = MinMaxScaler()\n",
    "midnight_mm = scaler_mm.fit_transform(midnight_dt)  # scale midnight dataframe\n",
    "noon_mm = scaler_mm.fit_transform(noon_dt)  # scale noon dataframe\n",
    "midnight_noon_mm = scaler_mm.fit_transform(midnight_noon_dt)  # scale midnight_noon dataframe"
   ]
  },
  {
   "cell_type": "markdown",
   "metadata": {},
   "source": [
    "**Standardize**"
   ]
  },
  {
   "cell_type": "code",
   "execution_count": 14,
   "metadata": {},
   "outputs": [],
   "source": [
    "scaler_ss = StandardScaler()\n",
    "midnight_ss = scaler_ss.fit_transform(midnight_mm)  # midnight array standardization\n",
    "noon_ss = scaler_ss.fit_transform(noon_mm)  # noon array standardization\n",
    "midnight_noon_ss = scaler_ss.fit_transform(midnight_noon_mm)  # midnight_noon array standardization\n",
    "\n",
    "# tranform into dataframe\n",
    "\n",
    "midnight_standard = pd.DataFrame(data=midnight_ss)\n",
    "noon_standard = pd.DataFrame(data=noon_ss)\n",
    "midnight_noon_standard = pd.DataFrame(data=midnight_noon_ss)"
   ]
  },
  {
   "cell_type": "markdown",
   "metadata": {},
   "source": [
    "### Inspect the Transformed Data"
   ]
  },
  {
   "cell_type": "markdown",
   "metadata": {},
   "source": [
    "**Midnight**"
   ]
  },
  {
   "cell_type": "code",
   "execution_count": 15,
   "metadata": {},
   "outputs": [
    {
     "data": {
      "text/plain": "                 0             1             2             3             4   \\\ncount  2.920000e+03  2.920000e+03  2.920000e+03  2.920000e+03  2.920000e+03   \nmean  -2.551232e-16 -9.596585e-17  3.883499e-16 -3.115468e-16 -4.194894e-16   \nstd    1.000171e+00  1.000171e+00  1.000171e+00  1.000171e+00  1.000171e+00   \nmin   -4.800571e+00 -3.962997e+00 -3.977618e+00 -4.154911e+00 -3.602976e+00   \n25%   -5.988251e-01 -7.167003e-01 -7.105331e-01 -7.108891e-01 -6.645349e-01   \n50%    5.379161e-02  7.410371e-02  6.206778e-02  4.989558e-02  1.638223e-01   \n75%    6.511222e-01  7.493471e-01  7.464969e-01  7.510693e-01  8.229452e-01   \nmax    3.089721e+00  2.746358e+00  2.689654e+00  2.451471e+00  1.588953e+00   \n\n                 5             6             7             8             9   \\\ncount  2.920000e+03  2.920000e+03  2.920000e+03  2.920000e+03  2.920000e+03   \nmean   4.615790e-17 -2.343635e-16 -7.136605e-17 -6.440814e-17  1.059274e-16   \nstd    1.000171e+00  1.000171e+00  1.000171e+00  1.000171e+00  1.000171e+00   \nmin   -1.932825e+00 -2.060051e+00 -1.041887e+00 -2.054028e+00 -2.060453e+00   \n25%   -7.996005e-01 -8.029810e-01 -7.206797e-01 -7.977200e-01 -7.990527e-01   \n50%   -1.352341e-01 -1.490627e-01 -3.280931e-01 -1.567075e-01 -1.540186e-01   \n75%    6.445366e-01  6.644068e-01  4.035456e-01  6.595596e-01  6.612327e-01   \nmax    4.703598e+00  3.853014e+00  8.786162e+00  3.900816e+00  3.881028e+00   \n\n                 10            11            12            13  \ncount  2.920000e+03  2.920000e+03  2.920000e+03  2.920000e+03  \nmean  -1.758107e-16 -1.915515e-16 -4.210863e-17 -1.250201e-16  \nstd    1.000171e+00  1.000171e+00  1.000171e+00  1.000171e+00  \nmin   -2.489856e+00 -1.292278e+00 -1.423940e+00 -2.250939e+00  \n25%   -7.410520e-01 -7.004383e-01 -6.872266e-01 -2.964860e-01  \n50%   -1.163998e-01 -2.643462e-01 -2.662476e-01  2.507362e-01  \n75%    6.663535e-01  4.287288e-01  4.283678e-01  6.161632e-01  \nmax    4.392946e+00  7.250455e+00  7.069311e+00  2.152548e+00  ",
      "text/html": "<div>\n<style scoped>\n    .dataframe tbody tr th:only-of-type {\n        vertical-align: middle;\n    }\n\n    .dataframe tbody tr th {\n        vertical-align: top;\n    }\n\n    .dataframe thead th {\n        text-align: right;\n    }\n</style>\n<table border=\"1\" class=\"dataframe\">\n  <thead>\n    <tr style=\"text-align: right;\">\n      <th></th>\n      <th>0</th>\n      <th>1</th>\n      <th>2</th>\n      <th>3</th>\n      <th>4</th>\n      <th>5</th>\n      <th>6</th>\n      <th>7</th>\n      <th>8</th>\n      <th>9</th>\n      <th>10</th>\n      <th>11</th>\n      <th>12</th>\n      <th>13</th>\n    </tr>\n  </thead>\n  <tbody>\n    <tr>\n      <th>count</th>\n      <td>2.920000e+03</td>\n      <td>2.920000e+03</td>\n      <td>2.920000e+03</td>\n      <td>2.920000e+03</td>\n      <td>2.920000e+03</td>\n      <td>2.920000e+03</td>\n      <td>2.920000e+03</td>\n      <td>2.920000e+03</td>\n      <td>2.920000e+03</td>\n      <td>2.920000e+03</td>\n      <td>2.920000e+03</td>\n      <td>2.920000e+03</td>\n      <td>2.920000e+03</td>\n      <td>2.920000e+03</td>\n    </tr>\n    <tr>\n      <th>mean</th>\n      <td>-2.551232e-16</td>\n      <td>-9.596585e-17</td>\n      <td>3.883499e-16</td>\n      <td>-3.115468e-16</td>\n      <td>-4.194894e-16</td>\n      <td>4.615790e-17</td>\n      <td>-2.343635e-16</td>\n      <td>-7.136605e-17</td>\n      <td>-6.440814e-17</td>\n      <td>1.059274e-16</td>\n      <td>-1.758107e-16</td>\n      <td>-1.915515e-16</td>\n      <td>-4.210863e-17</td>\n      <td>-1.250201e-16</td>\n    </tr>\n    <tr>\n      <th>std</th>\n      <td>1.000171e+00</td>\n      <td>1.000171e+00</td>\n      <td>1.000171e+00</td>\n      <td>1.000171e+00</td>\n      <td>1.000171e+00</td>\n      <td>1.000171e+00</td>\n      <td>1.000171e+00</td>\n      <td>1.000171e+00</td>\n      <td>1.000171e+00</td>\n      <td>1.000171e+00</td>\n      <td>1.000171e+00</td>\n      <td>1.000171e+00</td>\n      <td>1.000171e+00</td>\n      <td>1.000171e+00</td>\n    </tr>\n    <tr>\n      <th>min</th>\n      <td>-4.800571e+00</td>\n      <td>-3.962997e+00</td>\n      <td>-3.977618e+00</td>\n      <td>-4.154911e+00</td>\n      <td>-3.602976e+00</td>\n      <td>-1.932825e+00</td>\n      <td>-2.060051e+00</td>\n      <td>-1.041887e+00</td>\n      <td>-2.054028e+00</td>\n      <td>-2.060453e+00</td>\n      <td>-2.489856e+00</td>\n      <td>-1.292278e+00</td>\n      <td>-1.423940e+00</td>\n      <td>-2.250939e+00</td>\n    </tr>\n    <tr>\n      <th>25%</th>\n      <td>-5.988251e-01</td>\n      <td>-7.167003e-01</td>\n      <td>-7.105331e-01</td>\n      <td>-7.108891e-01</td>\n      <td>-6.645349e-01</td>\n      <td>-7.996005e-01</td>\n      <td>-8.029810e-01</td>\n      <td>-7.206797e-01</td>\n      <td>-7.977200e-01</td>\n      <td>-7.990527e-01</td>\n      <td>-7.410520e-01</td>\n      <td>-7.004383e-01</td>\n      <td>-6.872266e-01</td>\n      <td>-2.964860e-01</td>\n    </tr>\n    <tr>\n      <th>50%</th>\n      <td>5.379161e-02</td>\n      <td>7.410371e-02</td>\n      <td>6.206778e-02</td>\n      <td>4.989558e-02</td>\n      <td>1.638223e-01</td>\n      <td>-1.352341e-01</td>\n      <td>-1.490627e-01</td>\n      <td>-3.280931e-01</td>\n      <td>-1.567075e-01</td>\n      <td>-1.540186e-01</td>\n      <td>-1.163998e-01</td>\n      <td>-2.643462e-01</td>\n      <td>-2.662476e-01</td>\n      <td>2.507362e-01</td>\n    </tr>\n    <tr>\n      <th>75%</th>\n      <td>6.511222e-01</td>\n      <td>7.493471e-01</td>\n      <td>7.464969e-01</td>\n      <td>7.510693e-01</td>\n      <td>8.229452e-01</td>\n      <td>6.445366e-01</td>\n      <td>6.644068e-01</td>\n      <td>4.035456e-01</td>\n      <td>6.595596e-01</td>\n      <td>6.612327e-01</td>\n      <td>6.663535e-01</td>\n      <td>4.287288e-01</td>\n      <td>4.283678e-01</td>\n      <td>6.161632e-01</td>\n    </tr>\n    <tr>\n      <th>max</th>\n      <td>3.089721e+00</td>\n      <td>2.746358e+00</td>\n      <td>2.689654e+00</td>\n      <td>2.451471e+00</td>\n      <td>1.588953e+00</td>\n      <td>4.703598e+00</td>\n      <td>3.853014e+00</td>\n      <td>8.786162e+00</td>\n      <td>3.900816e+00</td>\n      <td>3.881028e+00</td>\n      <td>4.392946e+00</td>\n      <td>7.250455e+00</td>\n      <td>7.069311e+00</td>\n      <td>2.152548e+00</td>\n    </tr>\n  </tbody>\n</table>\n</div>"
     },
     "execution_count": 15,
     "metadata": {},
     "output_type": "execute_result"
    }
   ],
   "source": [
    "midnight_standard.describe()"
   ]
  },
  {
   "cell_type": "markdown",
   "metadata": {},
   "source": [
    "**Noon**"
   ]
  },
  {
   "cell_type": "code",
   "execution_count": 16,
   "metadata": {},
   "outputs": [
    {
     "data": {
      "text/plain": "                 0             1             2             3             4   \\\ncount  2.921000e+03  2.921000e+03  2.921000e+03  2.921000e+03  2.921000e+03   \nmean  -2.555679e-16  2.356516e-16 -1.676927e-16 -2.690229e-16 -2.419040e-16   \nstd    1.000171e+00  1.000171e+00  1.000171e+00  1.000171e+00  1.000171e+00   \nmin   -4.915930e+00 -3.189113e+00 -3.198481e+00 -3.600519e+00 -2.855751e+00   \n25%   -5.914752e-01 -7.363670e-01 -7.283617e-01 -6.857810e-01 -7.784728e-01   \n50%    5.368164e-02  3.407577e-02  2.199745e-02  4.328015e-02 -8.799387e-03   \n75%    6.583674e-01  7.626590e-01  7.521374e-01  7.437211e-01  7.728814e-01   \nmax    3.016404e+00  2.684806e+00  2.679707e+00  2.453400e+00  1.961613e+00   \n\n                 5             6             7             8             9   \\\ncount  2.921000e+03  2.921000e+03  2.921000e+03  2.921000e+03  2.921000e+03   \nmean   5.754460e-17  1.603191e-16  1.584567e-16  1.804635e-16 -1.616114e-16   \nstd    1.000171e+00  1.000171e+00  1.000171e+00  1.000171e+00  1.000171e+00   \nmin   -1.591887e+00 -1.981581e+00 -1.063758e+00 -1.974812e+00 -1.978463e+00   \n25%   -7.869344e-01 -7.816314e-01 -7.725293e-01 -7.857901e-01 -7.857047e-01   \n50%   -2.042698e-01 -1.530862e-01 -3.218178e-01 -1.481441e-01 -1.481554e-01   \n75%    6.051737e-01  6.540231e-01  5.119984e-01  6.582904e-01  6.587797e-01   \nmax    4.688316e+00  3.820558e+00  6.132024e+00  3.861524e+00  3.841821e+00   \n\n                 10            11            12            13  \ncount  2.921000e+03  2.921000e+03  2.921000e+03  2.921000e+03  \nmean   2.658302e-16  8.088227e-16 -3.728666e-15  2.492776e-16  \nstd    1.000171e+00  1.000171e+00  1.000171e+00  1.000171e+00  \nmin   -2.374676e+00 -5.403462e+01 -5.403188e+01 -1.909458e+00  \n25%   -7.414416e-01  1.158403e-02  8.106453e-03 -9.569117e-01  \n50%   -7.819166e-02  1.661000e-02  1.631886e-02  2.161521e-01  \n75%    6.912075e-01  2.352746e-02  2.588198e-02  6.890150e-01  \nmax    3.725613e+00  6.773433e-02  9.255372e-02  2.180352e+00  ",
      "text/html": "<div>\n<style scoped>\n    .dataframe tbody tr th:only-of-type {\n        vertical-align: middle;\n    }\n\n    .dataframe tbody tr th {\n        vertical-align: top;\n    }\n\n    .dataframe thead th {\n        text-align: right;\n    }\n</style>\n<table border=\"1\" class=\"dataframe\">\n  <thead>\n    <tr style=\"text-align: right;\">\n      <th></th>\n      <th>0</th>\n      <th>1</th>\n      <th>2</th>\n      <th>3</th>\n      <th>4</th>\n      <th>5</th>\n      <th>6</th>\n      <th>7</th>\n      <th>8</th>\n      <th>9</th>\n      <th>10</th>\n      <th>11</th>\n      <th>12</th>\n      <th>13</th>\n    </tr>\n  </thead>\n  <tbody>\n    <tr>\n      <th>count</th>\n      <td>2.921000e+03</td>\n      <td>2.921000e+03</td>\n      <td>2.921000e+03</td>\n      <td>2.921000e+03</td>\n      <td>2.921000e+03</td>\n      <td>2.921000e+03</td>\n      <td>2.921000e+03</td>\n      <td>2.921000e+03</td>\n      <td>2.921000e+03</td>\n      <td>2.921000e+03</td>\n      <td>2.921000e+03</td>\n      <td>2.921000e+03</td>\n      <td>2.921000e+03</td>\n      <td>2.921000e+03</td>\n    </tr>\n    <tr>\n      <th>mean</th>\n      <td>-2.555679e-16</td>\n      <td>2.356516e-16</td>\n      <td>-1.676927e-16</td>\n      <td>-2.690229e-16</td>\n      <td>-2.419040e-16</td>\n      <td>5.754460e-17</td>\n      <td>1.603191e-16</td>\n      <td>1.584567e-16</td>\n      <td>1.804635e-16</td>\n      <td>-1.616114e-16</td>\n      <td>2.658302e-16</td>\n      <td>8.088227e-16</td>\n      <td>-3.728666e-15</td>\n      <td>2.492776e-16</td>\n    </tr>\n    <tr>\n      <th>std</th>\n      <td>1.000171e+00</td>\n      <td>1.000171e+00</td>\n      <td>1.000171e+00</td>\n      <td>1.000171e+00</td>\n      <td>1.000171e+00</td>\n      <td>1.000171e+00</td>\n      <td>1.000171e+00</td>\n      <td>1.000171e+00</td>\n      <td>1.000171e+00</td>\n      <td>1.000171e+00</td>\n      <td>1.000171e+00</td>\n      <td>1.000171e+00</td>\n      <td>1.000171e+00</td>\n      <td>1.000171e+00</td>\n    </tr>\n    <tr>\n      <th>min</th>\n      <td>-4.915930e+00</td>\n      <td>-3.189113e+00</td>\n      <td>-3.198481e+00</td>\n      <td>-3.600519e+00</td>\n      <td>-2.855751e+00</td>\n      <td>-1.591887e+00</td>\n      <td>-1.981581e+00</td>\n      <td>-1.063758e+00</td>\n      <td>-1.974812e+00</td>\n      <td>-1.978463e+00</td>\n      <td>-2.374676e+00</td>\n      <td>-5.403462e+01</td>\n      <td>-5.403188e+01</td>\n      <td>-1.909458e+00</td>\n    </tr>\n    <tr>\n      <th>25%</th>\n      <td>-5.914752e-01</td>\n      <td>-7.363670e-01</td>\n      <td>-7.283617e-01</td>\n      <td>-6.857810e-01</td>\n      <td>-7.784728e-01</td>\n      <td>-7.869344e-01</td>\n      <td>-7.816314e-01</td>\n      <td>-7.725293e-01</td>\n      <td>-7.857901e-01</td>\n      <td>-7.857047e-01</td>\n      <td>-7.414416e-01</td>\n      <td>1.158403e-02</td>\n      <td>8.106453e-03</td>\n      <td>-9.569117e-01</td>\n    </tr>\n    <tr>\n      <th>50%</th>\n      <td>5.368164e-02</td>\n      <td>3.407577e-02</td>\n      <td>2.199745e-02</td>\n      <td>4.328015e-02</td>\n      <td>-8.799387e-03</td>\n      <td>-2.042698e-01</td>\n      <td>-1.530862e-01</td>\n      <td>-3.218178e-01</td>\n      <td>-1.481441e-01</td>\n      <td>-1.481554e-01</td>\n      <td>-7.819166e-02</td>\n      <td>1.661000e-02</td>\n      <td>1.631886e-02</td>\n      <td>2.161521e-01</td>\n    </tr>\n    <tr>\n      <th>75%</th>\n      <td>6.583674e-01</td>\n      <td>7.626590e-01</td>\n      <td>7.521374e-01</td>\n      <td>7.437211e-01</td>\n      <td>7.728814e-01</td>\n      <td>6.051737e-01</td>\n      <td>6.540231e-01</td>\n      <td>5.119984e-01</td>\n      <td>6.582904e-01</td>\n      <td>6.587797e-01</td>\n      <td>6.912075e-01</td>\n      <td>2.352746e-02</td>\n      <td>2.588198e-02</td>\n      <td>6.890150e-01</td>\n    </tr>\n    <tr>\n      <th>max</th>\n      <td>3.016404e+00</td>\n      <td>2.684806e+00</td>\n      <td>2.679707e+00</td>\n      <td>2.453400e+00</td>\n      <td>1.961613e+00</td>\n      <td>4.688316e+00</td>\n      <td>3.820558e+00</td>\n      <td>6.132024e+00</td>\n      <td>3.861524e+00</td>\n      <td>3.841821e+00</td>\n      <td>3.725613e+00</td>\n      <td>6.773433e-02</td>\n      <td>9.255372e-02</td>\n      <td>2.180352e+00</td>\n    </tr>\n  </tbody>\n</table>\n</div>"
     },
     "execution_count": 16,
     "metadata": {},
     "output_type": "execute_result"
    }
   ],
   "source": [
    "noon_standard.describe()"
   ]
  },
  {
   "cell_type": "markdown",
   "metadata": {},
   "source": [
    "**Midnight and Noon**"
   ]
  },
  {
   "cell_type": "code",
   "execution_count": 17,
   "metadata": {},
   "outputs": [
    {
     "data": {
      "text/plain": "                 0             1             2             3             4   \\\ncount  5.841000e+03  5.841000e+03  5.841000e+03  5.841000e+03  5.841000e+03   \nmean  -1.224077e-16  2.190414e-16 -3.293224e-16 -7.365373e-16 -5.175529e-16   \nstd    1.000086e+00  1.000086e+00  1.000086e+00  1.000086e+00  1.000086e+00   \nmin   -4.944522e+00 -3.706323e+00 -3.729038e+00 -4.204700e+00 -3.431259e+00   \n25%   -5.945187e-01 -7.248252e-01 -7.168036e-01 -7.078306e-01 -7.009745e-01   \n50%    5.253983e-02  1.574811e-02  1.246165e-02  4.395901e-02  1.596113e-01   \n75%    6.541488e-01  7.191127e-01  7.155543e-01  7.508209e-01  8.273610e-01   \nmax    3.079721e+00  3.076464e+00  3.065145e+00  2.468555e+00  1.576239e+00   \n\n                 5             6             7             8             9   \\\ncount  5.841000e+03  5.841000e+03  5.841000e+03  5.841000e+03  5.841000e+03   \nmean  -6.047019e-16 -3.866488e-16 -3.628515e-17  3.257871e-17 -4.045158e-16   \nstd    1.000086e+00  1.000086e+00  1.000086e+00  1.000086e+00  1.000086e+00   \nmin   -1.652972e+00 -2.072369e+00 -8.878649e-01 -2.066101e+00 -2.072735e+00   \n25%   -7.600097e-01 -7.990676e-01 -6.761826e-01 -7.965500e-01 -7.955283e-01   \n50%   -2.080913e-01 -1.540243e-01 -3.659947e-01 -1.542175e-01 -1.510011e-01   \n75%    5.377796e-01  6.636701e-01  3.172570e-01  6.619226e-01  6.617666e-01   \nmax    5.698998e+00  3.876897e+00  7.812067e+00  3.918926e+00  3.898620e+00   \n\n                 10            11            12            13  \ncount  5.841000e+03  5.841000e+03  5.841000e+03  5.841000e+03  \nmean  -3.942138e-17 -1.262178e-16  4.462085e-15 -1.492842e-16  \nstd    1.000086e+00  1.000086e+00  1.000086e+00  1.000086e+00  \nmin   -2.670968e+00 -7.641374e+01 -7.640575e+01 -2.063405e+00  \n25%   -7.243956e-01  3.761278e-03 -1.548452e-03 -5.656251e-01  \n50%   -6.227705e-02  9.951046e-03  8.841563e-03  2.776821e-01  \n75%    6.479863e-01  1.896824e-02  2.320423e-02  6.565253e-01  \nmax    4.225403e+00  8.759060e-02  1.264168e-01  2.156650e+00  ",
      "text/html": "<div>\n<style scoped>\n    .dataframe tbody tr th:only-of-type {\n        vertical-align: middle;\n    }\n\n    .dataframe tbody tr th {\n        vertical-align: top;\n    }\n\n    .dataframe thead th {\n        text-align: right;\n    }\n</style>\n<table border=\"1\" class=\"dataframe\">\n  <thead>\n    <tr style=\"text-align: right;\">\n      <th></th>\n      <th>0</th>\n      <th>1</th>\n      <th>2</th>\n      <th>3</th>\n      <th>4</th>\n      <th>5</th>\n      <th>6</th>\n      <th>7</th>\n      <th>8</th>\n      <th>9</th>\n      <th>10</th>\n      <th>11</th>\n      <th>12</th>\n      <th>13</th>\n    </tr>\n  </thead>\n  <tbody>\n    <tr>\n      <th>count</th>\n      <td>5.841000e+03</td>\n      <td>5.841000e+03</td>\n      <td>5.841000e+03</td>\n      <td>5.841000e+03</td>\n      <td>5.841000e+03</td>\n      <td>5.841000e+03</td>\n      <td>5.841000e+03</td>\n      <td>5.841000e+03</td>\n      <td>5.841000e+03</td>\n      <td>5.841000e+03</td>\n      <td>5.841000e+03</td>\n      <td>5.841000e+03</td>\n      <td>5.841000e+03</td>\n      <td>5.841000e+03</td>\n    </tr>\n    <tr>\n      <th>mean</th>\n      <td>-1.224077e-16</td>\n      <td>2.190414e-16</td>\n      <td>-3.293224e-16</td>\n      <td>-7.365373e-16</td>\n      <td>-5.175529e-16</td>\n      <td>-6.047019e-16</td>\n      <td>-3.866488e-16</td>\n      <td>-3.628515e-17</td>\n      <td>3.257871e-17</td>\n      <td>-4.045158e-16</td>\n      <td>-3.942138e-17</td>\n      <td>-1.262178e-16</td>\n      <td>4.462085e-15</td>\n      <td>-1.492842e-16</td>\n    </tr>\n    <tr>\n      <th>std</th>\n      <td>1.000086e+00</td>\n      <td>1.000086e+00</td>\n      <td>1.000086e+00</td>\n      <td>1.000086e+00</td>\n      <td>1.000086e+00</td>\n      <td>1.000086e+00</td>\n      <td>1.000086e+00</td>\n      <td>1.000086e+00</td>\n      <td>1.000086e+00</td>\n      <td>1.000086e+00</td>\n      <td>1.000086e+00</td>\n      <td>1.000086e+00</td>\n      <td>1.000086e+00</td>\n      <td>1.000086e+00</td>\n    </tr>\n    <tr>\n      <th>min</th>\n      <td>-4.944522e+00</td>\n      <td>-3.706323e+00</td>\n      <td>-3.729038e+00</td>\n      <td>-4.204700e+00</td>\n      <td>-3.431259e+00</td>\n      <td>-1.652972e+00</td>\n      <td>-2.072369e+00</td>\n      <td>-8.878649e-01</td>\n      <td>-2.066101e+00</td>\n      <td>-2.072735e+00</td>\n      <td>-2.670968e+00</td>\n      <td>-7.641374e+01</td>\n      <td>-7.640575e+01</td>\n      <td>-2.063405e+00</td>\n    </tr>\n    <tr>\n      <th>25%</th>\n      <td>-5.945187e-01</td>\n      <td>-7.248252e-01</td>\n      <td>-7.168036e-01</td>\n      <td>-7.078306e-01</td>\n      <td>-7.009745e-01</td>\n      <td>-7.600097e-01</td>\n      <td>-7.990676e-01</td>\n      <td>-6.761826e-01</td>\n      <td>-7.965500e-01</td>\n      <td>-7.955283e-01</td>\n      <td>-7.243956e-01</td>\n      <td>3.761278e-03</td>\n      <td>-1.548452e-03</td>\n      <td>-5.656251e-01</td>\n    </tr>\n    <tr>\n      <th>50%</th>\n      <td>5.253983e-02</td>\n      <td>1.574811e-02</td>\n      <td>1.246165e-02</td>\n      <td>4.395901e-02</td>\n      <td>1.596113e-01</td>\n      <td>-2.080913e-01</td>\n      <td>-1.540243e-01</td>\n      <td>-3.659947e-01</td>\n      <td>-1.542175e-01</td>\n      <td>-1.510011e-01</td>\n      <td>-6.227705e-02</td>\n      <td>9.951046e-03</td>\n      <td>8.841563e-03</td>\n      <td>2.776821e-01</td>\n    </tr>\n    <tr>\n      <th>75%</th>\n      <td>6.541488e-01</td>\n      <td>7.191127e-01</td>\n      <td>7.155543e-01</td>\n      <td>7.508209e-01</td>\n      <td>8.273610e-01</td>\n      <td>5.377796e-01</td>\n      <td>6.636701e-01</td>\n      <td>3.172570e-01</td>\n      <td>6.619226e-01</td>\n      <td>6.617666e-01</td>\n      <td>6.479863e-01</td>\n      <td>1.896824e-02</td>\n      <td>2.320423e-02</td>\n      <td>6.565253e-01</td>\n    </tr>\n    <tr>\n      <th>max</th>\n      <td>3.079721e+00</td>\n      <td>3.076464e+00</td>\n      <td>3.065145e+00</td>\n      <td>2.468555e+00</td>\n      <td>1.576239e+00</td>\n      <td>5.698998e+00</td>\n      <td>3.876897e+00</td>\n      <td>7.812067e+00</td>\n      <td>3.918926e+00</td>\n      <td>3.898620e+00</td>\n      <td>4.225403e+00</td>\n      <td>8.759060e-02</td>\n      <td>1.264168e-01</td>\n      <td>2.156650e+00</td>\n    </tr>\n  </tbody>\n</table>\n</div>"
     },
     "execution_count": 17,
     "metadata": {},
     "output_type": "execute_result"
    }
   ],
   "source": [
    "midnight_noon_standard.describe()"
   ]
  },
  {
   "cell_type": "markdown",
   "metadata": {},
   "source": [
    "### 0.4. Functions Definition"
   ]
  },
  {
   "cell_type": "markdown",
   "metadata": {},
   "source": [
    "## Objective 1 - Cluster the Data at Noon and Midnight"
   ]
  },
  {
   "cell_type": "markdown",
   "metadata": {},
   "source": [
    "### 1.1. Rows collected at Noon"
   ]
  },
  {
   "cell_type": "markdown",
   "metadata": {},
   "source": [
    "**1.1.1. The Elbow Method**"
   ]
  },
  {
   "cell_type": "code",
   "execution_count": 42,
   "metadata": {},
   "outputs": [],
   "source": [
    "def avgDist(X, labels):\n",
    "    D = pdist(X, metric='euclidean')\n",
    "    dmatrix = squareform(D, checks=True)\n",
    "    N = len(labels)\n",
    "    L = list(set(labels))\n",
    "    L.sort()\n",
    "    result = 0\n",
    "    for i in L:\n",
    "        Nc = sum(labels == i)\n",
    "        S = 0\n",
    "        if Nc > 1: S = np.sum(dmatrix[labels == i, :][:, labels == i]) / (Nc * (Nc - 1))\n",
    "        result += S * Nc / N\n",
    "    return result\n",
    "\n",
    "\n",
    "ads = []  # average euclidean distance\n",
    "KS = [2, 4, 8, 16, 32, 64, 128, 256, 512, 1024]  # considered number of clusters\n",
    "for K in KS:\n",
    "    #kms = KMeans(n_clusters=K).fit(noon_standard)\n",
    "    hac = AgglomerativeClustering(n_clusters=K).fit(noon_standard)\n",
    "    ad = avgDist(noon_standard, hac.labels_)\n",
    "    #print(\"%3d --> %7.4f\"% (K, ad))\n",
    "    ads.append(ad)"
   ]
  },
  {
   "cell_type": "code",
   "execution_count": 43,
   "metadata": {},
   "outputs": [
    {
     "data": {
      "text/plain": "<Figure size 432x432 with 1 Axes>",
      "image/png": "[encoded data removed]"
     },
     "metadata": {
      "needs_background": "light"
     },
     "output_type": "display_data"
    }
   ],
   "source": [
    "plt.figure(figsize=(6, 6))\n",
    "plt.plot(KS, ads, \"--o\")\n",
    "plt.ylabel('Average Euclidean Distance')\n",
    "plt.xlabel('Number of Clusters')\n",
    "plt.grid()\n",
    "plt.show()"
   ]
  },
  {
   "cell_type": "code",
   "execution_count": 44,
   "metadata": {},
   "outputs": [
    {
     "name": "stdout",
     "output_type": "stream",
     "text": [
      "Elbow Point: 128\n",
      "Knee Point: 128\n"
     ]
    },
    {
     "data": {
      "text/plain": "<Figure size 432x432 with 1 Axes>",
      "image/png": "[encoded data removed]"
     },
     "metadata": {
      "needs_background": "light"
     },
     "output_type": "display_data"
    }
   ],
   "source": [
    "kl = KneeLocator(KS, ads, curve=\"convex\", direction=\"decreasing\")\n",
    "\n",
    "print(\"Elbow Point:\", kl.elbow)\n",
    "print(\"Knee Point:\", kl.knee)\n",
    "kl.plot_knee()"
   ]
  },
  {
   "cell_type": "code",
   "execution_count": 37,
   "metadata": {},
   "outputs": [],
   "source": [
    "def cluster_analysis(X):\n",
    "    results = []\n",
    "\n",
    "    clusters = [2, 4, 8, 16, 32, 64, 128, 256]  # list with number of clusters\n",
    "    linkage = ['ward', 'complete', 'average', 'single']  # inkage criterion to use\n",
    "\n",
    "    for k in clusters:\n",
    "\n",
    "        kms = KMeans(n_clusters=k, random_state=0).fit(X)\n",
    "        kms_sscore = silhouette_score(X, kms.labels_)\n",
    "        kms_cscore = calinski_harabasz_score(X, kms.labels_)\n",
    "        result_kms = {'Number of Clusters': k, 'Algorithm': 'Kmeans', 'Hyperparameters': '-',\n",
    "                      'Silhouette Score': kms_sscore, 'Calinski Harabasz Score': kms_cscore}\n",
    "        results.append(result_kms)\n",
    "\n",
    "        for l in linkage:\n",
    "            hac = AgglomerativeClustering(linkage=l, n_clusters=k).fit(X)\n",
    "            hac_sscore = silhouette_score(X, hac.labels_)\n",
    "            hac_cscore = calinski_harabasz_score(X, hac.labels_)\n",
    "            result_hac = {'Number of Clusters': k, 'Algorithm': 'Agglomerative Clustering',\n",
    "                          'Hyperparameters': \"linkage: \" + l, 'Silhouette Score': hac_sscore,\n",
    "                          'Calinski Harabasz Score': hac_cscore}\n",
    "            results.append(result_hac)\n",
    "\n",
    "    for eps in np.arange(0.1, 3, 0.5):\n",
    "        for Nmin in range(3, 10):\n",
    "            dbs = DBSCAN(eps=eps, min_samples=Nmin).fit(X)\n",
    "            # We take into account the 'noise' cluster (in DBSCAN it's the first cluster created with id -1),\n",
    "            # and we are only interested in results with more than 1 'real' cluster\n",
    "            unique_labels = len(np.unique(dbs.labels_)) - 1\n",
    "            # We want the cases where 2 or more 'real' clusters were found\n",
    "            if unique_labels > 1:\n",
    "                dbs_cscore = calinski_harabasz_score(X, dbs.labels_ + 1)\n",
    "                dbs_sscore = silhouette_score(X, dbs.labels_ + 1)\n",
    "                result_dbs = {'Number of Clusters': unique_labels, 'Algorithm': 'DBSCAN',\n",
    "                              'Hyperparameters': f'eps={eps}, min_samples={Nmin}', 'Silhouette Score': dbs_sscore,\n",
    "                              'Calinski Harabasz Score': dbs_cscore}\n",
    "                results.append(result_dbs)\n",
    "\n",
    "    cluster_results = pd.DataFrame(data=results)\n",
    "\n",
    "    return cluster_results"
   ]
  },
  {
   "cell_type": "code",
   "execution_count": 38,
   "metadata": {},
   "outputs": [
    {
     "data": {
      "text/plain": "    Number of Clusters                 Algorithm         Hyperparameters  \\\n0                    2                    Kmeans                       -   \n1                    2  Agglomerative Clustering           linkage: ward   \n2                    2  Agglomerative Clustering       linkage: complete   \n3                    2  Agglomerative Clustering        linkage: average   \n4                    2  Agglomerative Clustering         linkage: single   \n5                    4                    Kmeans                       -   \n6                    4  Agglomerative Clustering           linkage: ward   \n7                    4  Agglomerative Clustering       linkage: complete   \n8                    4  Agglomerative Clustering        linkage: average   \n9                    4  Agglomerative Clustering         linkage: single   \n10                   8                    Kmeans                       -   \n11                   8  Agglomerative Clustering           linkage: ward   \n12                   8  Agglomerative Clustering       linkage: complete   \n13                   8  Agglomerative Clustering        linkage: average   \n14                   8  Agglomerative Clustering         linkage: single   \n15                  16                    Kmeans                       -   \n16                  16  Agglomerative Clustering           linkage: ward   \n17                  16  Agglomerative Clustering       linkage: complete   \n18                  16  Agglomerative Clustering        linkage: average   \n19                  16  Agglomerative Clustering         linkage: single   \n20                  32                    Kmeans                       -   \n21                  32  Agglomerative Clustering           linkage: ward   \n22                  32  Agglomerative Clustering       linkage: complete   \n23                  32  Agglomerative Clustering        linkage: average   \n24                  32  Agglomerative Clustering         linkage: single   \n25                  64                    Kmeans                       -   \n26                  64  Agglomerative Clustering           linkage: ward   \n27                  64  Agglomerative Clustering       linkage: complete   \n28                  64  Agglomerative Clustering        linkage: average   \n29                  64  Agglomerative Clustering         linkage: single   \n30                 128                    Kmeans                       -   \n31                 128  Agglomerative Clustering           linkage: ward   \n32                 128  Agglomerative Clustering       linkage: complete   \n33                 128  Agglomerative Clustering        linkage: average   \n34                 128  Agglomerative Clustering         linkage: single   \n35                 256                    Kmeans                       -   \n36                 256  Agglomerative Clustering           linkage: ward   \n37                 256  Agglomerative Clustering       linkage: complete   \n38                 256  Agglomerative Clustering        linkage: average   \n39                 256  Agglomerative Clustering         linkage: single   \n40                  61                    DBSCAN  eps=0.6, min_samples=3   \n41                  36                    DBSCAN  eps=0.6, min_samples=4   \n42                  28                    DBSCAN  eps=0.6, min_samples=5   \n43                  27                    DBSCAN  eps=0.6, min_samples=6   \n44                  24                    DBSCAN  eps=0.6, min_samples=7   \n45                  22                    DBSCAN  eps=0.6, min_samples=8   \n46                  16                    DBSCAN  eps=0.6, min_samples=9   \n47                   3                    DBSCAN  eps=1.1, min_samples=3   \n48                   2                    DBSCAN  eps=1.1, min_samples=4   \n49                   2                    DBSCAN  eps=1.1, min_samples=5   \n50                   2                    DBSCAN  eps=1.1, min_samples=6   \n51                   2                    DBSCAN  eps=1.1, min_samples=7   \n52                   2                    DBSCAN  eps=1.1, min_samples=8   \n53                   2                    DBSCAN  eps=1.1, min_samples=9   \n\n    Silhouette Score  Calinski Harabasz Score  \n0           0.386097              2011.485737  \n1           0.365774              1886.856320  \n2           0.941798               487.563526  \n3           0.941798               487.563526  \n4           0.941798               487.563526  \n5           0.265484              1717.946236  \n6           0.291930              1548.957883  \n7           0.282618              1284.843908  \n8           0.207408               396.601698  \n9           0.287787               167.273790  \n10          0.216632              1363.046204  \n11          0.158925              1143.878056  \n12          0.111512               960.238403  \n13          0.135476               617.476684  \n14          0.132462                74.435942  \n15          0.209944              1048.495168  \n16          0.132983               844.330299  \n17          0.103911               738.917389  \n18          0.091481               551.931173  \n19         -0.118318                40.447676  \n20          0.204267               801.274215  \n21          0.153582               674.931044  \n22          0.090520               565.007547  \n23          0.080555               432.988700  \n24         -0.367778                22.082514  \n25          0.202093               602.770380  \n26          0.148554               523.102599  \n27          0.103674               434.284726  \n28          0.101333               366.266751  \n29         -0.471902                13.265581  \n30          0.200851               453.242046  \n31          0.166577               410.691695  \n32          0.130446               356.244765  \n33          0.123909               312.750309  \n34         -0.537495                 8.196202  \n35          0.208659               352.914313  \n36          0.192967               336.981567  \n37          0.159857               303.192803  \n38          0.173773               280.616893  \n39         -0.572407                 5.905639  \n40         -0.522989                 7.099365  \n41         -0.447836                14.083225  \n42         -0.414866                20.200963  \n43         -0.414277                18.928301  \n44         -0.415455                19.223010  \n45         -0.461380                17.495296  \n46         -0.407716                20.342466  \n47          0.205185                23.743511  \n48          0.349467                28.988698  \n49          0.344013                28.021653  \n50          0.336434                27.788122  \n51          0.327630                28.518670  \n52          0.317097                30.178285  \n53          0.306492                30.900368  ",
      "text/html": "<div>\n<style scoped>\n    .dataframe tbody tr th:only-of-type {\n        vertical-align: middle;\n    }\n\n    .dataframe tbody tr th {\n        vertical-align: top;\n    }\n\n    .dataframe thead th {\n        text-align: right;\n    }\n</style>\n<table border=\"1\" class=\"dataframe\">\n  <thead>\n    <tr style=\"text-align: right;\">\n      <th></th>\n      <th>Number of Clusters</th>\n      <th>Algorithm</th>\n      <th>Hyperparameters</th>\n      <th>Silhouette Score</th>\n      <th>Calinski Harabasz Score</th>\n    </tr>\n  </thead>\n  <tbody>\n    <tr>\n      <th>0</th>\n      <td>2</td>\n      <td>Kmeans</td>\n      <td>-</td>\n      <td>0.386097</td>\n      <td>2011.485737</td>\n    </tr>\n    <tr>\n      <th>1</th>\n      <td>2</td>\n      <td>Agglomerative Clustering</td>\n      <td>linkage: ward</td>\n      <td>0.365774</td>\n      <td>1886.856320</td>\n    </tr>\n    <tr>\n      <th>2</th>\n      <td>2</td>\n      <td>Agglomerative Clustering</td>\n      <td>linkage: complete</td>\n      <td>0.941798</td>\n      <td>487.563526</td>\n    </tr>\n    <tr>\n      <th>3</th>\n      <td>2</td>\n      <td>Agglomerative Clustering</td>\n      <td>linkage: average</td>\n      <td>0.941798</td>\n      <td>487.563526</td>\n    </tr>\n    <tr>\n      <th>4</th>\n      <td>2</td>\n      <td>Agglomerative Clustering</td>\n      <td>linkage: single</td>\n      <td>0.941798</td>\n      <td>487.563526</td>\n    </tr>\n    <tr>\n      <th>5</th>\n      <td>4</td>\n      <td>Kmeans</td>\n      <td>-</td>\n      <td>0.265484</td>\n      <td>1717.946236</td>\n    </tr>\n    <tr>\n      <th>6</th>\n      <td>4</td>\n      <td>Agglomerative Clustering</td>\n      <td>linkage: ward</td>\n      <td>0.291930</td>\n      <td>1548.957883</td>\n    </tr>\n    <tr>\n      <th>7</th>\n      <td>4</td>\n      <td>Agglomerative Clustering</td>\n      <td>linkage: complete</td>\n      <td>0.282618</td>\n      <td>1284.843908</td>\n    </tr>\n    <tr>\n      <th>8</th>\n      <td>4</td>\n      <td>Agglomerative Clustering</td>\n      <td>linkage: average</td>\n      <td>0.207408</td>\n      <td>396.601698</td>\n    </tr>\n    <tr>\n      <th>9</th>\n      <td>4</td>\n      <td>Agglomerative Clustering</td>\n      <td>linkage: single</td>\n      <td>0.287787</td>\n      <td>167.273790</td>\n    </tr>\n    <tr>\n      <th>10</th>\n      <td>8</td>\n      <td>Kmeans</td>\n      <td>-</td>\n      <td>0.216632</td>\n      <td>1363.046204</td>\n    </tr>\n    <tr>\n      <th>11</th>\n      <td>8</td>\n      <td>Agglomerative Clustering</td>\n      <td>linkage: ward</td>\n      <td>0.158925</td>\n      <td>1143.878056</td>\n    </tr>\n    <tr>\n      <th>12</th>\n      <td>8</td>\n      <td>Agglomerative Clustering</td>\n      <td>linkage: complete</td>\n      <td>0.111512</td>\n      <td>960.238403</td>\n    </tr>\n    <tr>\n      <th>13</th>\n      <td>8</td>\n      <td>Agglomerative Clustering</td>\n      <td>linkage: average</td>\n      <td>0.135476</td>\n      <td>617.476684</td>\n    </tr>\n    <tr>\n      <th>14</th>\n      <td>8</td>\n      <td>Agglomerative Clustering</td>\n      <td>linkage: single</td>\n      <td>0.132462</td>\n      <td>74.435942</td>\n    </tr>\n    <tr>\n      <th>15</th>\n      <td>16</td>\n      <td>Kmeans</td>\n      <td>-</td>\n      <td>0.209944</td>\n      <td>1048.495168</td>\n    </tr>\n    <tr>\n      <th>16</th>\n      <td>16</td>\n      <td>Agglomerative Clustering</td>\n      <td>linkage: ward</td>\n      <td>0.132983</td>\n      <td>844.330299</td>\n    </tr>\n    <tr>\n      <th>17</th>\n      <td>16</td>\n      <td>Agglomerative Clustering</td>\n      <td>linkage: complete</td>\n      <td>0.103911</td>\n      <td>738.917389</td>\n    </tr>\n    <tr>\n      <th>18</th>\n      <td>16</td>\n      <td>Agglomerative Clustering</td>\n      <td>linkage: average</td>\n      <td>0.091481</td>\n      <td>551.931173</td>\n    </tr>\n    <tr>\n      <th>19</th>\n      <td>16</td>\n      <td>Agglomerative Clustering</td>\n      <td>linkage: single</td>\n      <td>-0.118318</td>\n      <td>40.447676</td>\n    </tr>\n    <tr>\n      <th>20</th>\n      <td>32</td>\n      <td>Kmeans</td>\n      <td>-</td>\n      <td>0.204267</td>\n      <td>801.274215</td>\n    </tr>\n    <tr>\n      <th>21</th>\n      <td>32</td>\n      <td>Agglomerative Clustering</td>\n      <td>linkage: ward</td>\n      <td>0.153582</td>\n      <td>674.931044</td>\n    </tr>\n    <tr>\n      <th>22</th>\n      <td>32</td>\n      <td>Agglomerative Clustering</td>\n      <td>linkage: complete</td>\n      <td>0.090520</td>\n      <td>565.007547</td>\n    </tr>\n    <tr>\n      <th>23</th>\n      <td>32</td>\n      <td>Agglomerative Clustering</td>\n      <td>linkage: average</td>\n      <td>0.080555</td>\n      <td>432.988700</td>\n    </tr>\n    <tr>\n      <th>24</th>\n      <td>32</td>\n      <td>Agglomerative Clustering</td>\n      <td>linkage: single</td>\n      <td>-0.367778</td>\n      <td>22.082514</td>\n    </tr>\n    <tr>\n      <th>25</th>\n      <td>64</td>\n      <td>Kmeans</td>\n      <td>-</td>\n      <td>0.202093</td>\n      <td>602.770380</td>\n    </tr>\n    <tr>\n      <th>26</th>\n      <td>64</td>\n      <td>Agglomerative Clustering</td>\n      <td>linkage: ward</td>\n      <td>0.148554</td>\n      <td>523.102599</td>\n    </tr>\n    <tr>\n      <th>27</th>\n      <td>64</td>\n      <td>Agglomerative Clustering</td>\n      <td>linkage: complete</td>\n      <td>0.103674</td>\n      <td>434.284726</td>\n    </tr>\n    <tr>\n      <th>28</th>\n      <td>64</td>\n      <td>Agglomerative Clustering</td>\n      <td>linkage: average</td>\n      <td>0.101333</td>\n      <td>366.266751</td>\n    </tr>\n    <tr>\n      <th>29</th>\n      <td>64</td>\n      <td>Agglomerative Clustering</td>\n      <td>linkage: single</td>\n      <td>-0.471902</td>\n      <td>13.265581</td>\n    </tr>\n    <tr>\n      <th>30</th>\n      <td>128</td>\n      <td>Kmeans</td>\n      <td>-</td>\n      <td>0.200851</td>\n      <td>453.242046</td>\n    </tr>\n    <tr>\n      <th>31</th>\n      <td>128</td>\n      <td>Agglomerative Clustering</td>\n      <td>linkage: ward</td>\n      <td>0.166577</td>\n      <td>410.691695</td>\n    </tr>\n    <tr>\n      <th>32</th>\n      <td>128</td>\n      <td>Agglomerative Clustering</td>\n      <td>linkage: complete</td>\n      <td>0.130446</td>\n      <td>356.244765</td>\n    </tr>\n    <tr>\n      <th>33</th>\n      <td>128</td>\n      <td>Agglomerative Clustering</td>\n      <td>linkage: average</td>\n      <td>0.123909</td>\n      <td>312.750309</td>\n    </tr>\n    <tr>\n      <th>34</th>\n      <td>128</td>\n      <td>Agglomerative Clustering</td>\n      <td>linkage: single</td>\n      <td>-0.537495</td>\n      <td>8.196202</td>\n    </tr>\n    <tr>\n      <th>35</th>\n      <td>256</td>\n      <td>Kmeans</td>\n      <td>-</td>\n      <td>0.208659</td>\n      <td>352.914313</td>\n    </tr>\n    <tr>\n      <th>36</th>\n      <td>256</td>\n      <td>Agglomerative Clustering</td>\n      <td>linkage: ward</td>\n      <td>0.192967</td>\n      <td>336.981567</td>\n    </tr>\n    <tr>\n      <th>37</th>\n      <td>256</td>\n      <td>Agglomerative Clustering</td>\n      <td>linkage: complete</td>\n      <td>0.159857</td>\n      <td>303.192803</td>\n    </tr>\n    <tr>\n      <th>38</th>\n      <td>256</td>\n      <td>Agglomerative Clustering</td>\n      <td>linkage: average</td>\n      <td>0.173773</td>\n      <td>280.616893</td>\n    </tr>\n    <tr>\n      <th>39</th>\n      <td>256</td>\n      <td>Agglomerative Clustering</td>\n      <td>linkage: single</td>\n      <td>-0.572407</td>\n      <td>5.905639</td>\n    </tr>\n    <tr>\n      <th>40</th>\n      <td>61</td>\n      <td>DBSCAN</td>\n      <td>eps=0.6, min_samples=3</td>\n      <td>-0.522989</td>\n      <td>7.099365</td>\n    </tr>\n    <tr>\n      <th>41</th>\n      <td>36</td>\n      <td>DBSCAN</td>\n      <td>eps=0.6, min_samples=4</td>\n      <td>-0.447836</td>\n      <td>14.083225</td>\n    </tr>\n    <tr>\n      <th>42</th>\n      <td>28</td>\n      <td>DBSCAN</td>\n      <td>eps=0.6, min_samples=5</td>\n      <td>-0.414866</td>\n      <td>20.200963</td>\n    </tr>\n    <tr>\n      <th>43</th>\n      <td>27</td>\n      <td>DBSCAN</td>\n      <td>eps=0.6, min_samples=6</td>\n      <td>-0.414277</td>\n      <td>18.928301</td>\n    </tr>\n    <tr>\n      <th>44</th>\n      <td>24</td>\n      <td>DBSCAN</td>\n      <td>eps=0.6, min_samples=7</td>\n      <td>-0.415455</td>\n      <td>19.223010</td>\n    </tr>\n    <tr>\n      <th>45</th>\n      <td>22</td>\n      <td>DBSCAN</td>\n      <td>eps=0.6, min_samples=8</td>\n      <td>-0.461380</td>\n      <td>17.495296</td>\n    </tr>\n    <tr>\n      <th>46</th>\n      <td>16</td>\n      <td>DBSCAN</td>\n      <td>eps=0.6, min_samples=9</td>\n      <td>-0.407716</td>\n      <td>20.342466</td>\n    </tr>\n    <tr>\n      <th>47</th>\n      <td>3</td>\n      <td>DBSCAN</td>\n      <td>eps=1.1, min_samples=3</td>\n      <td>0.205185</td>\n      <td>23.743511</td>\n    </tr>\n    <tr>\n      <th>48</th>\n      <td>2</td>\n      <td>DBSCAN</td>\n      <td>eps=1.1, min_samples=4</td>\n      <td>0.349467</td>\n      <td>28.988698</td>\n    </tr>\n    <tr>\n      <th>49</th>\n      <td>2</td>\n      <td>DBSCAN</td>\n      <td>eps=1.1, min_samples=5</td>\n      <td>0.344013</td>\n      <td>28.021653</td>\n    </tr>\n    <tr>\n      <th>50</th>\n      <td>2</td>\n      <td>DBSCAN</td>\n      <td>eps=1.1, min_samples=6</td>\n      <td>0.336434</td>\n      <td>27.788122</td>\n    </tr>\n    <tr>\n      <th>51</th>\n      <td>2</td>\n      <td>DBSCAN</td>\n      <td>eps=1.1, min_samples=7</td>\n      <td>0.327630</td>\n      <td>28.518670</td>\n    </tr>\n    <tr>\n      <th>52</th>\n      <td>2</td>\n      <td>DBSCAN</td>\n      <td>eps=1.1, min_samples=8</td>\n      <td>0.317097</td>\n      <td>30.178285</td>\n    </tr>\n    <tr>\n      <th>53</th>\n      <td>2</td>\n      <td>DBSCAN</td>\n      <td>eps=1.1, min_samples=9</td>\n      <td>0.306492</td>\n      <td>30.900368</td>\n    </tr>\n  </tbody>\n</table>\n</div>"
     },
     "execution_count": 38,
     "metadata": {},
     "output_type": "execute_result"
    }
   ],
   "source": [
    "cluster_analysis_results = cluster_analysis(noon_standard)\n",
    "cluster_analysis_results"
   ]
  },
  {
   "cell_type": "markdown",
   "metadata": {},
   "source": [
    "### 1.2. Rows collected at Noon and Midnight"
   ]
  },
  {
   "cell_type": "markdown",
   "metadata": {},
   "source": [
    "## Objective 2 - Cluster all the data"
   ]
  }
 ],
 "metadata": {
  "interpreter": {
   "hash": "15b211d7ad94b52292045efb4f8f9084eab8b035832c108b93ce5f33d27f5980"
  },
  "kernelspec": {
   "display_name": "Python 3.8.8 ('base')",
   "language": "python",
   "name": "python3"
  },
  "language_info": {
   "codemirror_mode": {
    "name": "ipython",
    "version": 3
   },
   "file_extension": ".py",
   "mimetype": "text/x-python",
   "name": "python",
   "nbconvert_exporter": "python",
   "pygments_lexer": "ipython3",
   "version": "3.8.8"
  },
  "orig_nbformat": 4
 },
 "nbformat": 4,
 "nbformat_minor": 2
}